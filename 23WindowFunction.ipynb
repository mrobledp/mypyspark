{
 "cells": [
  {
   "cell_type": "raw",
   "id": "ca0057b6-f8f3-4d04-9855-eaf1e3edb23b",
   "metadata": {},
   "source": [
    "### Probando con datos\n",
    "import pyspark\n",
    "from pyspark.sql import SparkSession\n",
    "from pyspark.conf import SparkConf\n",
    "\n",
    "conf = (SparkConf().set(\"spark.executor.memory\", \"6g\")\n",
    "                    .set(\"spark.executor.cores\", \"3\")\n",
    "                    .set(\"spark.executor.instances\", \"2\")\n",
    "                    .set(\"spark.eventLog.enabled\", \"true\"))\n",
    "spark = SparkSession.builder.master(\"spark://spark-master:7077\").appName(\"ContratosReadParquet\").config(conf=conf).getOrCreate()\n",
    "spark"
   ]
  },
  {
   "cell_type": "code",
   "execution_count": 2,
   "id": "821c805d-ae05-4e05-8144-dde6d1ed4bf9",
   "metadata": {},
   "outputs": [
    {
     "name": "stdout",
     "output_type": "stream",
     "text": [
      "Inicio: Sun Nov  6 18:11:28 2022\n"
     ]
    }
   ],
   "source": [
    "import time\n",
    "print ('Inicio: '+time.strftime(\"%c\"))\n",
    "inicio = time.perf_counter()"
   ]
  },
  {
   "cell_type": "code",
   "execution_count": 3,
   "id": "21680333-d2da-4460-b92d-869e172113a5",
   "metadata": {},
   "outputs": [
    {
     "name": "stderr",
     "output_type": "stream",
     "text": [
      "                                                                                \r"
     ]
    },
    {
     "name": "stdout",
     "output_type": "stream",
     "text": [
      "root\n",
      " |-- ctId: string (nullable = true)\n",
      " |-- fecRef: string (nullable = true)\n",
      " |-- dato: string (nullable = true)\n",
      " |-- saldo: integer (nullable = true)\n",
      " |-- proc: string (nullable = true)\n",
      "\n"
     ]
    },
    {
     "name": "stderr",
     "output_type": "stream",
     "text": [
      "                                                                                \r"
     ]
    },
    {
     "name": "stdout",
     "output_type": "stream",
     "text": [
      "1276940\n"
     ]
    },
    {
     "name": "stderr",
     "output_type": "stream",
     "text": [
      "[Stage 4:>                                                          (0 + 1) / 1]\r"
     ]
    },
    {
     "name": "stdout",
     "output_type": "stream",
     "text": [
      "+------------+----------+--------------------+-----+------+\n",
      "|        ctId|    fecRef|                dato|saldo|  proc|\n",
      "+------------+----------+--------------------+-----+------+\n",
      "|CT0003212981|2020-10-25|Dato del contrato...|16200|CT0003|\n",
      "|CT0003213036|2021-03-06|Dato del contrato...|39900|CT0003|\n",
      "|CT0003213036|2021-02-22|Dato del contrato...|34100|CT0003|\n",
      "|CT0003213036|2020-09-01|Dato del contrato...|13800|CT0003|\n",
      "|CT0003213036|2021-07-06|Dato del contrato...|24400|CT0003|\n",
      "|CT0003213036|2021-01-28|Dato del contrato...| 8700|CT0003|\n",
      "|CT0003213036|2020-05-26|Dato del contrato...| 1700|CT0003|\n",
      "|CT0003213036|2020-03-27|Dato del contrato...|42800|CT0003|\n",
      "|CT0003213036|2021-03-07|Dato del contrato...|30400|CT0003|\n",
      "|CT0003213036|2020-10-03|Dato del contrato...|47500|CT0003|\n",
      "|CT0003213036|2020-07-08|Dato del contrato...|28700|CT0003|\n",
      "|CT0003213057|2020-01-27|Dato del contrato...| 8200|CT0003|\n",
      "|CT0003213057|2021-08-17|Dato del contrato...|65900|CT0003|\n",
      "|CT0003213057|2021-05-03|Dato del contrato...| 7600|CT0003|\n",
      "|CT0003213057|2021-10-24|Dato del contrato...|56400|CT0003|\n",
      "|CT0003213057|2021-08-09|Dato del contrato...|24200|CT0003|\n",
      "|CT0003213057|2020-07-27|Dato del contrato...|30500|CT0003|\n",
      "|CT0003213057|2021-11-24|Dato del contrato...|11500|CT0003|\n",
      "|CT0003213057|2020-06-26|Dato del contrato...|18500|CT0003|\n",
      "|CT0003213057|2020-01-28|Dato del contrato...|48200|CT0003|\n",
      "+------------+----------+--------------------+-----+------+\n",
      "only showing top 20 rows\n",
      "\n",
      "== Parsed Logical Plan ==\n",
      "Relation [ctId#0,fecRef#1,dato#2,saldo#3,proc#4] parquet\n",
      "\n",
      "== Analyzed Logical Plan ==\n",
      "ctId: string, fecRef: string, dato: string, saldo: int, proc: string\n",
      "Relation [ctId#0,fecRef#1,dato#2,saldo#3,proc#4] parquet\n",
      "\n",
      "== Optimized Logical Plan ==\n",
      "Relation [ctId#0,fecRef#1,dato#2,saldo#3,proc#4] parquet\n",
      "\n",
      "== Physical Plan ==\n",
      "*(1) ColumnarToRow\n",
      "+- FileScan parquet [ctId#0,fecRef#1,dato#2,saldo#3,proc#4] Batched: true, DataFilters: [], Format: Parquet, Location: InMemoryFileIndex(1 paths)[file:/opt/workspace/datos/fakeContractsSinFechas.parquet], PartitionFilters: [], PushedFilters: [], ReadSchema: struct<ctId:string,fecRef:string,dato:string,saldo:int>\n",
      "\n",
      "== Optimized Logical Plan ==\n",
      "Relation [ctId#0,fecRef#1,dato#2,saldo#3,proc#4] parquet, Statistics(sizeInBytes=15.9 MiB)\n",
      "\n",
      "== Physical Plan ==\n",
      "*(1) ColumnarToRow\n",
      "+- FileScan parquet [ctId#0,fecRef#1,dato#2,saldo#3,proc#4] Batched: true, DataFilters: [], Format: Parquet, Location: InMemoryFileIndex(1 paths)[file:/opt/workspace/datos/fakeContractsSinFechas.parquet], PartitionFilters: [], PushedFilters: [], ReadSchema: struct<ctId:string,fecRef:string,dato:string,saldo:int>\n",
      "\n",
      "\n"
     ]
    },
    {
     "name": "stderr",
     "output_type": "stream",
     "text": [
      "                                                                                \r"
     ]
    }
   ],
   "source": [
    "#spark job monitoring\n",
    "from pyspark.sql.types import StructType\n",
    "from pyspark.sql.types import StringType,BooleanType,DateType,IntegerType\n",
    "from pyspark.sql.functions import sum, col, desc\n",
    "import pyspark.sql.functions as F\n",
    "from pyspark.sql import Window\n",
    "\n",
    "esquema = StructType() \\\n",
    "      .add(\"ctId\",StringType(),True) \\\n",
    "      .add(\"fecRef\",StringType(),True) \\\n",
    "      .add(\"dato\",StringType(),True) \\\n",
    "      .add(\"saldo\",IntegerType(),True) \\\n",
    "      .add(\"proc\",StringType(),True)\n",
    "\n",
    "\"\"\"\n",
    "df = spark.read.option(\"mergeSchema\", True).option(\"schema\", \"esquema\").option(\"basePath\", \"file:///opt/workspace/datos/fakeContractsSinFechas.parquet/\")\\\n",
    "               .format(\"parquet\").load(['./datos/fakeContractsSinFechas.parquet/proc=CT0001', './datos/fakeContractsSinFechas.parquet/proc=CT0002', \\\n",
    "                                        './datos/fakeContractsSinFechas.parquet/proc=CT0015', './datos/fakeContractsSinFechas.parquet/proc=CT0016'])\n",
    "\"\"\"\n",
    "df = spark.read.option(\"mergeSchema\", True).option(\"schema\", \"esquema\").option(\"basePath\", \"file:///opt/workspace/datos/fakeContractsSinFechas.parquet/\")\\\n",
    "               .format(\"parquet\").load(['./datos/fakeContractsSinFechas.parquet'])\n",
    "\n",
    "df.printSchema()\n",
    "\n",
    "print(df.count())\n",
    "df.show()\n",
    "df.explain(extended=True)\n",
    "df.explain(mode='cost')\n"
   ]
  },
  {
   "cell_type": "code",
   "execution_count": 4,
   "id": "e749d4d7-794f-41f9-bf4e-0ee7419c4c1d",
   "metadata": {},
   "outputs": [
    {
     "name": "stdout",
     "output_type": "stream",
     "text": [
      "Final: Sun Nov  6 18:11:40 2022\n",
      "Hecho en 11.6521 segundo(s)\n"
     ]
    }
   ],
   "source": [
    "print ('Final: '+time.strftime(\"%c\"))\n",
    "final = time.perf_counter()\n",
    "print(f'Hecho en {round(final - inicio, 4)} segundo(s)')"
   ]
  },
  {
   "cell_type": "markdown",
   "id": "0ce2d34e-a3b6-4883-a2c4-aed70a2854e4",
   "metadata": {},
   "source": [
    "## Estudio de la función Window"
   ]
  },
  {
   "cell_type": "markdown",
   "id": "3c95c9fa-1ef6-4a2c-8d7b-e062ce39569a",
   "metadata": {},
   "source": [
    "### row_number: número de la fila dentro de cada \"ventana\" de registros"
   ]
  },
  {
   "cell_type": "code",
   "execution_count": 5,
   "id": "717a4684-2a98-45a5-b440-597b2d55a6ac",
   "metadata": {
    "tags": []
   },
   "outputs": [
    {
     "name": "stdout",
     "output_type": "stream",
     "text": [
      "Inicio: Sun Nov  6 18:11:40 2022\n"
     ]
    },
    {
     "name": "stderr",
     "output_type": "stream",
     "text": [
      "[Stage 5:========================>                                 (5 + 7) / 12]\r"
     ]
    },
    {
     "name": "stdout",
     "output_type": "stream",
     "text": [
      "+------------+----------+--------------------------------------------+-----+------+----------+\n",
      "|ctId        |fecRef    |dato                                        |saldo|proc  |row_number|\n",
      "+------------+----------+--------------------------------------------+-----+------+----------+\n",
      "|CT0001123903|2021-11-12|Dato del contrato CT0001123903 en 2021-11-12|1100 |CT0001|1         |\n",
      "|CT0001123903|2021-11-19|Dato del contrato CT0001123903 en 2021-11-19|38000|CT0001|2         |\n",
      "|CT0001124153|2020-03-19|Dato del contrato CT0001124153 en 2020-03-19|39600|CT0001|1         |\n",
      "|CT0001124153|2020-08-24|Dato del contrato CT0001124153 en 2020-08-24|27200|CT0001|2         |\n",
      "|CT0001124153|2020-09-05|Dato del contrato CT0001124153 en 2020-09-05|15600|CT0001|3         |\n",
      "|CT0001124153|2020-11-09|Dato del contrato CT0001124153 en 2020-11-09|23300|CT0001|4         |\n",
      "|CT0001124153|2021-02-10|Dato del contrato CT0001124153 en 2021-02-10|74600|CT0001|5         |\n",
      "|CT0001124153|2021-04-19|Dato del contrato CT0001124153 en 2021-04-19|3000 |CT0001|6         |\n",
      "|CT0001124153|2021-07-13|Dato del contrato CT0001124153 en 2021-07-13|3300 |CT0001|7         |\n",
      "|CT0001124153|2021-07-26|Dato del contrato CT0001124153 en 2021-07-26|67000|CT0001|8         |\n",
      "|CT0001124153|2021-11-04|Dato del contrato CT0001124153 en 2021-11-04|38900|CT0001|9         |\n",
      "|CT0001124153|2021-12-01|Dato del contrato CT0001124153 en 2021-12-01|12600|CT0001|10        |\n",
      "|CT0001124186|2020-02-03|Dato del contrato CT0001124186 en 2020-02-03|14500|CT0001|1         |\n",
      "|CT0001124186|2020-02-16|Dato del contrato CT0001124186 en 2020-02-16|10600|CT0001|2         |\n",
      "|CT0001124186|2020-02-18|Dato del contrato CT0001124186 en 2020-02-18|6300 |CT0001|3         |\n",
      "|CT0001124186|2020-02-24|Dato del contrato CT0001124186 en 2020-02-24|21000|CT0001|4         |\n",
      "|CT0001124186|2020-09-15|Dato del contrato CT0001124186 en 2020-09-15|12700|CT0001|5         |\n",
      "|CT0001124186|2020-09-17|Dato del contrato CT0001124186 en 2020-09-17|78700|CT0001|6         |\n",
      "|CT0001124186|2020-09-20|Dato del contrato CT0001124186 en 2020-09-20|1400 |CT0001|7         |\n",
      "|CT0001124186|2021-05-04|Dato del contrato CT0001124186 en 2021-05-04|6800 |CT0001|8         |\n",
      "|CT0001124186|2021-06-15|Dato del contrato CT0001124186 en 2021-06-15|23000|CT0001|9         |\n",
      "|CT0001124186|2021-06-19|Dato del contrato CT0001124186 en 2021-06-19|9600 |CT0001|10        |\n",
      "|CT0001124186|2021-08-12|Dato del contrato CT0001124186 en 2021-08-12|33700|CT0001|11        |\n",
      "|CT0001124186|2021-10-14|Dato del contrato CT0001124186 en 2021-10-14|35300|CT0001|12        |\n",
      "|CT0001124241|2020-02-17|Dato del contrato CT0001124241 en 2020-02-17|6900 |CT0001|1         |\n",
      "|CT0001124241|2020-02-27|Dato del contrato CT0001124241 en 2020-02-27|36600|CT0001|2         |\n",
      "|CT0001124241|2020-04-02|Dato del contrato CT0001124241 en 2020-04-02|44400|CT0001|3         |\n",
      "|CT0001124241|2020-07-12|Dato del contrato CT0001124241 en 2020-07-12|24600|CT0001|4         |\n",
      "|CT0001124241|2020-08-17|Dato del contrato CT0001124241 en 2020-08-17|7900 |CT0001|5         |\n",
      "|CT0001124241|2021-04-07|Dato del contrato CT0001124241 en 2021-04-07|5200 |CT0001|6         |\n",
      "|CT0001124241|2021-05-24|Dato del contrato CT0001124241 en 2021-05-24|68000|CT0001|7         |\n",
      "|CT0001124241|2021-08-24|Dato del contrato CT0001124241 en 2021-08-24|22300|CT0001|8         |\n",
      "|CT0001124241|2021-09-02|Dato del contrato CT0001124241 en 2021-09-02|28700|CT0001|9         |\n",
      "|CT0001124241|2021-09-09|Dato del contrato CT0001124241 en 2021-09-09|6500 |CT0001|10        |\n",
      "|CT0001124241|2021-10-15|Dato del contrato CT0001124241 en 2021-10-15|10000|CT0001|11        |\n",
      "|CT0001124381|2020-09-08|Dato del contrato CT0001124381 en 2020-09-08|20600|CT0001|1         |\n",
      "|CT0001124381|2021-11-01|Dato del contrato CT0001124381 en 2021-11-01|9400 |CT0001|2         |\n",
      "|CT0001124417|2020-03-20|Dato del contrato CT0001124417 en 2020-03-20|7200 |CT0001|1         |\n",
      "|CT0001124417|2020-05-03|Dato del contrato CT0001124417 en 2020-05-03|48700|CT0001|2         |\n",
      "|CT0001124417|2020-05-19|Dato del contrato CT0001124417 en 2020-05-19|7700 |CT0001|3         |\n",
      "|CT0001124417|2020-08-29|Dato del contrato CT0001124417 en 2020-08-29|42000|CT0001|4         |\n",
      "|CT0001124417|2020-11-25|Dato del contrato CT0001124417 en 2020-11-25|28700|CT0001|5         |\n",
      "|CT0001124417|2020-12-12|Dato del contrato CT0001124417 en 2020-12-12|6600 |CT0001|6         |\n",
      "|CT0001124417|2020-12-27|Dato del contrato CT0001124417 en 2020-12-27|38000|CT0001|7         |\n",
      "|CT0001124417|2021-02-26|Dato del contrato CT0001124417 en 2021-02-26|55700|CT0001|8         |\n",
      "|CT0001124417|2021-04-19|Dato del contrato CT0001124417 en 2021-04-19|57100|CT0001|9         |\n",
      "|CT0001124417|2021-10-27|Dato del contrato CT0001124417 en 2021-10-27|18600|CT0001|10        |\n",
      "|CT0001124417|2021-11-06|Dato del contrato CT0001124417 en 2021-11-06|7300 |CT0001|11        |\n",
      "|CT0001124530|2020-03-14|Dato del contrato CT0001124530 en 2020-03-14|11400|CT0001|1         |\n",
      "|CT0001124530|2020-06-13|Dato del contrato CT0001124530 en 2020-06-13|22100|CT0001|2         |\n",
      "+------------+----------+--------------------------------------------+-----+------+----------+\n",
      "only showing top 50 rows\n",
      "\n",
      "Final: Sun Nov  6 18:11:44 2022\n",
      "Hecho en 3.5805 segundo(s)\n"
     ]
    },
    {
     "name": "stderr",
     "output_type": "stream",
     "text": [
      "                                                                                \r"
     ]
    }
   ],
   "source": [
    "from pyspark.sql.functions import row_number\n",
    "\n",
    "print ('Inicio: '+time.strftime(\"%c\"))\n",
    "inicio = time.perf_counter()\n",
    "\n",
    "WinSpec = Window.partitionBy('ctId').orderBy('fecRef')\n",
    "\n",
    "dfNew = df.withColumn(\"row_number\",row_number().over(WinSpec)).show(50, truncate=False)\n",
    "\n",
    "print ('Final: '+time.strftime(\"%c\"))\n",
    "final = time.perf_counter()\n",
    "print(f'Hecho en {round(final - inicio, 4)} segundo(s)')"
   ]
  },
  {
   "cell_type": "markdown",
   "id": "7afe52ee-6c4a-4df3-b054-174d27c5fe4d",
   "metadata": {},
   "source": [
    "### Crea una columna con la fechas de referencia anterior y actual"
   ]
  },
  {
   "cell_type": "code",
   "execution_count": 6,
   "id": "c44638a5-19ee-4849-ab59-42aa5adaa159",
   "metadata": {},
   "outputs": [
    {
     "name": "stderr",
     "output_type": "stream",
     "text": [
      "[Stage 8:======================================>                   (8 + 4) / 12]\r"
     ]
    },
    {
     "name": "stdout",
     "output_type": "stream",
     "text": [
      "+------------+----------+--------------------------------------------+-----+------+------------------------+\n",
      "|ctId        |fecRef    |dato                                        |saldo|proc  |listaFechas             |\n",
      "+------------+----------+--------------------------------------------+-----+------+------------------------+\n",
      "|CT0001123903|2021-11-12|Dato del contrato CT0001123903 en 2021-11-12|1100 |CT0001|[2021-11-12]            |\n",
      "|CT0001123903|2021-11-19|Dato del contrato CT0001123903 en 2021-11-19|38000|CT0001|[2021-11-12, 2021-11-19]|\n",
      "|CT0001124153|2020-03-19|Dato del contrato CT0001124153 en 2020-03-19|39600|CT0001|[2020-03-19]            |\n",
      "|CT0001124153|2020-08-24|Dato del contrato CT0001124153 en 2020-08-24|27200|CT0001|[2020-03-19, 2020-08-24]|\n",
      "|CT0001124153|2020-09-05|Dato del contrato CT0001124153 en 2020-09-05|15600|CT0001|[2020-08-24, 2020-09-05]|\n",
      "|CT0001124153|2020-11-09|Dato del contrato CT0001124153 en 2020-11-09|23300|CT0001|[2020-09-05, 2020-11-09]|\n",
      "|CT0001124153|2021-02-10|Dato del contrato CT0001124153 en 2021-02-10|74600|CT0001|[2020-11-09, 2021-02-10]|\n",
      "|CT0001124153|2021-04-19|Dato del contrato CT0001124153 en 2021-04-19|3000 |CT0001|[2021-02-10, 2021-04-19]|\n",
      "|CT0001124153|2021-07-13|Dato del contrato CT0001124153 en 2021-07-13|3300 |CT0001|[2021-04-19, 2021-07-13]|\n",
      "|CT0001124153|2021-07-26|Dato del contrato CT0001124153 en 2021-07-26|67000|CT0001|[2021-07-13, 2021-07-26]|\n",
      "|CT0001124153|2021-11-04|Dato del contrato CT0001124153 en 2021-11-04|38900|CT0001|[2021-07-26, 2021-11-04]|\n",
      "|CT0001124153|2021-12-01|Dato del contrato CT0001124153 en 2021-12-01|12600|CT0001|[2021-11-04, 2021-12-01]|\n",
      "|CT0001124186|2020-02-03|Dato del contrato CT0001124186 en 2020-02-03|14500|CT0001|[2020-02-03]            |\n",
      "|CT0001124186|2020-02-16|Dato del contrato CT0001124186 en 2020-02-16|10600|CT0001|[2020-02-03, 2020-02-16]|\n",
      "|CT0001124186|2020-02-18|Dato del contrato CT0001124186 en 2020-02-18|6300 |CT0001|[2020-02-16, 2020-02-18]|\n",
      "|CT0001124186|2020-02-24|Dato del contrato CT0001124186 en 2020-02-24|21000|CT0001|[2020-02-18, 2020-02-24]|\n",
      "|CT0001124186|2020-09-15|Dato del contrato CT0001124186 en 2020-09-15|12700|CT0001|[2020-02-24, 2020-09-15]|\n",
      "|CT0001124186|2020-09-17|Dato del contrato CT0001124186 en 2020-09-17|78700|CT0001|[2020-09-15, 2020-09-17]|\n",
      "|CT0001124186|2020-09-20|Dato del contrato CT0001124186 en 2020-09-20|1400 |CT0001|[2020-09-17, 2020-09-20]|\n",
      "|CT0001124186|2021-05-04|Dato del contrato CT0001124186 en 2021-05-04|6800 |CT0001|[2020-09-20, 2021-05-04]|\n",
      "|CT0001124186|2021-06-15|Dato del contrato CT0001124186 en 2021-06-15|23000|CT0001|[2021-05-04, 2021-06-15]|\n",
      "|CT0001124186|2021-06-19|Dato del contrato CT0001124186 en 2021-06-19|9600 |CT0001|[2021-06-15, 2021-06-19]|\n",
      "|CT0001124186|2021-08-12|Dato del contrato CT0001124186 en 2021-08-12|33700|CT0001|[2021-06-19, 2021-08-12]|\n",
      "|CT0001124186|2021-10-14|Dato del contrato CT0001124186 en 2021-10-14|35300|CT0001|[2021-08-12, 2021-10-14]|\n",
      "|CT0001124241|2020-02-17|Dato del contrato CT0001124241 en 2020-02-17|6900 |CT0001|[2020-02-17]            |\n",
      "|CT0001124241|2020-02-27|Dato del contrato CT0001124241 en 2020-02-27|36600|CT0001|[2020-02-17, 2020-02-27]|\n",
      "|CT0001124241|2020-04-02|Dato del contrato CT0001124241 en 2020-04-02|44400|CT0001|[2020-02-27, 2020-04-02]|\n",
      "|CT0001124241|2020-07-12|Dato del contrato CT0001124241 en 2020-07-12|24600|CT0001|[2020-04-02, 2020-07-12]|\n",
      "|CT0001124241|2020-08-17|Dato del contrato CT0001124241 en 2020-08-17|7900 |CT0001|[2020-07-12, 2020-08-17]|\n",
      "|CT0001124241|2021-04-07|Dato del contrato CT0001124241 en 2021-04-07|5200 |CT0001|[2020-08-17, 2021-04-07]|\n",
      "|CT0001124241|2021-05-24|Dato del contrato CT0001124241 en 2021-05-24|68000|CT0001|[2021-04-07, 2021-05-24]|\n",
      "|CT0001124241|2021-08-24|Dato del contrato CT0001124241 en 2021-08-24|22300|CT0001|[2021-05-24, 2021-08-24]|\n",
      "|CT0001124241|2021-09-02|Dato del contrato CT0001124241 en 2021-09-02|28700|CT0001|[2021-08-24, 2021-09-02]|\n",
      "|CT0001124241|2021-09-09|Dato del contrato CT0001124241 en 2021-09-09|6500 |CT0001|[2021-09-02, 2021-09-09]|\n",
      "|CT0001124241|2021-10-15|Dato del contrato CT0001124241 en 2021-10-15|10000|CT0001|[2021-09-09, 2021-10-15]|\n",
      "|CT0001124381|2020-09-08|Dato del contrato CT0001124381 en 2020-09-08|20600|CT0001|[2020-09-08]            |\n",
      "|CT0001124381|2021-11-01|Dato del contrato CT0001124381 en 2021-11-01|9400 |CT0001|[2020-09-08, 2021-11-01]|\n",
      "|CT0001124417|2020-03-20|Dato del contrato CT0001124417 en 2020-03-20|7200 |CT0001|[2020-03-20]            |\n",
      "|CT0001124417|2020-05-03|Dato del contrato CT0001124417 en 2020-05-03|48700|CT0001|[2020-03-20, 2020-05-03]|\n",
      "|CT0001124417|2020-05-19|Dato del contrato CT0001124417 en 2020-05-19|7700 |CT0001|[2020-05-03, 2020-05-19]|\n",
      "|CT0001124417|2020-08-29|Dato del contrato CT0001124417 en 2020-08-29|42000|CT0001|[2020-05-19, 2020-08-29]|\n",
      "|CT0001124417|2020-11-25|Dato del contrato CT0001124417 en 2020-11-25|28700|CT0001|[2020-08-29, 2020-11-25]|\n",
      "|CT0001124417|2020-12-12|Dato del contrato CT0001124417 en 2020-12-12|6600 |CT0001|[2020-11-25, 2020-12-12]|\n",
      "|CT0001124417|2020-12-27|Dato del contrato CT0001124417 en 2020-12-27|38000|CT0001|[2020-12-12, 2020-12-27]|\n",
      "|CT0001124417|2021-02-26|Dato del contrato CT0001124417 en 2021-02-26|55700|CT0001|[2020-12-27, 2021-02-26]|\n",
      "|CT0001124417|2021-04-19|Dato del contrato CT0001124417 en 2021-04-19|57100|CT0001|[2021-02-26, 2021-04-19]|\n",
      "|CT0001124417|2021-10-27|Dato del contrato CT0001124417 en 2021-10-27|18600|CT0001|[2021-04-19, 2021-10-27]|\n",
      "|CT0001124417|2021-11-06|Dato del contrato CT0001124417 en 2021-11-06|7300 |CT0001|[2021-10-27, 2021-11-06]|\n",
      "|CT0001124530|2020-03-14|Dato del contrato CT0001124530 en 2020-03-14|11400|CT0001|[2020-03-14]            |\n",
      "|CT0001124530|2020-06-13|Dato del contrato CT0001124530 en 2020-06-13|22100|CT0001|[2020-03-14, 2020-06-13]|\n",
      "+------------+----------+--------------------------------------------+-----+------+------------------------+\n",
      "only showing top 50 rows\n",
      "\n"
     ]
    },
    {
     "name": "stderr",
     "output_type": "stream",
     "text": [
      "                                                                                \r"
     ]
    }
   ],
   "source": [
    "WinSpec3 = Window.partitionBy('ctId').orderBy('fecRef').rowsBetween(-1, Window.currentRow)\n",
    "\n",
    "df.withColumn(\"listaFechas\",F.collect_list(F.col(\"fecRef\")).over(WinSpec3)) \\\n",
    "  .show(50, truncate=False)"
   ]
  },
  {
   "cell_type": "markdown",
   "id": "2c3fd6a8-3bea-4f22-8bf9-e8f76518ff17",
   "metadata": {},
   "source": [
    "### Ahora crea una columna con la fechas de referencia actual y siguiente\n",
    "\n",
    "# Le pone la fecha de inicio y fin a cada registro basado en la fecha de referencia siguiente !!!!"
   ]
  },
  {
   "cell_type": "code",
   "execution_count": 7,
   "id": "b6498b6d-7616-41be-8650-eb75abaf5919",
   "metadata": {},
   "outputs": [
    {
     "name": "stderr",
     "output_type": "stream",
     "text": [
      "                                                                                \r"
     ]
    },
    {
     "name": "stdout",
     "output_type": "stream",
     "text": [
      "+------------+----------+--------------------------------------------+-----+------+----------+----------+\n",
      "|ctId        |fecRef    |dato                                        |saldo|proc  |fechIni   |fechFin   |\n",
      "+------------+----------+--------------------------------------------+-----+------+----------+----------+\n",
      "|CT0001123903|2021-11-12|Dato del contrato CT0001123903 en 2021-11-12|1100 |CT0001|2021-11-12|2021-11-19|\n",
      "|CT0001123903|2021-11-19|Dato del contrato CT0001123903 en 2021-11-19|38000|CT0001|2021-11-19|9999-12-31|\n",
      "|CT0001124153|2020-03-19|Dato del contrato CT0001124153 en 2020-03-19|39600|CT0001|2020-03-19|2020-08-24|\n",
      "|CT0001124153|2020-08-24|Dato del contrato CT0001124153 en 2020-08-24|27200|CT0001|2020-08-24|2020-09-05|\n",
      "|CT0001124153|2020-09-05|Dato del contrato CT0001124153 en 2020-09-05|15600|CT0001|2020-09-05|2020-11-09|\n",
      "|CT0001124153|2020-11-09|Dato del contrato CT0001124153 en 2020-11-09|23300|CT0001|2020-11-09|2021-02-10|\n",
      "|CT0001124153|2021-02-10|Dato del contrato CT0001124153 en 2021-02-10|74600|CT0001|2021-02-10|2021-04-19|\n",
      "|CT0001124153|2021-04-19|Dato del contrato CT0001124153 en 2021-04-19|3000 |CT0001|2021-04-19|2021-07-13|\n",
      "|CT0001124153|2021-07-13|Dato del contrato CT0001124153 en 2021-07-13|3300 |CT0001|2021-07-13|2021-07-26|\n",
      "|CT0001124153|2021-07-26|Dato del contrato CT0001124153 en 2021-07-26|67000|CT0001|2021-07-26|2021-11-04|\n",
      "|CT0001124153|2021-11-04|Dato del contrato CT0001124153 en 2021-11-04|38900|CT0001|2021-11-04|2021-12-01|\n",
      "|CT0001124153|2021-12-01|Dato del contrato CT0001124153 en 2021-12-01|12600|CT0001|2021-12-01|9999-12-31|\n",
      "|CT0001124186|2020-02-03|Dato del contrato CT0001124186 en 2020-02-03|14500|CT0001|2020-02-03|2020-02-16|\n",
      "|CT0001124186|2020-02-16|Dato del contrato CT0001124186 en 2020-02-16|10600|CT0001|2020-02-16|2020-02-18|\n",
      "|CT0001124186|2020-02-18|Dato del contrato CT0001124186 en 2020-02-18|6300 |CT0001|2020-02-18|2020-02-24|\n",
      "|CT0001124186|2020-02-24|Dato del contrato CT0001124186 en 2020-02-24|21000|CT0001|2020-02-24|2020-09-15|\n",
      "|CT0001124186|2020-09-15|Dato del contrato CT0001124186 en 2020-09-15|12700|CT0001|2020-09-15|2020-09-17|\n",
      "|CT0001124186|2020-09-17|Dato del contrato CT0001124186 en 2020-09-17|78700|CT0001|2020-09-17|2020-09-20|\n",
      "|CT0001124186|2020-09-20|Dato del contrato CT0001124186 en 2020-09-20|1400 |CT0001|2020-09-20|2021-05-04|\n",
      "|CT0001124186|2021-05-04|Dato del contrato CT0001124186 en 2021-05-04|6800 |CT0001|2021-05-04|2021-06-15|\n",
      "|CT0001124186|2021-06-15|Dato del contrato CT0001124186 en 2021-06-15|23000|CT0001|2021-06-15|2021-06-19|\n",
      "|CT0001124186|2021-06-19|Dato del contrato CT0001124186 en 2021-06-19|9600 |CT0001|2021-06-19|2021-08-12|\n",
      "|CT0001124186|2021-08-12|Dato del contrato CT0001124186 en 2021-08-12|33700|CT0001|2021-08-12|2021-10-14|\n",
      "|CT0001124186|2021-10-14|Dato del contrato CT0001124186 en 2021-10-14|35300|CT0001|2021-10-14|9999-12-31|\n",
      "+------------+----------+--------------------------------------------+-----+------+----------+----------+\n",
      "only showing top 24 rows\n",
      "\n"
     ]
    },
    {
     "name": "stderr",
     "output_type": "stream",
     "text": [
      "                                                                                \r"
     ]
    }
   ],
   "source": [
    "# Declara la ventana por código de contrato y fecha de referencia ascendente pero tomando sólo el registro actual y el siguiente:\n",
    "\n",
    "WinSpec4 = Window.partitionBy('ctId').orderBy('fecRef').rowsBetween(Window.currentRow, +1)\n",
    "\n",
    "# Crea una columna tipo lista con dos elementos: la fecha de referencia del registro actual y la del siguiente\n",
    "\n",
    "df2 = df.withColumn(\"listaFechas\",F.collect_list(F.col(\"fecRef\")).over(WinSpec4)) \n",
    "\n",
    "# Selecciona las columnas que queremos y deshace la lista. El campo fechFin sin valor se genera a null\n",
    "\n",
    "df2 = df2.select('ctId', 'fecRef', 'dato', 'saldo', 'proc',\n",
    "      F.col('listaFechas')[0].alias('fechIni'),\n",
    "      F.col('listaFechas')[1].alias('fechFin')\n",
    "      )\n",
    "\n",
    "# Cambiamos lo nulos de la fecha de fin por el valor máximo de fecha:\n",
    "\n",
    "df2 = df2.na.fill(value='9999-12-31',subset=['fechFin'])\n",
    "\n",
    "# Et voila:\n",
    "\n",
    "df2.show(24, truncate=False)\n",
    "\n",
    "# Guardamos el DF:\n",
    "df2.write.mode(\"overwrite\").partitionBy(\"proc\").parquet(\"./datos/contratosFecINIFIN.parquet\")\n"
   ]
  },
  {
   "cell_type": "markdown",
   "id": "df9f5cea-fb9d-413f-9af0-7a18e6f628a4",
   "metadata": {},
   "source": [
    "### Aquí se usa como un group by. Para usar el row_number el Window tiene que estar ordenado y para usar las agregaciones no.\n",
    "    Por eso se usan dos especificaciones de Window:"
   ]
  },
  {
   "cell_type": "code",
   "execution_count": 8,
   "id": "5c93399b-67dc-4704-8e26-e2a38c9886b4",
   "metadata": {},
   "outputs": [
    {
     "name": "stderr",
     "output_type": "stream",
     "text": [
      "[Stage 17:============================>                            (6 + 6) / 12]\r"
     ]
    },
    {
     "name": "stdout",
     "output_type": "stream",
     "text": [
      "+------------+------------------+------+-----+-----+----------+\n",
      "|        ctId|               avg|   sum|  min|  max|    maxFec|\n",
      "+------------+------------------+------+-----+-----+----------+\n",
      "|CT0001123903|           19550.0| 39100| 1100|38000|2021-11-19|\n",
      "|CT0001124153|           30510.0|305100| 3000|74600|2021-12-01|\n",
      "|CT0001124186|21133.333333333332|253600| 1400|78700|2021-10-14|\n",
      "|CT0001124241|23736.363636363636|261100| 5200|68000|2021-10-15|\n",
      "|CT0001124381|           15000.0| 30000| 9400|20600|2021-11-01|\n",
      "|CT0001124417|28872.727272727272|317600| 6600|57100|2021-11-06|\n",
      "|CT0001124530|17633.333333333332|158700| 1400|41800|2021-07-30|\n",
      "|CT0001125222|27116.666666666668|162700| 5100|52900|2021-11-26|\n",
      "|CT0001125450|           24700.0| 98800|15500|33100|2021-01-16|\n",
      "|CT0001126161|           28980.0|289800|14900|60000|2021-12-24|\n",
      "|CT0001126562|22021.428571428572|308300| 1400|74800|2021-11-23|\n",
      "|CT0001126762| 9433.333333333334| 28300| 1400|17700|2020-11-08|\n",
      "|CT0001127321|29276.923076923078|380600| 4300|73300|2021-07-11|\n",
      "|CT0001128356|24766.666666666668|148600| 3500|76700|2021-12-25|\n",
      "|CT0001129383| 23692.85714285714|331700| 3600|57400|2021-09-23|\n",
      "|CT0001129473|           25250.0|252500| 6600|63400|2021-12-19|\n",
      "|CT0001129508|           21000.0|294000| 3500|62700|2021-12-23|\n",
      "|CT0001129716|18183.333333333332|218200| 2800|47100|2021-11-28|\n",
      "|CT0001129745|           18437.5|147500| 3100|67700|2021-12-30|\n",
      "|CT0001129932|24985.714285714286|349800| 4100|80900|2021-12-17|\n",
      "+------------+------------------+------+-----+-----+----------+\n",
      "only showing top 20 rows\n",
      "\n"
     ]
    },
    {
     "name": "stderr",
     "output_type": "stream",
     "text": [
      "                                                                                \r"
     ]
    }
   ],
   "source": [
    "from pyspark.sql.functions import col,avg,sum,min,max,row_number \n",
    "\n",
    "WinSpec2 = Window.partitionBy('ctId')\n",
    "\n",
    "df.withColumn(\"row\",row_number().over(WinSpec)) \\\n",
    "  .withColumn(\"avg\", avg(col(\"saldo\")).over(WinSpec2)) \\\n",
    "  .withColumn(\"sum\", sum(col(\"saldo\")).over(WinSpec2)) \\\n",
    "  .withColumn(\"min\", min(col(\"saldo\")).over(WinSpec2)) \\\n",
    "  .withColumn(\"max\", max(col(\"saldo\")).over(WinSpec2)) \\\n",
    "  .withColumn(\"maxFec\", max(col(\"fecRef\")).over(WinSpec2)) \\\n",
    "  .where(col(\"row\")==1).select(\"ctId\",\"avg\",\"sum\",\"min\",\"max\", \"maxFec\") \\\n",
    "  .show()\n"
   ]
  },
  {
   "cell_type": "markdown",
   "id": "a9d73817-c129-4077-a1ed-ac1133794211",
   "metadata": {},
   "source": [
    "### Ahora lo mismo de antes pero para todos los registros del window"
   ]
  },
  {
   "cell_type": "code",
   "execution_count": 9,
   "id": "00578849-6550-449c-88ce-4ec9bed5f70d",
   "metadata": {},
   "outputs": [
    {
     "name": "stdout",
     "output_type": "stream",
     "text": [
      "+------------+----------+--------------------+-----+------+---+------------------+------+----+-----+----------+\n",
      "|        ctId|    fecRef|                dato|saldo|  proc|row|               avg|   sum| min|  max|    maxFec|\n",
      "+------------+----------+--------------------+-----+------+---+------------------+------+----+-----+----------+\n",
      "|CT0001123903|2021-11-12|Dato del contrato...| 1100|CT0001|  1|           19550.0| 39100|1100|38000|2021-11-19|\n",
      "|CT0001123903|2021-11-19|Dato del contrato...|38000|CT0001|  2|           19550.0| 39100|1100|38000|2021-11-19|\n",
      "|CT0001124153|2020-03-19|Dato del contrato...|39600|CT0001|  1|           30510.0|305100|3000|74600|2021-12-01|\n",
      "|CT0001124153|2020-08-24|Dato del contrato...|27200|CT0001|  2|           30510.0|305100|3000|74600|2021-12-01|\n",
      "|CT0001124153|2020-09-05|Dato del contrato...|15600|CT0001|  3|           30510.0|305100|3000|74600|2021-12-01|\n",
      "|CT0001124153|2020-11-09|Dato del contrato...|23300|CT0001|  4|           30510.0|305100|3000|74600|2021-12-01|\n",
      "|CT0001124153|2021-02-10|Dato del contrato...|74600|CT0001|  5|           30510.0|305100|3000|74600|2021-12-01|\n",
      "|CT0001124153|2021-04-19|Dato del contrato...| 3000|CT0001|  6|           30510.0|305100|3000|74600|2021-12-01|\n",
      "|CT0001124153|2021-07-13|Dato del contrato...| 3300|CT0001|  7|           30510.0|305100|3000|74600|2021-12-01|\n",
      "|CT0001124153|2021-07-26|Dato del contrato...|67000|CT0001|  8|           30510.0|305100|3000|74600|2021-12-01|\n",
      "|CT0001124153|2021-11-04|Dato del contrato...|38900|CT0001|  9|           30510.0|305100|3000|74600|2021-12-01|\n",
      "|CT0001124153|2021-12-01|Dato del contrato...|12600|CT0001| 10|           30510.0|305100|3000|74600|2021-12-01|\n",
      "|CT0001124186|2020-02-03|Dato del contrato...|14500|CT0001|  1|21133.333333333332|253600|1400|78700|2021-10-14|\n",
      "|CT0001124186|2020-02-16|Dato del contrato...|10600|CT0001|  2|21133.333333333332|253600|1400|78700|2021-10-14|\n",
      "|CT0001124186|2020-02-18|Dato del contrato...| 6300|CT0001|  3|21133.333333333332|253600|1400|78700|2021-10-14|\n",
      "|CT0001124186|2020-02-24|Dato del contrato...|21000|CT0001|  4|21133.333333333332|253600|1400|78700|2021-10-14|\n",
      "|CT0001124186|2020-09-15|Dato del contrato...|12700|CT0001|  5|21133.333333333332|253600|1400|78700|2021-10-14|\n",
      "|CT0001124186|2020-09-17|Dato del contrato...|78700|CT0001|  6|21133.333333333332|253600|1400|78700|2021-10-14|\n",
      "|CT0001124186|2020-09-20|Dato del contrato...| 1400|CT0001|  7|21133.333333333332|253600|1400|78700|2021-10-14|\n",
      "|CT0001124186|2021-05-04|Dato del contrato...| 6800|CT0001|  8|21133.333333333332|253600|1400|78700|2021-10-14|\n",
      "+------------+----------+--------------------+-----+------+---+------------------+------+----+-----+----------+\n",
      "only showing top 20 rows\n",
      "\n"
     ]
    }
   ],
   "source": [
    "df.withColumn(\"row\",row_number().over(WinSpec)) \\\n",
    "  .withColumn(\"avg\", avg(col(\"saldo\")).over(WinSpec2)) \\\n",
    "  .withColumn(\"sum\", sum(col(\"saldo\")).over(WinSpec2)) \\\n",
    "  .withColumn(\"min\", min(col(\"saldo\")).over(WinSpec2)) \\\n",
    "  .withColumn(\"max\", max(col(\"saldo\")).over(WinSpec2)) \\\n",
    "  .withColumn(\"maxFec\", max(col(\"fecRef\")).over(WinSpec2)) \\\n",
    "  .show()\n"
   ]
  },
  {
   "cell_type": "code",
   "execution_count": 10,
   "id": "23dea969-c89f-40f9-8b6e-bebe2922ebd0",
   "metadata": {},
   "outputs": [
    {
     "name": "stdout",
     "output_type": "stream",
     "text": [
      "+------+-----+\n",
      "|  proc|count|\n",
      "+------+-----+\n",
      "|CT0010|79529|\n",
      "|CT0014|80272|\n",
      "|CT0002|80153|\n",
      "|CT0008|79725|\n",
      "|CT0015|79928|\n",
      "|CT0005|80600|\n",
      "|CT0007|79555|\n",
      "|CT0004|79151|\n",
      "|CT0013|80052|\n",
      "|CT0009|79671|\n",
      "|CT0016|79874|\n",
      "|CT0001|79285|\n",
      "|CT0011|79683|\n",
      "|CT0003|79910|\n",
      "|CT0006|80192|\n",
      "|CT0012|79360|\n",
      "+------+-----+\n",
      "\n"
     ]
    }
   ],
   "source": [
    "df.groupBy('proc').count().show()"
   ]
  },
  {
   "cell_type": "code",
   "execution_count": 11,
   "id": "8ccddb1d-5bb4-4d1b-a6f3-b764bb3926ac",
   "metadata": {},
   "outputs": [
    {
     "name": "stdout",
     "output_type": "stream",
     "text": [
      "Sacabao\n"
     ]
    }
   ],
   "source": [
    "spark.sparkContext.stop()\n",
    "print('Sacabao')"
   ]
  },
  {
   "cell_type": "code",
   "execution_count": null,
   "id": "ba7a936e-779c-4381-a4f4-1f521c191fd0",
   "metadata": {},
   "outputs": [],
   "source": []
  }
 ],
 "metadata": {
  "kernelspec": {
   "display_name": "Python 3 (ipykernel)",
   "language": "python",
   "name": "python3"
  },
  "language_info": {
   "codemirror_mode": {
    "name": "ipython",
    "version": 3
   },
   "file_extension": ".py",
   "mimetype": "text/x-python",
   "name": "python",
   "nbconvert_exporter": "python",
   "pygments_lexer": "ipython3",
   "version": "3.9.2"
  }
 },
 "nbformat": 4,
 "nbformat_minor": 5
}
