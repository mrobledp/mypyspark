{
 "cells": [
  {
   "cell_type": "markdown",
   "id": "80fc7217-af19-4030-996a-c38202c288ed",
   "metadata": {},
   "source": [
    "## Probando la librería MLLib"
   ]
  },
  {
   "cell_type": "code",
   "execution_count": 1,
   "id": "9809d572-83ea-498d-961c-b08593e7a424",
   "metadata": {
    "tags": []
   },
   "outputs": [
    {
     "name": "stderr",
     "output_type": "stream",
     "text": [
      "Using Spark's default log4j profile: org/apache/spark/log4j-defaults.properties\n",
      "Setting default log level to \"WARN\".\n",
      "To adjust logging level use sc.setLogLevel(newLevel). For SparkR, use setLogLevel(newLevel).\n",
      "22/10/25 17:31:39 WARN NativeCodeLoader: Unable to load native-hadoop library for your platform... using builtin-java classes where applicable\n"
     ]
    },
    {
     "data": {
      "text/html": [
       "\n",
       "            <div>\n",
       "                <p><b>SparkSession - in-memory</b></p>\n",
       "                \n",
       "        <div>\n",
       "            <p><b>SparkContext</b></p>\n",
       "\n",
       "            <p><a href=\"http://b3a90b51a42d:4040\">Spark UI</a></p>\n",
       "\n",
       "            <dl>\n",
       "              <dt>Version</dt>\n",
       "                <dd><code>v3.2.1</code></dd>\n",
       "              <dt>Master</dt>\n",
       "                <dd><code>spark://spark-master:7077</code></dd>\n",
       "              <dt>AppName</dt>\n",
       "                <dd><code>PlayingWithMLLib</code></dd>\n",
       "            </dl>\n",
       "        </div>\n",
       "        \n",
       "            </div>\n",
       "        "
      ],
      "text/plain": [
       "<pyspark.sql.session.SparkSession at 0x7f36c4f25880>"
      ]
     },
     "execution_count": 1,
     "metadata": {},
     "output_type": "execute_result"
    }
   ],
   "source": [
    "import pyspark\n",
    "from pyspark.sql import SparkSession\n",
    "from pyspark.conf import SparkConf\n",
    "\n",
    "conf = (SparkConf().set(\"spark.executor.memory\", \"6g\")\n",
    "                    .set(\"spark.executor.cores\", \"3\")\n",
    "                    .set(\"spark.executor.instances\", \"2\")\n",
    "                    .set(\"spark.eventLog.enabled\", \"true\"))\n",
    "spark = SparkSession.builder.master(\"spark://spark-master:7077\").appName(\"PlayingWithMLLib\").config(conf=conf).getOrCreate()\n",
    "spark"
   ]
  },
  {
   "cell_type": "code",
   "execution_count": 2,
   "id": "821c805d-ae05-4e05-8144-dde6d1ed4bf9",
   "metadata": {},
   "outputs": [
    {
     "name": "stdout",
     "output_type": "stream",
     "text": [
      "Inicio: Tue Oct 25 17:31:41 2022\n"
     ]
    }
   ],
   "source": [
    "import time\n",
    "print ('Inicio: '+time.strftime(\"%c\"))\n",
    "inicio = time.perf_counter()"
   ]
  },
  {
   "cell_type": "code",
   "execution_count": 3,
   "id": "21680333-d2da-4460-b92d-869e172113a5",
   "metadata": {},
   "outputs": [
    {
     "name": "stderr",
     "output_type": "stream",
     "text": [
      "                                                                                \r"
     ]
    },
    {
     "name": "stdout",
     "output_type": "stream",
     "text": [
      "root\n",
      " |-- step: integer (nullable = true)\n",
      " |-- type: string (nullable = true)\n",
      " |-- amount: double (nullable = true)\n",
      " |-- nameOrig: string (nullable = true)\n",
      " |-- oldbalanceOrg: double (nullable = true)\n",
      " |-- newbalanceOrig: double (nullable = true)\n",
      " |-- nameDest: string (nullable = true)\n",
      " |-- oldbalanceDest: double (nullable = true)\n",
      " |-- newbalanceDest: double (nullable = true)\n",
      " |-- isFraud: integer (nullable = true)\n",
      " |-- isFlaggedFraud: integer (nullable = true)\n",
      "\n",
      "6362620\n",
      "-RECORD 0---------------------\n",
      " step           | 1           \n",
      " type           | PAYMENT     \n",
      " amount         | 9839.64     \n",
      " nameOrig       | C1231006815 \n",
      " oldbalanceOrg  | 170136.0    \n",
      " newbalanceOrig | 160296.36   \n",
      " nameDest       | M1979787155 \n",
      " oldbalanceDest | 0.0         \n",
      " newbalanceDest | 0.0         \n",
      " isFraud        | 0           \n",
      " isFlaggedFraud | 0           \n",
      "-RECORD 1---------------------\n",
      " step           | 1           \n",
      " type           | PAYMENT     \n",
      " amount         | 1864.28     \n",
      " nameOrig       | C1666544295 \n",
      " oldbalanceOrg  | 21249.0     \n",
      " newbalanceOrig | 19384.72    \n",
      " nameDest       | M2044282225 \n",
      " oldbalanceDest | 0.0         \n",
      " newbalanceDest | 0.0         \n",
      " isFraud        | 0           \n",
      " isFlaggedFraud | 0           \n",
      "-RECORD 2---------------------\n",
      " step           | 1           \n",
      " type           | TRANSFER    \n",
      " amount         | 181.0       \n",
      " nameOrig       | C1305486145 \n",
      " oldbalanceOrg  | 181.0       \n",
      " newbalanceOrig | 0.0         \n",
      " nameDest       | C553264065  \n",
      " oldbalanceDest | 0.0         \n",
      " newbalanceDest | 0.0         \n",
      " isFraud        | 1           \n",
      " isFlaggedFraud | 0           \n",
      "only showing top 3 rows\n",
      "\n",
      "== Parsed Logical Plan ==\n",
      "Relation [step#16,type#17,amount#18,nameOrig#19,oldbalanceOrg#20,newbalanceOrig#21,nameDest#22,oldbalanceDest#23,newbalanceDest#24,isFraud#25,isFlaggedFraud#26] csv\n",
      "\n",
      "== Analyzed Logical Plan ==\n",
      "step: int, type: string, amount: double, nameOrig: string, oldbalanceOrg: double, newbalanceOrig: double, nameDest: string, oldbalanceDest: double, newbalanceDest: double, isFraud: int, isFlaggedFraud: int\n",
      "Relation [step#16,type#17,amount#18,nameOrig#19,oldbalanceOrg#20,newbalanceOrig#21,nameDest#22,oldbalanceDest#23,newbalanceDest#24,isFraud#25,isFlaggedFraud#26] csv\n",
      "\n",
      "== Optimized Logical Plan ==\n",
      "Relation [step#16,type#17,amount#18,nameOrig#19,oldbalanceOrg#20,newbalanceOrig#21,nameDest#22,oldbalanceDest#23,newbalanceDest#24,isFraud#25,isFlaggedFraud#26] csv\n",
      "\n",
      "== Physical Plan ==\n",
      "FileScan csv [step#16,type#17,amount#18,nameOrig#19,oldbalanceOrg#20,newbalanceOrig#21,nameDest#22,oldbalanceDest#23,newbalanceDest#24,isFraud#25,isFlaggedFraud#26] Batched: false, DataFilters: [], Format: CSV, Location: InMemoryFileIndex(1 paths)[file:/opt/workspace/datos/PS_20174392719_1491204439457_log.csv], PartitionFilters: [], PushedFilters: [], ReadSchema: struct<step:int,type:string,amount:double,nameOrig:string,oldbalanceOrg:double,newbalanceOrig:dou...\n",
      "\n",
      "== Optimized Logical Plan ==\n",
      "Relation [step#16,type#17,amount#18,nameOrig#19,oldbalanceOrg#20,newbalanceOrig#21,nameDest#22,oldbalanceDest#23,newbalanceDest#24,isFraud#25,isFlaggedFraud#26] csv, Statistics(sizeInBytes=470.7 MiB)\n",
      "\n",
      "== Physical Plan ==\n",
      "FileScan csv [step#16,type#17,amount#18,nameOrig#19,oldbalanceOrg#20,newbalanceOrig#21,nameDest#22,oldbalanceDest#23,newbalanceDest#24,isFraud#25,isFlaggedFraud#26] Batched: false, DataFilters: [], Format: CSV, Location: InMemoryFileIndex(1 paths)[file:/opt/workspace/datos/PS_20174392719_1491204439457_log.csv], PartitionFilters: [], PushedFilters: [], ReadSchema: struct<step:int,type:string,amount:double,nameOrig:string,oldbalanceOrg:double,newbalanceOrig:dou...\n",
      "\n",
      "\n",
      "CPU times: user 10.7 ms, sys: 3.68 ms, total: 14.3 ms\n",
      "Wall time: 8.72 s\n"
     ]
    }
   ],
   "source": [
    "%%time\n",
    "\n",
    "#spark job monitoring\n",
    "from pyspark.sql.types import StructType\n",
    "from pyspark.sql.types import StringType,BooleanType,DateType,IntegerType\n",
    "from pyspark.sql.functions import sum, col, desc\n",
    "\n",
    "df = spark.read.csv('./datos/PS_20174392719_1491204439457_log.csv', sep=\",\", header = True, inferSchema=True)\n",
    "\n",
    "df.printSchema()\n",
    "\n",
    "print(df.count())\n",
    "df.show(3, vertical=True)\n",
    "df.explain(extended=True)\n",
    "df.explain(mode='cost')\n"
   ]
  },
  {
   "cell_type": "code",
   "execution_count": 4,
   "id": "e749d4d7-794f-41f9-bf4e-0ee7419c4c1d",
   "metadata": {},
   "outputs": [
    {
     "name": "stdout",
     "output_type": "stream",
     "text": [
      "Final: Tue Oct 25 17:31:50 2022\n",
      "Hecho en 8.7829 segundo(s)\n"
     ]
    }
   ],
   "source": [
    "print ('Final: '+time.strftime(\"%c\"))\n",
    "final = time.perf_counter()\n",
    "print(f'Hecho en {round(final - inicio, 4)} segundo(s)')"
   ]
  },
  {
   "cell_type": "code",
   "execution_count": 5,
   "id": "717a4684-2a98-45a5-b440-597b2d55a6ac",
   "metadata": {
    "tags": []
   },
   "outputs": [
    {
     "name": "stdout",
     "output_type": "stream",
     "text": [
      "Inicio: Tue Oct 25 17:31:50 2022\n"
     ]
    },
    {
     "name": "stderr",
     "output_type": "stream",
     "text": [
      "[Stage 6:=================================>                        (7 + 5) / 12]\r"
     ]
    },
    {
     "name": "stdout",
     "output_type": "stream",
     "text": [
      "+--------+-------+\n",
      "|    type|  count|\n",
      "+--------+-------+\n",
      "|TRANSFER| 532909|\n",
      "| CASH_IN|1399284|\n",
      "|CASH_OUT|2237500|\n",
      "| PAYMENT|2151495|\n",
      "|   DEBIT|  41432|\n",
      "+--------+-------+\n",
      "\n",
      "Final: Tue Oct 25 17:31:52 2022\n",
      "Hecho en 2.3377 segundo(s)\n"
     ]
    },
    {
     "name": "stderr",
     "output_type": "stream",
     "text": [
      "                                                                                \r"
     ]
    }
   ],
   "source": [
    "print ('Inicio: '+time.strftime(\"%c\"))\n",
    "inicio = time.perf_counter()\n",
    "\n",
    "df.groupBy('type').count().show(200)\n",
    "\n",
    "print ('Final: '+time.strftime(\"%c\"))\n",
    "final = time.perf_counter()\n",
    "print(f'Hecho en {round(final - inicio, 4)} segundo(s)')"
   ]
  },
  {
   "cell_type": "code",
   "execution_count": 6,
   "id": "640831f2-ec80-47be-9f0e-16cac8e48379",
   "metadata": {},
   "outputs": [
    {
     "name": "stdout",
     "output_type": "stream",
     "text": [
      "-RECORD 0-------------------\n",
      " type           | PAYMENT   \n",
      " amount         | 9839.64   \n",
      " oldbalanceOrg  | 170136.0  \n",
      " newbalanceOrig | 160296.36 \n",
      " isFraud        | 0         \n",
      "-RECORD 1-------------------\n",
      " type           | PAYMENT   \n",
      " amount         | 1864.28   \n",
      " oldbalanceOrg  | 21249.0   \n",
      " newbalanceOrig | 19384.72  \n",
      " isFraud        | 0         \n",
      "-RECORD 2-------------------\n",
      " type           | TRANSFER  \n",
      " amount         | 181.0     \n",
      " oldbalanceOrg  | 181.0     \n",
      " newbalanceOrig | 0.0       \n",
      " isFraud        | 1         \n",
      "only showing top 3 rows\n",
      "\n"
     ]
    }
   ],
   "source": [
    "# Selecciona algunas columnas por facilitar el tema\n",
    "df = df.select('type', 'amount', 'oldbalanceOrg', 'newbalanceOrig', 'isFraud')\n",
    "df.show(3, vertical=True)"
   ]
  },
  {
   "cell_type": "markdown",
   "id": "77098c22-ecf8-4f6e-8abf-a34260a87ec4",
   "metadata": {},
   "source": [
    "### Separa los test de entrenamiento y test"
   ]
  },
  {
   "cell_type": "code",
   "execution_count": 7,
   "id": "1736a088-a009-4edc-9ca5-bcf60f893b25",
   "metadata": {},
   "outputs": [],
   "source": [
    "train, test = df.randomSplit([0.7, 0.3], seed=7)"
   ]
  },
  {
   "cell_type": "code",
   "execution_count": 8,
   "id": "95e487e2-cb9a-47fa-af55-9c26e58252b1",
   "metadata": {},
   "outputs": [
    {
     "name": "stdout",
     "output_type": "stream",
     "text": [
      "Inicio: Tue Oct 25 17:31:52 2022\n"
     ]
    },
    {
     "name": "stderr",
     "output_type": "stream",
     "text": [
      "                                                                                \r"
     ]
    },
    {
     "name": "stdout",
     "output_type": "stream",
     "text": [
      "Train dataset size: 4452656 records\n"
     ]
    },
    {
     "name": "stderr",
     "output_type": "stream",
     "text": [
      "[Stage 13:====>                                                   (1 + 11) / 12]\r"
     ]
    },
    {
     "name": "stdout",
     "output_type": "stream",
     "text": [
      "Test dataset size: 1909964 records\n",
      "Final: Tue Oct 25 17:31:57 2022\n",
      "Hecho en 4.9684 segundo(s)\n"
     ]
    },
    {
     "name": "stderr",
     "output_type": "stream",
     "text": [
      "                                                                                \r"
     ]
    }
   ],
   "source": [
    "print ('Inicio: '+time.strftime(\"%c\"))\n",
    "inicio = time.perf_counter()\n",
    "\n",
    "print(f'Train dataset size: {train.count()} records')\n",
    "print(f'Test dataset size: {test.count()} records')\n",
    "\n",
    "print ('Final: '+time.strftime(\"%c\"))\n",
    "final = time.perf_counter()\n",
    "print(f'Hecho en {round(final - inicio, 4)} segundo(s)')"
   ]
  },
  {
   "cell_type": "markdown",
   "id": "196075fc-01d4-4046-ba52-711d8d6b0a8b",
   "metadata": {},
   "source": [
    "### Separación de las variables categóricas (strings). Sólo hay una en este ejemplo:"
   ]
  },
  {
   "cell_type": "code",
   "execution_count": 9,
   "id": "7c8b892d-5321-481a-8210-a482c1660b24",
   "metadata": {},
   "outputs": [
    {
     "data": {
      "text/plain": [
       "[('type', 'string'),\n",
       " ('amount', 'double'),\n",
       " ('oldbalanceOrg', 'double'),\n",
       " ('newbalanceOrig', 'double'),\n",
       " ('isFraud', 'int')]"
      ]
     },
     "execution_count": 9,
     "metadata": {},
     "output_type": "execute_result"
    }
   ],
   "source": [
    "train.dtypes"
   ]
  },
  {
   "cell_type": "code",
   "execution_count": 10,
   "id": "d9d3f78a-2b13-4333-afcf-7097ce65aeda",
   "metadata": {},
   "outputs": [
    {
     "name": "stdout",
     "output_type": "stream",
     "text": [
      "['type']\n",
      "['amount', 'oldbalanceOrg', 'newbalanceOrig']\n"
     ]
    }
   ],
   "source": [
    "categCols = [x for(x, dataType) in train.dtypes if dataType == 'string']\n",
    "numerCols = [x for(x, dataType) in train.dtypes if (dataType == 'double') & (x != 'isFraud')]\n",
    "\n",
    "print(categCols)\n",
    "print(numerCols)"
   ]
  },
  {
   "cell_type": "markdown",
   "id": "2c702b20-86ae-406f-a996-733d8cb51fdf",
   "metadata": {},
   "source": [
    "### Vamos con las tranformaciones\n",
    "\n",
    "### Primero vemos lo que hay en los datos"
   ]
  },
  {
   "cell_type": "code",
   "execution_count": 11,
   "id": "c77a20fe-c290-462c-8bf9-d778fb8ccb28",
   "metadata": {},
   "outputs": [
    {
     "name": "stderr",
     "output_type": "stream",
     "text": [
      "[Stage 16:=================================>                       (7 + 5) / 12]\r"
     ]
    },
    {
     "name": "stdout",
     "output_type": "stream",
     "text": [
      "+-----------+\n",
      "|count(type)|\n",
      "+-----------+\n",
      "|          5|\n",
      "+-----------+\n",
      "\n"
     ]
    },
    {
     "name": "stderr",
     "output_type": "stream",
     "text": [
      "                                                                                \r"
     ]
    }
   ],
   "source": [
    "import pyspark.sql.functions as F\n",
    "import pyspark.sql.types as T\n",
    "\n",
    "train.agg(F.countDistinct('type')).show()"
   ]
  },
  {
   "cell_type": "code",
   "execution_count": 12,
   "id": "cc8c9f0f-72cf-42db-be11-d64edbb36a6f",
   "metadata": {},
   "outputs": [
    {
     "name": "stderr",
     "output_type": "stream",
     "text": [
      "[Stage 22:=================================>                       (7 + 5) / 12]\r"
     ]
    },
    {
     "name": "stdout",
     "output_type": "stream",
     "text": [
      "+--------+-------+\n",
      "|    type|  count|\n",
      "+--------+-------+\n",
      "|TRANSFER| 372584|\n",
      "| CASH_IN| 979523|\n",
      "|CASH_OUT|1565778|\n",
      "| PAYMENT|1505805|\n",
      "|   DEBIT|  28966|\n",
      "+--------+-------+\n",
      "\n"
     ]
    },
    {
     "name": "stderr",
     "output_type": "stream",
     "text": [
      "                                                                                \r"
     ]
    }
   ],
   "source": [
    "train.groupBy('type').count().show()"
   ]
  },
  {
   "cell_type": "code",
   "execution_count": 13,
   "id": "cd3fa3fd-ad0d-4ac7-8825-2cad9bb6838e",
   "metadata": {},
   "outputs": [
    {
     "name": "stderr",
     "output_type": "stream",
     "text": [
      "[Stage 25:=================================>                       (7 + 5) / 12]\r"
     ]
    },
    {
     "name": "stdout",
     "output_type": "stream",
     "text": [
      "+---------+-----------------+------------------+-------------------+--------------------+\n",
      "|avg(type)|      avg(amount)|avg(oldbalanceOrg)|avg(newbalanceOrig)|        avg(isFraud)|\n",
      "+---------+-----------------+------------------+-------------------+--------------------+\n",
      "|     null|179861.9035491319| 833883.1040744885|  855113.6685785907|0.001290820448180152|\n",
      "+---------+-----------------+------------------+-------------------+--------------------+\n",
      "\n"
     ]
    },
    {
     "name": "stderr",
     "output_type": "stream",
     "text": [
      "                                                                                \r"
     ]
    }
   ],
   "source": [
    "# Una forma de sacar la media de todas las columnas\n",
    "\n",
    "df.select(*[F.mean(c) for c in df.columns]).show()"
   ]
  },
  {
   "cell_type": "code",
   "execution_count": 14,
   "id": "d4dfeec9-c4fd-4831-9c9c-200a58f28cdd",
   "metadata": {},
   "outputs": [
    {
     "name": "stderr",
     "output_type": "stream",
     "text": [
      "[Stage 28:=================================>                       (7 + 5) / 12]\r"
     ]
    },
    {
     "name": "stdout",
     "output_type": "stream",
     "text": [
      "+--------+--------------------+------------------+-------------------+------------------+\n",
      "|    type|        avg(isFraud)|       avg(amount)|avg(newbalanceOrig)|avg(oldbalanceOrg)|\n",
      "+--------+--------------------+------------------+-------------------+------------------+\n",
      "|TRANSFER|0.007687991758442811| 910647.0096454887| 10288.156703208235| 54441.85172470344|\n",
      "| CASH_IN|                 0.0| 168920.2420040969|  3759378.712078749|  3590463.50829942|\n",
      "|CASH_OUT|0.001839553072625...| 176273.9643461408| 17474.192737135192| 46023.80479455195|\n",
      "| PAYMENT|                 0.0|13057.604660187482|  61837.89091078535| 68216.82757282731|\n",
      "|   DEBIT|                 0.0|5483.6653137671365|  65161.65196273415| 68647.33712589303|\n",
      "+--------+--------------------+------------------+-------------------+------------------+\n",
      "\n"
     ]
    },
    {
     "name": "stderr",
     "output_type": "stream",
     "text": [
      "                                                                                \r"
     ]
    }
   ],
   "source": [
    "# Saca la media de cada columna por tipo\n",
    "\n",
    "df.groupby('type').agg({col: 'avg' for col in df.columns[1:]}).show()"
   ]
  },
  {
   "cell_type": "markdown",
   "id": "7b011922-4270-4833-8c30-902908dc4433",
   "metadata": {},
   "source": [
    "### Importamos encoder e indexer de ml para hacer las transformaciones (hay que instalar numpy)"
   ]
  },
  {
   "cell_type": "code",
   "execution_count": 15,
   "id": "bf24f881-8f41-4c1c-82e0-2f910529746f",
   "metadata": {},
   "outputs": [],
   "source": [
    "from pyspark.ml.feature import (\n",
    "    OneHotEncoder,\n",
    "    StringIndexer,\n",
    "    VectorAssembler\n",
    ")"
   ]
  },
  {
   "cell_type": "code",
   "execution_count": 16,
   "id": "f809703b-9b47-46b3-8392-3f970d509495",
   "metadata": {},
   "outputs": [
    {
     "data": {
      "text/plain": [
       "[StringIndexer_eb5557096d53]"
      ]
     },
     "execution_count": 16,
     "metadata": {},
     "output_type": "execute_result"
    }
   ],
   "source": [
    "str_indx = [StringIndexer(inputCol=x, outputCol=x + \"_StringIndexer\", handleInvalid='skip') for x in categCols]\n",
    "\n",
    "str_indx"
   ]
  },
  {
   "cell_type": "code",
   "execution_count": 17,
   "id": "df3d9daa-851e-4e3b-8221-314bbe589cd4",
   "metadata": {},
   "outputs": [
    {
     "data": {
      "text/plain": [
       "[OneHotEncoder_049e4df4e15c]"
      ]
     },
     "execution_count": 17,
     "metadata": {},
     "output_type": "execute_result"
    }
   ],
   "source": [
    "one_HE = [ OneHotEncoder(\n",
    "        inputCols=[f\"{x}_StringIndexer\" for x in categCols],\n",
    "        outputCols=[f\"{x}_OneHotEncoder\" for x in categCols],)]\n",
    "\n",
    "one_HE"
   ]
  },
  {
   "cell_type": "markdown",
   "id": "dc71d9b6-f518-4369-ba0e-7a4262ee5876",
   "metadata": {},
   "source": [
    "### Vector assembler. Para pasar todos los datos a doble precisión, creo."
   ]
  },
  {
   "cell_type": "code",
   "execution_count": 18,
   "id": "af8c9606-eddb-4bb7-b174-1b1854ba9d45",
   "metadata": {},
   "outputs": [
    {
     "data": {
      "text/plain": [
       "['amount', 'oldbalanceOrg', 'newbalanceOrig', 'type_OneHotEncoder']"
      ]
     },
     "execution_count": 18,
     "metadata": {},
     "output_type": "execute_result"
    }
   ],
   "source": [
    "assembInput = [x for x in numerCols]\n",
    "assembInput += [f\"{x}_OneHotEncoder\" for x in categCols]\n",
    "\n",
    "assembInput"
   ]
  },
  {
   "cell_type": "code",
   "execution_count": 19,
   "id": "f2b136a7-7606-4308-9067-8fbfa7b95c5e",
   "metadata": {
    "scrolled": true,
    "tags": []
   },
   "outputs": [],
   "source": [
    "##Voy por el segundo 13:24 de https://www.youtube.com/watch?v=1a7bB1ZcZ3k&t=821s\n",
    "\n",
    "vect_assm = VectorAssembler (inputCols=assembInput, outputCol='VectAssm_features')\n"
   ]
  },
  {
   "cell_type": "code",
   "execution_count": 20,
   "id": "38094c60-8862-44a2-8eaa-d07be4830859",
   "metadata": {},
   "outputs": [],
   "source": [
    "## Construye el pipeline para ML\n",
    "\n",
    "stages = []\n",
    "stages += str_indx \n",
    "stages += one_HE\n",
    "stages += [vect_assm]"
   ]
  },
  {
   "cell_type": "code",
   "execution_count": 21,
   "id": "2ab03ce8-cf8c-44b0-9b21-c2c0228813ea",
   "metadata": {},
   "outputs": [
    {
     "data": {
      "text/plain": [
       "[StringIndexer_eb5557096d53,\n",
       " OneHotEncoder_049e4df4e15c,\n",
       " VectorAssembler_f1694ab3f735]"
      ]
     },
     "execution_count": 21,
     "metadata": {},
     "output_type": "execute_result"
    }
   ],
   "source": [
    "stages"
   ]
  },
  {
   "cell_type": "code",
   "execution_count": 22,
   "id": "89b0372f-2af8-4418-81a5-19f77f543421",
   "metadata": {},
   "outputs": [
    {
     "name": "stderr",
     "output_type": "stream",
     "text": [
      "                                                                                \r"
     ]
    },
    {
     "name": "stdout",
     "output_type": "stream",
     "text": [
      "CPU times: user 41.1 ms, sys: 4.89 ms, total: 46 ms\n",
      "Wall time: 3.25 s\n"
     ]
    }
   ],
   "source": [
    "%%time\n",
    "# Transforma el dataset de entrenamiento:\n",
    "\n",
    "from pyspark.ml import Pipeline\n",
    "\n",
    "pipeline = Pipeline().setStages(stages)\n",
    "model = pipeline.fit(train)\n",
    "\n",
    "pp_df = model.transform(test)\n"
   ]
  },
  {
   "cell_type": "code",
   "execution_count": 23,
   "id": "d6f91919-8631-4033-af16-b914263258fe",
   "metadata": {},
   "outputs": [
    {
     "ename": "SyntaxError",
     "evalue": "invalid syntax (1942972909.py, line 1)",
     "output_type": "error",
     "traceback": [
      "\u001b[0;36m  Cell \u001b[0;32mIn [23], line 1\u001b[0;36m\u001b[0m\n\u001b[0;31m    pp_df.show(truncate=False)from\u001b[0m\n\u001b[0m                              ^\u001b[0m\n\u001b[0;31mSyntaxError\u001b[0m\u001b[0;31m:\u001b[0m invalid syntax\n"
     ]
    }
   ],
   "source": [
    "pp_df.show(truncate=False)from "
   ]
  },
  {
   "cell_type": "markdown",
   "id": "63f14c88-7e70-4fc1-9a4d-550935897ece",
   "metadata": {},
   "source": [
    "### Regresión logística"
   ]
  },
  {
   "cell_type": "code",
   "execution_count": null,
   "id": "63d41f55-08ea-4621-bc8c-500f42e7c3fb",
   "metadata": {},
   "outputs": [],
   "source": [
    "from pyspark.ml.classification import LogisticRegression"
   ]
  },
  {
   "cell_type": "code",
   "execution_count": null,
   "id": "99006d16-248f-4148-8599-af5827e6806c",
   "metadata": {},
   "outputs": [],
   "source": [
    "datos = pp_df.select(\n",
    "    F.col(\"VectAssm_features\").alias(\"features\"),\n",
    "    F.col(\"isFraud\").alias(\"label\")\n",
    ")"
   ]
  },
  {
   "cell_type": "code",
   "execution_count": null,
   "id": "e0e242ca-9221-4ec0-8860-c9d6226850bf",
   "metadata": {},
   "outputs": [],
   "source": [
    "datos.show(5,truncate=False)"
   ]
  },
  {
   "cell_type": "code",
   "execution_count": null,
   "id": "f6d22ccf-e22e-41e4-9f91-28faf861d172",
   "metadata": {},
   "outputs": [],
   "source": [
    "%%time\n",
    "model = LogisticRegression().fit(datos)"
   ]
  },
  {
   "cell_type": "code",
   "execution_count": null,
   "id": "2d80e1ad-4668-4413-a026-71513e64c74a",
   "metadata": {},
   "outputs": [],
   "source": [
    "model.summary.areaUnderROC"
   ]
  },
  {
   "cell_type": "code",
   "execution_count": null,
   "id": "4e3b7670-549f-425a-bd05-50cca0e900d7",
   "metadata": {},
   "outputs": [],
   "source": [
    "model.summary.pr.show()"
   ]
  },
  {
   "cell_type": "code",
   "execution_count": null,
   "id": "8ccddb1d-5bb4-4d1b-a6f3-b764bb3926ac",
   "metadata": {},
   "outputs": [],
   "source": [
    "spark.sparkContext.stop()\n",
    "print('Sacabao')"
   ]
  },
  {
   "cell_type": "code",
   "execution_count": null,
   "id": "ba7a936e-779c-4381-a4f4-1f521c191fd0",
   "metadata": {},
   "outputs": [],
   "source": []
  }
 ],
 "metadata": {
  "kernelspec": {
   "display_name": "Python 3 (ipykernel)",
   "language": "python",
   "name": "python3"
  },
  "language_info": {
   "codemirror_mode": {
    "name": "ipython",
    "version": 3
   },
   "file_extension": ".py",
   "mimetype": "text/x-python",
   "name": "python",
   "nbconvert_exporter": "python",
   "pygments_lexer": "ipython3",
   "version": "3.9.2"
  }
 },
 "nbformat": 4,
 "nbformat_minor": 5
}
