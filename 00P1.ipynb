{
 "cells": [
  {
   "cell_type": "markdown",
   "id": "79df9fbc-8ae2-4946-ab11-0a2e52051311",
   "metadata": {},
   "source": [
    "# Paso a parquet los csv de https://www.kaggle.com/datasets/mkechinov/ecommerce-events-history-in-cosmetics-shop"
   ]
  },
  {
   "cell_type": "code",
   "execution_count": 8,
   "id": "9809d572-83ea-498d-961c-b08593e7a424",
   "metadata": {},
   "outputs": [
    {
     "data": {
      "text/html": [
       "\n",
       "            <div>\n",
       "                <p><b>SparkSession - in-memory</b></p>\n",
       "                \n",
       "        <div>\n",
       "            <p><b>SparkContext</b></p>\n",
       "\n",
       "            <p><a href=\"http://f5fb0b75c0fa:4040\">Spark UI</a></p>\n",
       "\n",
       "            <dl>\n",
       "              <dt>Version</dt>\n",
       "                <dd><code>v3.2.1</code></dd>\n",
       "              <dt>Master</dt>\n",
       "                <dd><code>spark://spark-master:7077</code></dd>\n",
       "              <dt>AppName</dt>\n",
       "                <dd><code>Ecommerce</code></dd>\n",
       "            </dl>\n",
       "        </div>\n",
       "        \n",
       "            </div>\n",
       "        "
      ],
      "text/plain": [
       "<pyspark.sql.session.SparkSession at 0x7f05fc53c670>"
      ]
     },
     "execution_count": 8,
     "metadata": {},
     "output_type": "execute_result"
    }
   ],
   "source": [
    "import pyspark\n",
    "from pyspark.sql import SparkSession\n",
    "from pyspark.conf import SparkConf\n",
    "\n",
    "conf = (SparkConf().set(\"spark.executor.memory\", \"6g\")   #<--- Por executor. Como hay dos instancias, la mitad por executor.\n",
    "                    .set(\"spark.executor.cores\", \"3\")    #<--- Por cada executor. Como hay 4, 4*3=12 cores se usan.\n",
    "                    .set(\"spark.executor.instances\", \"2\")\n",
    "                    .set(\"spark.eventLog.enabled\", \"true\"))\n",
    "spark = SparkSession.builder.master(\"spark://spark-master:7077\").appName(\"Ecommerce\").config(conf=conf).getOrCreate()\n",
    "spark"
   ]
  },
  {
   "cell_type": "code",
   "execution_count": 11,
   "id": "21680333-d2da-4460-b92d-869e172113a5",
   "metadata": {},
   "outputs": [
    {
     "name": "stderr",
     "output_type": "stream",
     "text": [
      "                                                                                \r"
     ]
    },
    {
     "name": "stdout",
     "output_type": "stream",
     "text": [
      "================================================================================ \n",
      "filas -->  20692840 columnas -->  9 \n",
      " ================================================================================\n",
      "+-----------------------+----------------+----------+-------------------+-------------+---------+-----+---------+------------------------------------+\n",
      "|event_time             |event_type      |product_id|category_id        |category_code|brand    |price|user_id  |user_session                        |\n",
      "+-----------------------+----------------+----------+-------------------+-------------+---------+-----+---------+------------------------------------+\n",
      "|2019-12-01 00:00:00 UTC|remove_from_cart|5712790   |1487580005268456287|null         |f.o.x    |6.27 |576802932|51d85cb0-897f-48d2-918b-ad63965c12dc|\n",
      "|2019-12-01 00:00:00 UTC|view            |5764655   |1487580005411062629|null         |cnd      |29.05|412120092|8adff31e-2051-4894-9758-224bfa8aec18|\n",
      "|2019-12-01 00:00:02 UTC|cart            |4958      |1487580009471148064|null         |runail   |1.19 |494077766|c99a50e8-2fac-4c4d-89ec-41c05f114554|\n",
      "|2019-12-01 00:00:05 UTC|view            |5848413   |1487580007675986893|null         |freedecor|0.79 |348405118|722ffea5-73c0-4924-8e8f-371ff8031af4|\n",
      "|2019-12-01 00:00:07 UTC|view            |5824148   |1487580005511725929|null         |null     |5.56 |576005683|28172809-7e4a-45ce-bab0-5efa90117cd5|\n",
      "|2019-12-01 00:00:09 UTC|view            |5773361   |1487580005134238553|null         |runail   |2.62 |560109803|38cf4ba1-4a0a-4c9e-b870-46685d105f95|\n",
      "|2019-12-01 00:00:18 UTC|cart            |5629988   |1487580009311764506|null         |null     |1.19 |579966747|1512be50-d0fd-4a92-bcd8-3ea3943f2a3b|\n",
      "|2019-12-01 00:00:22 UTC|view            |5807805   |1487580005713052531|null         |ingarden |4.44 |576005683|28172809-7e4a-45ce-bab0-5efa90117cd5|\n",
      "|2019-12-01 00:00:27 UTC|view            |5588608   |1487580008145748965|null         |roubloff |5.4  |546170008|676d9fcc-2a4f-4448-b49d-136f2e4208c1|\n",
      "|2019-12-01 00:00:34 UTC|cart            |5335      |1487580009605365797|null         |runail   |0.4  |494077766|c99a50e8-2fac-4c4d-89ec-41c05f114554|\n",
      "|2019-12-01 00:00:40 UTC|cart            |5755170   |1487580009387261981|null         |null     |2.79 |579751441|8de492d7-0937-47ae-be2c-a7615aec2b0d|\n",
      "|2019-12-01 00:00:44 UTC|remove_from_cart|5650294   |1487580007835370453|null         |metzger  |3.33 |576802932|51d85cb0-897f-48d2-918b-ad63965c12dc|\n",
      "|2019-12-01 00:00:45 UTC|cart            |5755170   |1487580009387261981|null         |null     |2.79 |579751441|8de492d7-0937-47ae-be2c-a7615aec2b0d|\n",
      "|2019-12-01 00:00:46 UTC|remove_from_cart|5692261   |1487580007835370453|null         |staleks  |6.35 |576802932|51d85cb0-897f-48d2-918b-ad63965c12dc|\n",
      "|2019-12-01 00:00:46 UTC|view            |5798929   |1783999068909863670|null         |zinger   |6.19 |579966747|1512be50-d0fd-4a92-bcd8-3ea3943f2a3b|\n",
      "|2019-12-01 00:00:46 UTC|cart            |5755170   |1487580009387261981|null         |null     |2.79 |579751441|8de492d7-0937-47ae-be2c-a7615aec2b0d|\n",
      "|2019-12-01 00:00:49 UTC|remove_from_cart|5694628   |1487580007835370453|null         |yoko     |3.65 |576802932|51d85cb0-897f-48d2-918b-ad63965c12dc|\n",
      "|2019-12-01 00:00:50 UTC|view            |3936      |1487580005343953762|null         |entity   |10.95|579969717|006dd2fb-ae1e-4461-985a-d4e70ca64543|\n",
      "|2019-12-01 00:00:52 UTC|cart            |5761411   |1487580007432717250|null         |ingarden |2.86 |494077766|c99a50e8-2fac-4c4d-89ec-41c05f114554|\n",
      "|2019-12-01 00:00:58 UTC|cart            |5761411   |1487580007432717250|null         |ingarden |2.86 |494077766|c99a50e8-2fac-4c4d-89ec-41c05f114554|\n",
      "+-----------------------+----------------+----------+-------------------+-------------+---------+-----+---------+------------------------------------+\n",
      "only showing top 20 rows\n",
      "\n"
     ]
    },
    {
     "name": "stderr",
     "output_type": "stream",
     "text": [
      "                                                                                \r"
     ]
    },
    {
     "name": "stdout",
     "output_type": "stream",
     "text": [
      "CPU times: user 14.4 ms, sys: 10.4 ms, total: 24.9 ms\n",
      "Wall time: 21.9 s\n"
     ]
    }
   ],
   "source": [
    "%%time\n",
    "from pyspark.sql.types import StructType\n",
    "from pyspark.sql.types import StringType,BooleanType,DateType,IntegerType\n",
    "from pyspark.sql.functions import substring\n",
    "import pyspark.sql.functions as F\n",
    "\n",
    "df = spark.read.csv(\"./datos/ecommerce/*.csv\", sep=\",\", header=True, inferSchema=True)\n",
    "# shape:\n",
    "print(80*'=','\\nfilas --> ', df.count(), 'columnas --> ', len(df.columns), '\\n', 80*'=')\n",
    "df.show(truncate=False)\n",
    "\n",
    "df = df.withColumn(\"proc\", substring(\"event_time\",1,10))\n",
    "df.write.mode(\"append\").partitionBy(\"proc\").parquet(\"./datos/ecommerce/ecommerce.parquet\")"
   ]
  },
  {
   "cell_type": "code",
   "execution_count": null,
   "id": "8ccddb1d-5bb4-4d1b-a6f3-b764bb3926ac",
   "metadata": {},
   "outputs": [],
   "source": [
    "%%time\n",
    "spark.sparkContext.stop()\n"
   ]
  },
  {
   "cell_type": "code",
   "execution_count": null,
   "id": "214fe26b-01b3-481b-a709-9745b95881a2",
   "metadata": {},
   "outputs": [],
   "source": []
  }
 ],
 "metadata": {
  "kernelspec": {
   "display_name": "Python 3 (ipykernel)",
   "language": "python",
   "name": "python3"
  },
  "language_info": {
   "codemirror_mode": {
    "name": "ipython",
    "version": 3
   },
   "file_extension": ".py",
   "mimetype": "text/x-python",
   "name": "python",
   "nbconvert_exporter": "python",
   "pygments_lexer": "ipython3",
   "version": "3.9.2"
  }
 },
 "nbformat": 4,
 "nbformat_minor": 5
}
