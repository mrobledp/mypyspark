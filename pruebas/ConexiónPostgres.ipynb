{
 "cells": [
  {
   "cell_type": "markdown",
   "id": "0097ebb7-b387-46d3-8c71-6cb53d5b31f5",
   "metadata": {},
   "source": [
    "# Prueba de la conexión con un Postgres"
   ]
  },
  {
   "cell_type": "code",
   "execution_count": 1,
   "id": "3b16c999-99d7-49ed-a68f-e64bf3e3cc8e",
   "metadata": {},
   "outputs": [
    {
     "name": "stdout",
     "output_type": "stream",
     "text": [
      "Requirement already satisfied: psycopg2-binary in /usr/local/lib/python3.9/dist-packages (2.9.5)\n"
     ]
    }
   ],
   "source": [
    "!pip install psycopg2-binary"
   ]
  },
  {
   "cell_type": "markdown",
   "id": "5cb6deb9-ae7f-40e0-9dfa-28e5e40d0772",
   "metadata": {},
   "source": [
    "### He puesto el postgres en la red de Spark usando el Portainer. Eso da una nueva IP que conecta sin problemas"
   ]
  },
  {
   "cell_type": "code",
   "execution_count": 18,
   "id": "cb4ffd26-4e97-4547-823e-d585c4bc16ea",
   "metadata": {},
   "outputs": [
    {
     "name": "stdout",
     "output_type": "stream",
     "text": [
      "pasa el import\n",
      "pasa el conn\n",
      "pasa el cusor\n",
      "pasa el execute select\n",
      "Connection established to:  ('PostgreSQL 14.5 (Debian 14.5-1.pgdg110+1) on x86_64-pc-linux-gnu, compiled by gcc (Debian 10.2.1-6) 10.2.1 20210110, 64-bit',)\n",
      "pasa el cursor execute contrea la tabla\n",
      "Respuesta de la base de datos:\n",
      " []\n"
     ]
    }
   ],
   "source": [
    "import psycopg2\n",
    "print('pasa el import')\n",
    "\n",
    "#establishing the connection\n",
    "conn = psycopg2.connect(\n",
    "   database=\"postgres\", user='root', password='root',\n",
    "   host='172.18.0.8', port= '5432'\n",
    ")\n",
    "print('pasa el conn')\n",
    "\n",
    "#Creating a cursor object using the cursor() method\n",
    "cursor = conn.cursor()\n",
    "print('pasa el cusor')\n",
    "\n",
    "#Executing an MYSQL function using the execute() method\n",
    "cursor.execute(\"select version()\")\n",
    "print('pasa el execute select')\n",
    "\n",
    "#Fetch a single row using fetchone() method.\n",
    "data = cursor.fetchone()\n",
    "print(\"Connection established to: \",data)\n",
    "\n",
    "#Executing an MYSQL function using the execute() method\n",
    "#cursor.execute(\"select * from information_schema.tables where table_schema = 'public'\")\n",
    "cursor.execute(\"select * from public.tablados\")\n",
    "print('pasa el cursor execute contrea la tabla')\n",
    "\n",
    "#Fetch a single row using fetchone() method.\n",
    "data = cursor.fetchall()\n",
    "print(\"Respuesta de la base de datos:\\n\",data)\n",
    "cursor.close()"
   ]
  },
  {
   "cell_type": "markdown",
   "id": "1c07189b-379f-45ca-821a-2f517e297fca",
   "metadata": {},
   "source": [
    "### Prueba del insert"
   ]
  },
  {
   "cell_type": "code",
   "execution_count": 22,
   "id": "399c25d4-0470-4922-8d22-860abe5a1e7b",
   "metadata": {},
   "outputs": [
    {
     "name": "stdout",
     "output_type": "stream",
     "text": [
      "Pasa la nueva conexión para el segundo cursor\n",
      "pasa el cursor execute del insert\n"
     ]
    }
   ],
   "source": [
    "cursor = conn.cursor()\n",
    "print(\"Pasa la nueva conexión para el segundo cursor\")\n",
    "cursor.execute(\"ROLLBACK\")\n",
    "\n",
    "cursor.execute(\"INSERT INTO public.tablatres VALUES(%s, %s, %s, %s)\",  (4, 'Jupyter', 'Prueba desde Jupyter', 'Estos son más datos para el varchar muy largo.'))\n",
    "print('pasa el cursor execute del insert')\n",
    "conn.commit() # <- We MUST commit to reflect the inserted data\n"
   ]
  },
  {
   "cell_type": "code",
   "execution_count": null,
   "id": "e90f4735-7af0-4315-a24c-f36ea6eb4f13",
   "metadata": {},
   "outputs": [],
   "source": []
  },
  {
   "cell_type": "code",
   "execution_count": null,
   "id": "97251cb2-640e-443e-b96c-ae369dcd4588",
   "metadata": {},
   "outputs": [],
   "source": [
    "#Closing the connection\n",
    "cursor.close()\n",
    "conn.close()"
   ]
  }
 ],
 "metadata": {
  "kernelspec": {
   "display_name": "Python 3 (ipykernel)",
   "language": "python",
   "name": "python3"
  },
  "language_info": {
   "codemirror_mode": {
    "name": "ipython",
    "version": 3
   },
   "file_extension": ".py",
   "mimetype": "text/x-python",
   "name": "python",
   "nbconvert_exporter": "python",
   "pygments_lexer": "ipython3",
   "version": "3.9.2"
  }
 },
 "nbformat": 4,
 "nbformat_minor": 5
}
