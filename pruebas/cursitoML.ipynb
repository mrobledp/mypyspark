{
 "cells": [
  {
   "cell_type": "markdown",
   "id": "eebcda13-2ed6-47c5-b3df-c039824fb68b",
   "metadata": {},
   "source": [
    "# Basado en el video https://www.youtube.com/watch?v=rWobNcypVHw"
   ]
  },
  {
   "cell_type": "code",
   "execution_count": null,
   "id": "9809d572-83ea-498d-961c-b08593e7a424",
   "metadata": {},
   "outputs": [],
   "source": [
    "### Probando con datos\n",
    "import pyspark\n",
    "from pyspark.sql import SparkSession\n",
    "from pyspark.conf import SparkConf\n",
    "\n",
    "conf = (SparkConf().set(\"spark.executor.memory\", \"6g\")   #<--- Por executor. Como hay dos instancias, la mitad por executor.\n",
    "                    .set(\"spark.executor.cores\", \"3\")    #<--- Por cada executor. Como hay 4, 4*3=12 cores se usan.\n",
    "                    .set(\"spark.executor.instances\", \"2\")\n",
    "                    .set(\"spark.eventLog.enabled\", \"true\"))\n",
    "spark = SparkSession.builder.master(\"spark://spark-master:7077\").appName(\"cursitoML\").config(conf=conf).getOrCreate()\n",
    "spark"
   ]
  },
  {
   "cell_type": "markdown",
   "id": "c11abd58-bfe2-4287-a422-be96027a5e2a",
   "metadata": {},
   "source": [
    "#### En teoría vamos a hacer:\n",
    "+ Data prepration\n",
    "+ Feature engineering\n",
    "+ Construcción del modelo\n",
    "+ Evaluación"
   ]
  },
  {
   "cell_type": "code",
   "execution_count": null,
   "id": "ff21e5f9-6afc-4f16-875c-a66e61280360",
   "metadata": {},
   "outputs": [],
   "source": [
    "%%time\n",
    "df = spark.read.csv(\"../datos/hcvdat0.csv\", header=True, inferSchema=True)\n",
    "df.show(1, vertical=True)\n",
    "df.show()"
   ]
  },
  {
   "cell_type": "markdown",
   "id": "ec6d4d14-541a-4c6a-a3e5-5fa28fb6cfc2",
   "metadata": {},
   "source": [
    "# Reordena las columnas no sé muy bien para qué y quita la primera:"
   ]
  },
  {
   "cell_type": "code",
   "execution_count": null,
   "id": "6d465e95-06cb-47ee-82f8-3bbbf99fd36c",
   "metadata": {},
   "outputs": [],
   "source": [
    "df = df.select(\"Age\",\"Sex\",\"ALB\",\"ALP\",\"ALT\",\"AST\",\"BIL\",\"CHE\",\"CHOL\",\"CREA\",\"GGT\",\"PROT\",\"Category\")\n",
    "df.show(5)\n",
    "df.describe().show()"
   ]
  },
  {
   "cell_type": "markdown",
   "id": "9090aa8b-c62f-4555-bd80-af89a38b57b2",
   "metadata": {},
   "source": [
    "#### Se pone a contar algún dato:"
   ]
  },
  {
   "cell_type": "code",
   "execution_count": null,
   "id": "3e6437b3-8e84-4016-8413-a2be70016d59",
   "metadata": {},
   "outputs": [],
   "source": [
    "for c in ['Category','Sex','Age']:df.groupBy(c).count().show(truncate=False)"
   ]
  },
  {
   "cell_type": "markdown",
   "id": "76659787-1ea7-42dd-8294-15cfac5e73dc",
   "metadata": {},
   "source": [
    "### Empieza la conversión de valores de las variables categóricas:"
   ]
  },
  {
   "cell_type": "code",
   "execution_count": null,
   "id": "5967ddb4-776b-4db6-b7cc-4bf31df15f4e",
   "metadata": {},
   "outputs": [],
   "source": [
    "!pip install numpy"
   ]
  },
  {
   "cell_type": "code",
   "execution_count": null,
   "id": "02234c72-b989-4902-a232-5dfa6a131f9a",
   "metadata": {},
   "outputs": [],
   "source": [
    "import pyspark.ml\n",
    "dir(pyspark.ml)"
   ]
  },
  {
   "cell_type": "code",
   "execution_count": null,
   "id": "e0e89579-20b0-42dc-98a3-55ea58768ca7",
   "metadata": {},
   "outputs": [],
   "source": [
    "from pyspark.ml.feature import VectorAssembler, StringIndexer"
   ]
  },
  {
   "cell_type": "markdown",
   "id": "daa40b0b-0f7e-41f5-a6c7-6edefe702c58",
   "metadata": {},
   "source": [
    "### Conversión de la columna sex:"
   ]
  },
  {
   "cell_type": "code",
   "execution_count": null,
   "id": "8b84a1a4-a98c-4b0e-9111-9846635b22e7",
   "metadata": {},
   "outputs": [],
   "source": [
    "sexCoder = StringIndexer(inputCol='Sex',outputCol='SexNum').fit(df)\n",
    "df = sexCoder.transform(df)\n",
    "df.show()"
   ]
  },
  {
   "cell_type": "markdown",
   "id": "77016116-90a7-4e41-984a-a8483ee2620a",
   "metadata": {},
   "source": [
    "### Convierte la columna Category"
   ]
  },
  {
   "cell_type": "code",
   "execution_count": null,
   "id": "53ecf7e1-8425-44ae-a7ba-19bd5b2034b2",
   "metadata": {},
   "outputs": [],
   "source": [
    "catCoder = StringIndexer(inputCol='Category',outputCol='CategoryNum').fit(df)\n",
    "df = catCoder.transform(df)\n",
    "df.show()"
   ]
  },
  {
   "cell_type": "markdown",
   "id": "097c3436-9562-4469-8d07-a7191558acc9",
   "metadata": {},
   "source": [
    "### Para saber a qué corresponden las etiquetas:"
   ]
  },
  {
   "cell_type": "code",
   "execution_count": null,
   "id": "51be8fe3-caac-40de-a8c6-30db76a1a12c",
   "metadata": {},
   "outputs": [],
   "source": [
    "sexCoder.labels"
   ]
  },
  {
   "cell_type": "code",
   "execution_count": null,
   "id": "cce138a3-f2c4-4027-a6ac-b9d6cb3781fb",
   "metadata": {},
   "outputs": [],
   "source": [
    "catCoder.labels"
   ]
  },
  {
   "cell_type": "markdown",
   "id": "e03536c6-6308-4ed5-a59b-cb74e7c5f4aa",
   "metadata": {},
   "source": [
    "### Se puede hacer lo contrario para saber a qué etiqueta corresponde un valor:"
   ]
  },
  {
   "cell_type": "code",
   "execution_count": null,
   "id": "d6e6433b-0af8-4b8a-91cf-0ee2f60f3df9",
   "metadata": {},
   "outputs": [],
   "source": [
    "from pyspark.ml.feature import IndexToString\n",
    "convertidor = IndexToString(inputCol='CategoryNum',outputCol='catOriginal')\n",
    "df_conv = convertidor.transform(df)\n",
    "df_conv.groupBy('catOriginal').count().show(truncate=False)"
   ]
  },
  {
   "cell_type": "markdown",
   "id": "c4c6849d-aea8-4345-85d5-468c89798f3b",
   "metadata": {},
   "source": [
    "### Casteo de las variables string que todavía no se han convertido"
   ]
  },
  {
   "cell_type": "code",
   "execution_count": null,
   "id": "fdb357dc-c0ae-4ac4-bcad-e37c1f2ef225",
   "metadata": {},
   "outputs": [],
   "source": [
    "df.dtypes"
   ]
  },
  {
   "cell_type": "code",
   "execution_count": null,
   "id": "07cca8ad-713f-4254-9e3d-ccf3a754b3c7",
   "metadata": {},
   "outputs": [],
   "source": [
    "df = df.withColumn(\"ALB\",df.ALB.cast('double'))\n",
    "df = df.withColumn(\"ALP\",df.ALP.cast('double'))\n",
    "df = df.withColumn(\"ALT\",df.ALT.cast('double'))\n",
    "df = df.withColumn(\"CHOL\",df.CHOL.cast('double'))\n",
    "df = df.withColumn(\"PROT\",df.PROT.cast('double'))"
   ]
  },
  {
   "cell_type": "code",
   "execution_count": null,
   "id": "723a3d61-238d-4494-b115-0ff2d059f5fe",
   "metadata": {},
   "outputs": [],
   "source": [
    "df.dtypes"
   ]
  },
  {
   "cell_type": "markdown",
   "id": "985222dc-76c4-435a-bb4c-1c4c08d4111e",
   "metadata": {},
   "source": [
    "### Cuenta cuántos nan or null hay en cada columna:"
   ]
  },
  {
   "cell_type": "code",
   "execution_count": null,
   "id": "0dac0c87-1f20-432a-9621-5939235609cf",
   "metadata": {},
   "outputs": [],
   "source": [
    "from pyspark.sql.functions import *\n",
    "print(df.select([count(when(isnan(c) | col(c).isNull(), c)).alias(c) for c in df.columns]).show())"
   ]
  },
  {
   "cell_type": "markdown",
   "id": "bc4c427e-43ba-47ab-8d39-c6be9e2c03eb",
   "metadata": {},
   "source": [
    "### Cambio los nulos por ceros"
   ]
  },
  {
   "cell_type": "code",
   "execution_count": null,
   "id": "d903a1bb-e966-4abe-9146-9a99ac932895",
   "metadata": {},
   "outputs": [],
   "source": [
    "df = df.na.fill(value=0,subset=[\"ALB\",\"ALP\",\"ALT\",\"AST\",\"BIL\",\"CHE\",\"CHOL\",\"CREA\",\"GGT\",\"PROT\"])\n",
    "print(df.select([count(when(isnan(c) | col(c).isNull(), c)).alias(c) for c in df.columns]).show())"
   ]
  },
  {
   "cell_type": "markdown",
   "id": "ac4fbad5-163c-4c99-94a5-639f2dfda43d",
   "metadata": {},
   "source": [
    "### Selección de las variables numéricas y vectorización:"
   ]
  },
  {
   "cell_type": "code",
   "execution_count": null,
   "id": "a48174e4-2353-46a8-b4bb-fb12253040ed",
   "metadata": {},
   "outputs": [],
   "source": [
    "featuresReq = [\"Age\",\"ALB\",\"ALP\",\"ALT\",\"AST\",\"BIL\",\"CHE\",\"CHOL\",\"CREA\",\"GGT\",\"PROT\",\"SexNum\",\"CategoryNum\"]\n",
    "\n",
    "vec_ass = VectorAssembler(inputCols=featuresReq,outputCol='features')\n",
    "\n",
    "df_vect = vec_ass.transform(df)\n",
    "df_vect.show(1, truncate=False, vertical=True)"
   ]
  },
  {
   "cell_type": "markdown",
   "id": "bec47e81-0fb6-401d-882f-5818a6b1b5dc",
   "metadata": {},
   "source": [
    "### División de los DF de entrenamiento y test:"
   ]
  },
  {
   "cell_type": "code",
   "execution_count": null,
   "id": "535f39b0-7e62-4fe6-a8e8-96e34b4c3790",
   "metadata": {},
   "outputs": [],
   "source": [
    "train_df,test_df = df_vect.randomSplit([0.8,0.2])\n",
    "\n",
    "print(train_df.count())\n",
    "print(test_df.count())\n"
   ]
  },
  {
   "cell_type": "markdown",
   "id": "1238877f-d211-4648-aee1-3ec507c1b037",
   "metadata": {},
   "source": [
    "### Construcción del modelo"
   ]
  },
  {
   "cell_type": "code",
   "execution_count": 45,
   "id": "507627c9-cc22-41c2-b6ce-94150ac960f1",
   "metadata": {},
   "outputs": [],
   "source": [
    "from pyspark.ml.classification import LogisticRegression, DecisionTreeClassifier\n",
    "\n",
    "#Modelo logístico:\n",
    "lr = LogisticRegression(featuresCol='features', labelCol='CategoryNum')\n",
    "\n",
    "lr_model= lr.fit(train_df)"
   ]
  },
  {
   "cell_type": "markdown",
   "id": "db83e6ba-fd78-4228-be1f-7f593ba776a8",
   "metadata": {},
   "source": [
    "### Detección:"
   ]
  },
  {
   "cell_type": "code",
   "execution_count": 46,
   "id": "928eee3e-87e6-49b2-8875-55c4cca00de8",
   "metadata": {},
   "outputs": [
    {
     "name": "stdout",
     "output_type": "stream",
     "text": [
      "-RECORD 0---------------------------------------------------------------------------------------------------------\n",
      " Age           | 32                                                                                               \n",
      " Sex           | m                                                                                                \n",
      " ALB           | 39.2                                                                                             \n",
      " ALP           | 74.1                                                                                             \n",
      " ALT           | 32.6                                                                                             \n",
      " AST           | 24.8                                                                                             \n",
      " BIL           | 9.6                                                                                              \n",
      " CHE           | 9.15                                                                                             \n",
      " CHOL          | 4.32                                                                                             \n",
      " CREA          | 76.0                                                                                             \n",
      " GGT           | 29.9                                                                                             \n",
      " PROT          | 68.7                                                                                             \n",
      " Category      | 0=Blood Donor                                                                                    \n",
      " SexNum        | 0.0                                                                                              \n",
      " CategoryNum   | 0.0                                                                                              \n",
      " features      | [32.0,39.2,74.1,32.6,24.8,9.6,9.15,4.32,76.0,29.9,68.7,0.0,0.0]                                  \n",
      " rawPrediction | [136.62019483076313,-48.92900436602889,-9.638396564506763,-89.74342123158587,11.690627331358371] \n",
      " probability   | [1.0,2.6122014564701304E-81,3.02482898605454E-64,4.915080559782886E-99,5.543425412917104E-55]    \n",
      " prediction    | 0.0                                                                                              \n",
      "only showing top 1 row\n",
      "\n"
     ]
    }
   ],
   "source": [
    "detect = lr_model.transform(test_df)\n",
    "detect.show(1, truncate=False, vertical=True)"
   ]
  },
  {
   "cell_type": "code",
   "execution_count": 64,
   "id": "bce59879-e28c-4a4a-aeb3-d188d6d96876",
   "metadata": {},
   "outputs": [
    {
     "name": "stdout",
     "output_type": "stream",
     "text": [
      "+----------+-----+\n",
      "|prediction|count|\n",
      "+----------+-----+\n",
      "|0.0       |100  |\n",
      "|1.0       |5    |\n",
      "|4.0       |3    |\n",
      "|3.0       |7    |\n",
      "|2.0       |6    |\n",
      "+----------+-----+\n",
      "\n"
     ]
    }
   ],
   "source": [
    "detect.groupBy('prediction').count().show(truncate=False)"
   ]
  },
  {
   "cell_type": "markdown",
   "id": "d763125e-4431-424d-b5b6-44b27eb4afa5",
   "metadata": {},
   "source": [
    "### Evaluación de la efectividad del modelo"
   ]
  },
  {
   "cell_type": "code",
   "execution_count": 58,
   "id": "92fa38d8-46c9-42c2-ba30-2d7e023bad72",
   "metadata": {},
   "outputs": [],
   "source": [
    "from pyspark.ml.evaluation import MulticlassClassificationEvaluator"
   ]
  },
  {
   "cell_type": "code",
   "execution_count": 62,
   "id": "0bcdbf50-7257-4a56-b530-bd71db0a05f0",
   "metadata": {},
   "outputs": [],
   "source": [
    "evaluator = MulticlassClassificationEvaluator(labelCol='CategoryNum',metricName='accuracy')"
   ]
  },
  {
   "cell_type": "code",
   "execution_count": 63,
   "id": "82b3cca4-b864-47c3-a391-699ca7ef981f",
   "metadata": {},
   "outputs": [
    {
     "data": {
      "text/plain": [
       "0.9586776859504132"
      ]
     },
     "execution_count": 63,
     "metadata": {},
     "output_type": "execute_result"
    }
   ],
   "source": [
    "evaluator.evaluate(detect)"
   ]
  },
  {
   "cell_type": "markdown",
   "id": "5d866e76-0a5d-4913-8362-755a623ccadf",
   "metadata": {},
   "source": [
    "### Precisión y otras cosas:"
   ]
  },
  {
   "cell_type": "code",
   "execution_count": 65,
   "id": "ed5a4f38-fc8d-411c-8e53-ddad9175b4e4",
   "metadata": {},
   "outputs": [],
   "source": [
    "from pyspark.mllib.evaluation import MulticlassMetrics"
   ]
  },
  {
   "cell_type": "code",
   "execution_count": null,
   "id": "66b882ef-4386-40a6-b115-2462e7e6b1e2",
   "metadata": {},
   "outputs": [],
   "source": [
    "lr_metric = MulticlassMetrics(detect)"
   ]
  },
  {
   "cell_type": "code",
   "execution_count": null,
   "id": "8ccddb1d-5bb4-4d1b-a6f3-b764bb3926ac",
   "metadata": {},
   "outputs": [],
   "source": [
    "\"\"\"\n",
    "spark.sparkContext.stop()\n",
    "print('Sacabao')catOriginal\n",
    "\"\"\"\n",
    "print(\"Pasó por aquí\")"
   ]
  },
  {
   "cell_type": "code",
   "execution_count": null,
   "id": "ba7a936e-779c-4381-a4f4-1f521c191fd0",
   "metadata": {},
   "outputs": [],
   "source": []
  }
 ],
 "metadata": {
  "kernelspec": {
   "display_name": "Python 3 (ipykernel)",
   "language": "python",
   "name": "python3"
  },
  "language_info": {
   "codemirror_mode": {
    "name": "ipython",
    "version": 3
   },
   "file_extension": ".py",
   "mimetype": "text/x-python",
   "name": "python",
   "nbconvert_exporter": "python",
   "pygments_lexer": "ipython3",
   "version": "3.9.2"
  }
 },
 "nbformat": 4,
 "nbformat_minor": 5
}
