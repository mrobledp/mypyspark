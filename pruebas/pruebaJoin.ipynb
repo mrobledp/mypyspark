{
 "cells": [
  {
   "cell_type": "code",
   "execution_count": 1,
   "id": "9809d572-83ea-498d-961c-b08593e7a424",
   "metadata": {},
   "outputs": [
    {
     "name": "stderr",
     "output_type": "stream",
     "text": [
      "Using Spark's default log4j profile: org/apache/spark/log4j-defaults.properties\n",
      "Setting default log level to \"WARN\".\n",
      "To adjust logging level use sc.setLogLevel(newLevel). For SparkR, use setLogLevel(newLevel).\n",
      "23/03/09 19:44:16 WARN NativeCodeLoader: Unable to load native-hadoop library for your platform... using builtin-java classes where applicable\n"
     ]
    },
    {
     "data": {
      "text/html": [
       "\n",
       "            <div>\n",
       "                <p><b>SparkSession - in-memory</b></p>\n",
       "                \n",
       "        <div>\n",
       "            <p><b>SparkContext</b></p>\n",
       "\n",
       "            <p><a href=\"http://7917bd745719:4040\">Spark UI</a></p>\n",
       "\n",
       "            <dl>\n",
       "              <dt>Version</dt>\n",
       "                <dd><code>v3.2.1</code></dd>\n",
       "              <dt>Master</dt>\n",
       "                <dd><code>spark://spark-master:7077</code></dd>\n",
       "              <dt>AppName</dt>\n",
       "                <dd><code>ReadParquetYearMon16MM</code></dd>\n",
       "            </dl>\n",
       "        </div>\n",
       "        \n",
       "            </div>\n",
       "        "
      ],
      "text/plain": [
       "<pyspark.sql.session.SparkSession at 0x7f8d744fc910>"
      ]
     },
     "execution_count": 1,
     "metadata": {},
     "output_type": "execute_result"
    }
   ],
   "source": [
    "### Probando con datos\n",
    "import pyspark\n",
    "from pyspark.sql import SparkSession\n",
    "from pyspark.conf import SparkConf\n",
    "\n",
    "conf = (SparkConf().set(\"spark.executor.memory\", \"6g\")   #<--- Por executor. Como hay dos instancias, la mitad por executor.\n",
    "                    .set(\"spark.executor.cores\", \"3\")    #<--- Por cada executor. Como hay 4, 4*3=12 cores se usan.\n",
    "                    .set(\"spark.executor.instances\", \"2\")\n",
    "                    .set(\"spark.eventLog.enabled\", \"true\"))\n",
    "spark = SparkSession.builder.master(\"spark://spark-master:7077\").appName(\"ReadParquetYearMon16MM\").config(conf=conf).getOrCreate()\n",
    "spark"
   ]
  },
  {
   "cell_type": "code",
   "execution_count": 2,
   "id": "821c805d-ae05-4e05-8144-dde6d1ed4bf9",
   "metadata": {},
   "outputs": [
    {
     "name": "stdout",
     "output_type": "stream",
     "text": [
      "Inicio: Thu Mar  9 19:44:18 2023\n"
     ]
    }
   ],
   "source": [
    "import time\n",
    "print ('Inicio: '+time.strftime(\"%c\"))\n",
    "inicio = time.perf_counter()"
   ]
  },
  {
   "cell_type": "code",
   "execution_count": 3,
   "id": "21680333-d2da-4460-b92d-869e172113a5",
   "metadata": {},
   "outputs": [
    {
     "name": "stdout",
     "output_type": "stream",
     "text": [
      "Primer mes: 2003-12\n",
      "Último mes: 2001-01\n"
     ]
    },
    {
     "name": "stderr",
     "output_type": "stream",
     "text": [
      "                                                                                \r"
     ]
    },
    {
     "name": "stdout",
     "output_type": "stream",
     "text": [
      "root\n",
      " |-- Id: string (nullable = true)\n",
      " |-- fecNac: string (nullable = true)\n",
      " |-- sex: string (nullable = true)\n",
      " |-- ingresos: integer (nullable = true)\n",
      " |-- partido: string (nullable = true)\n",
      " |-- edad: integer (nullable = true)\n",
      " |-- mapa: string (nullable = true)\n",
      " |-- yearMon: string (nullable = true)\n",
      "\n"
     ]
    },
    {
     "name": "stderr",
     "output_type": "stream",
     "text": [
      "                                                                                \r"
     ]
    },
    {
     "name": "stdout",
     "output_type": "stream",
     "text": [
      "57831664\n",
      "+------------+----------+---+--------+-------+----+-------------+-------+\n",
      "|          Id|    fecNac|sex|ingresos|partido|edad|         mapa|yearMon|\n",
      "+------------+----------+---+--------+-------+----+-------------+-------+\n",
      "|ID2694381978|2001-10-25|  M|   64400|   PSOE|  20|0-0-0-0-0-0-1|2001-10|\n",
      "|ID2705876419|2001-10-26|  H|   78000|   Otro|  20|1-1-1-1-0-0-0|2001-10|\n",
      "|ID2694388738|2001-10-06|  H|   63600|   PSOE|  21|0-0-1-0-0-0-0|2001-10|\n",
      "|ID2711053790|2001-10-02|  M|   34300|    VOX|  21|1-0-1-0-0-1-1|2001-10|\n",
      "|ID2711060110|2001-10-28|  H|   27300|     CS|  20|0-0-1-1-0-1-0|2001-10|\n",
      "|ID2708567699|2001-10-29|  M|   58500|     CS|  20|0-0-1-0-0-1-0|2001-10|\n",
      "|ID2685314060|2001-10-01|  H|    9600|     CS|  21|0-1-1-0-1-0-0|2001-10|\n",
      "|ID2697589031|2001-10-20|  M|   28700|     CS|  20|0-0-1-1-0-0-1|2001-10|\n",
      "|ID2702450821|2001-10-16|  M|   48300|     CS|  20|1-1-1-1-0-0-1|2001-10|\n",
      "|ID2703510856|2001-10-01|  H|   15300|     CS|  21|1-0-1-0-0-0-0|2001-10|\n",
      "|ID2697604166|2001-10-09|  H|   20000|    VOX|  21|1-0-0-0-1-0-1|2001-10|\n",
      "|ID2697607962|2001-10-09|  H|   37400|   PSOE|  21|0-1-1-0-1-0-1|2001-10|\n",
      "|ID2711081372|2001-10-21|  M|   60500|     UP|  20|1-0-1-1-0-1-1|2001-10|\n",
      "|ID2703518873|2001-10-11|  H|   22200|   Otro|  21|1-0-1-1-1-0-1|2001-10|\n",
      "|ID2711091254|2001-10-16|  H|   63600|   Otro|  20|1-1-0-1-1-0-1|2001-10|\n",
      "|ID2706621811|2001-10-19|  M|   27200|   PSOE|  20|0-1-0-0-0-0-1|2001-10|\n",
      "|ID2706622418|2001-10-05|  H|   18600|     PP|  21|0-1-0-1-0-1-1|2001-10|\n",
      "|ID2705915196|2001-10-16|  H|    8300|    VOX|  20|0-1-0-0-1-1-0|2001-10|\n",
      "|ID2699079987|2001-10-24|  H|   15500|     UP|  20|1-1-1-1-0-1-0|2001-10|\n",
      "|ID2697623605|2001-10-20|  H|   11900|    VOX|  20|1-0-1-0-1-0-0|2001-10|\n",
      "+------------+----------+---+--------+-------+----+-------------+-------+\n",
      "only showing top 20 rows\n",
      "\n",
      "== Parsed Logical Plan ==\n",
      "Relation [Id#0,fecNac#1,sex#2,ingresos#3,partido#4,edad#5,mapa#6,yearMon#7] parquet\n",
      "\n",
      "== Analyzed Logical Plan ==\n",
      "Id: string, fecNac: string, sex: string, ingresos: int, partido: string, edad: int, mapa: string, yearMon: string\n",
      "Relation [Id#0,fecNac#1,sex#2,ingresos#3,partido#4,edad#5,mapa#6,yearMon#7] parquet\n",
      "\n",
      "== Optimized Logical Plan ==\n",
      "Relation [Id#0,fecNac#1,sex#2,ingresos#3,partido#4,edad#5,mapa#6,yearMon#7] parquet\n",
      "\n",
      "== Physical Plan ==\n",
      "*(1) ColumnarToRow\n",
      "+- FileScan parquet [Id#0,fecNac#1,sex#2,ingresos#3,partido#4,edad#5,mapa#6,yearMon#7] Batched: true, DataFilters: [], Format: Parquet, Location: InMemoryFileIndex(36 paths)[file:/opt/workspace/datos/fecNac/fakePeople1600M.parquet/yearMon=2003..., PartitionFilters: [], PushedFilters: [], ReadSchema: struct<Id:string,fecNac:string,sex:string,ingresos:int,partido:string,edad:int,mapa:string>\n",
      "\n",
      "== Optimized Logical Plan ==\n",
      "Relation [Id#0,fecNac#1,sex#2,ingresos#3,partido#4,edad#5,mapa#6,yearMon#7] parquet, Statistics(sizeInBytes=742.5 MiB)\n",
      "\n",
      "== Physical Plan ==\n",
      "*(1) ColumnarToRow\n",
      "+- FileScan parquet [Id#0,fecNac#1,sex#2,ingresos#3,partido#4,edad#5,mapa#6,yearMon#7] Batched: true, DataFilters: [], Format: Parquet, Location: InMemoryFileIndex(36 paths)[file:/opt/workspace/datos/fecNac/fakePeople1600M.parquet/yearMon=2003..., PartitionFilters: [], PushedFilters: [], ReadSchema: struct<Id:string,fecNac:string,sex:string,ingresos:int,partido:string,edad:int,mapa:string>\n",
      "\n",
      "\n",
      "CPU times: user 41.7 ms, sys: 12 ms, total: 53.7 ms\n",
      "Wall time: 33.2 s\n"
     ]
    }
   ],
   "source": [
    "%%time\n",
    "#spark job monitoring\n",
    "from pyspark.sql.types import StructType\n",
    "from pyspark.sql.types import StringType,BooleanType,DateType,IntegerType\n",
    "from pyspark.sql.functions import sum, col, desc\n",
    "\n",
    "esquema = StructType() \\\n",
    "      .add(\"Id\",StringType(),True) \\\n",
    "      .add(\"fecNac\",StringType(),True) \\\n",
    "      .add(\"sex\",StringType(),True) \\\n",
    "      .add(\"ingresos\",IntegerType(),True) \\\n",
    "      .add(\"partido\",StringType(),True) \\\n",
    "      .add(\"edad\",IntegerType(),True) \\\n",
    "      .add(\"mapa\",StringType(),True)\n",
    "\n",
    "#df = spark.read.parquet(\"./datos/fakePeopleParallel100M.parquet\", sep=\";\", header = True, schema = esquema)\n",
    "\n",
    "#df = spark.read.parquet(\"./datos/more/fakePeopleParallel100M.parquet/sex=*/partido=PP\", sep=\";\", header = True, schema = esquema)\n",
    "\n",
    "#df = spark.read.option(\"header\", \"false\").option(\"schema\", \"esquema\").option(\"mergeSchema\", \"true\").option(\"sep\", \";\").parquet(\"./datos/more/fakePeopleParallel100M.parquet/sex=*/partido=P*\")\n",
    "\n",
    "\"\"\"\n",
    " * Lectura de un rango de meses de un parquet particionado por año/mes:\n",
    "\"\"\"\n",
    "\n",
    "def listPartitions (anoMesFinal, meses, path):\n",
    "    lista = []\n",
    "    mes = int(anoMesFinal[-2:]) + 1\n",
    "    ano = int(anoMesFinal[:-3])\n",
    "    \n",
    "    print('Primer mes: '+anoMesFinal)\n",
    "    \n",
    "    for i in range(meses):\n",
    "        mes = mes - 1\n",
    "        if mes == 0:\n",
    "            ano = ano - 1\n",
    "            mes = 12\n",
    "        if mes < 10: anoMes = str(ano)+'-0'+str(mes)\n",
    "        else: anoMes = str(ano)+'-'+str(mes)\n",
    "        #print('Desde la función: '+str(i+1)+' - '+anoMes)\n",
    "\n",
    "        lista.append(path+anoMes)\n",
    "    print('Último mes: '+anoMes)\n",
    "    return lista\n",
    "\n",
    "#df = spark.read.option(\"mergeSchema\", True).option(\"schema\", \"esquema\").opt/opt/workspace/datos/fecNac/fakePeople.parquetion(\"basePath\", \"file:///opt/workspace/datos/fecNac/fakePeople.parquet/\").parquet('./datos/fecNac/fakePeople.parquet/yearMon=*')\n",
    "\n",
    "#df = spark.read.option(\"mergeSchema\", True).option(\"schema\", \"esquema\").option(\"basePath\", \"file:///opt/workspace/datos/fecNac/fakePeople.parquet/\")\\\n",
    "#               .format(\"parquet\").load('./datos/fecNac/fakePeople.parquet/yearMon=1962-1*')\n",
    "\n",
    "\n",
    "df = spark.read.option(\"mergeSchema\", True).option(\"schema\", \"esquema\").option(\"basePath\", \"file:///opt/workspace/datos/fecNac/fakePeople1600M.parquet/\")\\\n",
    "               .format(\"parquet\").load(listPartitions('2003-12', 3*12, '../datos/fecNac/fakePeople1600M.parquet/yearMon='))\n",
    "                                                                                                   \n",
    "df.printSchema()\n",
    "\n",
    "#df = spark.read.format('parquet').load('./datos/more/fakePeopleParallel100M.parquet/')\n",
    "#df = df.where('sex=H')\n",
    "print(df.count())\n",
    "df.show()\n",
    "df.explain(extended=True)\n",
    "df.explain(mode='cost')\n"
   ]
  },
  {
   "cell_type": "code",
   "execution_count": 4,
   "id": "e749d4d7-794f-41f9-bf4e-0ee7419c4c1d",
   "metadata": {},
   "outputs": [
    {
     "name": "stdout",
     "output_type": "stream",
     "text": [
      "Final: Thu Mar  9 19:44:51 2023\n",
      "Hecho en 33.2857 segundo(s)\n"
     ]
    }
   ],
   "source": [
    "print ('Final: '+time.strftime(\"%c\"))\n",
    "final = time.perf_counter()\n",
    "print(f'Hecho en {round(final - inicio, 4)} segundo(s)')"
   ]
  },
  {
   "cell_type": "code",
   "execution_count": 5,
   "id": "717a4684-2a98-45a5-b440-597b2d55a6ac",
   "metadata": {
    "tags": []
   },
   "outputs": [
    {
     "name": "stdout",
     "output_type": "stream",
     "text": [
      "Inicio: Thu Mar  9 19:44:51 2023\n"
     ]
    },
    {
     "name": "stderr",
     "output_type": "stream",
     "text": [
      "[Stage 6:====================================================> (692 + 12) / 707]\r"
     ]
    },
    {
     "name": "stdout",
     "output_type": "stream",
     "text": [
      "+-------+-------+\n",
      "|yearMon|  count|\n",
      "+-------+-------+\n",
      "|2003-12|1606134|\n",
      "|2003-11|1606203|\n",
      "|2003-10|1605319|\n",
      "|2003-09|1607650|\n",
      "|2003-08|1606313|\n",
      "|2003-07|1607364|\n",
      "|2003-06|1605167|\n",
      "|2003-05|1607874|\n",
      "|2003-04|1603991|\n",
      "|2003-03|1607177|\n",
      "|2003-02|1605658|\n",
      "|2003-01|1605350|\n",
      "|2002-12|1605922|\n",
      "|2002-11|1607655|\n",
      "|2002-10|1605743|\n",
      "|2002-09|1608295|\n",
      "|2002-08|1606599|\n",
      "|2002-07|1606351|\n",
      "|2002-06|1605802|\n",
      "|2002-05|1607820|\n",
      "|2002-04|1605569|\n",
      "|2002-03|1606381|\n",
      "|2002-02|1604957|\n",
      "|2002-01|1604904|\n",
      "|2001-12|1606874|\n",
      "|2001-11|1606091|\n",
      "|2001-10|1605899|\n",
      "|2001-09|1604622|\n",
      "|2001-08|1609190|\n",
      "|2001-07|1609491|\n",
      "|2001-06|1605672|\n",
      "|2001-05|1607382|\n",
      "|2001-04|1606146|\n",
      "|2001-03|1605724|\n",
      "|2001-02|1606002|\n",
      "|2001-01|1608373|\n",
      "+-------+-------+\n",
      "\n",
      "Final: Thu Mar  9 19:45:06 2023\n",
      "Hecho en 14.9033 segundo(s)\n"
     ]
    },
    {
     "name": "stderr",
     "output_type": "stream",
     "text": [
      "                                                                                \r"
     ]
    }
   ],
   "source": [
    "print ('Inicio: '+time.strftime(\"%c\"))\n",
    "inicio = time.perf_counter()\n",
    "\n",
    "df.groupBy('yearMon').count().sort(desc('yearMon')).show(200)\n",
    "\n",
    "print ('Final: '+time.strftime(\"%c\"))\n",
    "final = time.perf_counter()\n",
    "print(f'Hecho en {round(final - inicio, 4)} segundo(s)')"
   ]
  },
  {
   "cell_type": "code",
   "execution_count": 6,
   "id": "7f9141e9-c24c-4855-94ab-52738aad733a",
   "metadata": {},
   "outputs": [
    {
     "name": "stdout",
     "output_type": "stream",
     "text": [
      "+-------+--------------------+--------------------+-------------+\n",
      "|partido|              nombre|               lider|fechaCreacion|\n",
      "+-------+--------------------+--------------------+-------------+\n",
      "|    VOX|     VOX España S.A.|    Santiago Abascal|   2015-01-01|\n",
      "|     PP|     Partido Popular|Alberto Núñez Feijóo|   1986-10-31|\n",
      "|   PSOE|Partido Socialist...|       Pedro Sánchez|   1930-12-25|\n",
      "|     CS|          Ciudadanos|      Inés Arrimadas|   2008-04-18|\n",
      "|   UPON|      Unidas Podemos|        Yolanda Díaz|   2014-04-15|\n",
      "|  Otros|          Ni se sabe|               Naide|   1975-11-20|\n",
      "+-------+--------------------+--------------------+-------------+\n",
      "\n"
     ]
    }
   ],
   "source": [
    "esqPart = StructType() \\\n",
    "      .add(\"partido\",StringType(),True) \\\n",
    "      .add(\"nombre\",StringType(),True) \\\n",
    "      .add(\"lider\",StringType(),True) \\\n",
    "      .add(\"fechaCreacion\",StringType(),True)\n",
    "\n",
    "dfPart = spark.read.csv(\"../datos/partidosMalo.csv\", sep=\";\", header = True, schema = esqPart)\n",
    "\n",
    "dfPart.show()\n"
   ]
  },
  {
   "cell_type": "code",
   "execution_count": 7,
   "id": "24e00533-b0be-4cea-8024-66b1195c8697",
   "metadata": {},
   "outputs": [
    {
     "name": "stdout",
     "output_type": "stream",
     "text": [
      "Inicio: Thu Mar  9 19:45:06 2023\n",
      "+------------+----------+---+--------+-------+----+-------------+-------+-------+--------------------+--------------------+-------------+\n",
      "|          Id|    fecNac|sex|ingresos|partido|edad|         mapa|yearMon|partido|              nombre|               lider|fechaCreacion|\n",
      "+------------+----------+---+--------+-------+----+-------------+-------+-------+--------------------+--------------------+-------------+\n",
      "|ID2694381978|2001-10-25|  M|   64400|   PSOE|  20|0-0-0-0-0-0-1|2001-10|   PSOE|Partido Socialist...|       Pedro Sánchez|   1930-12-25|\n",
      "|ID2694388738|2001-10-06|  H|   63600|   PSOE|  21|0-0-1-0-0-0-0|2001-10|   PSOE|Partido Socialist...|       Pedro Sánchez|   1930-12-25|\n",
      "|ID2711053790|2001-10-02|  M|   34300|    VOX|  21|1-0-1-0-0-1-1|2001-10|    VOX|     VOX España S.A.|    Santiago Abascal|   2015-01-01|\n",
      "|ID2711060110|2001-10-28|  H|   27300|     CS|  20|0-0-1-1-0-1-0|2001-10|     CS|          Ciudadanos|      Inés Arrimadas|   2008-04-18|\n",
      "|ID2708567699|2001-10-29|  M|   58500|     CS|  20|0-0-1-0-0-1-0|2001-10|     CS|          Ciudadanos|      Inés Arrimadas|   2008-04-18|\n",
      "|ID2685314060|2001-10-01|  H|    9600|     CS|  21|0-1-1-0-1-0-0|2001-10|     CS|          Ciudadanos|      Inés Arrimadas|   2008-04-18|\n",
      "|ID2697589031|2001-10-20|  M|   28700|     CS|  20|0-0-1-1-0-0-1|2001-10|     CS|          Ciudadanos|      Inés Arrimadas|   2008-04-18|\n",
      "|ID2702450821|2001-10-16|  M|   48300|     CS|  20|1-1-1-1-0-0-1|2001-10|     CS|          Ciudadanos|      Inés Arrimadas|   2008-04-18|\n",
      "|ID2703510856|2001-10-01|  H|   15300|     CS|  21|1-0-1-0-0-0-0|2001-10|     CS|          Ciudadanos|      Inés Arrimadas|   2008-04-18|\n",
      "|ID2697604166|2001-10-09|  H|   20000|    VOX|  21|1-0-0-0-1-0-1|2001-10|    VOX|     VOX España S.A.|    Santiago Abascal|   2015-01-01|\n",
      "|ID2697607962|2001-10-09|  H|   37400|   PSOE|  21|0-1-1-0-1-0-1|2001-10|   PSOE|Partido Socialist...|       Pedro Sánchez|   1930-12-25|\n",
      "|ID2706621811|2001-10-19|  M|   27200|   PSOE|  20|0-1-0-0-0-0-1|2001-10|   PSOE|Partido Socialist...|       Pedro Sánchez|   1930-12-25|\n",
      "|ID2706622418|2001-10-05|  H|   18600|     PP|  21|0-1-0-1-0-1-1|2001-10|     PP|     Partido Popular|Alberto Núñez Feijóo|   1986-10-31|\n",
      "|ID2705915196|2001-10-16|  H|    8300|    VOX|  20|0-1-0-0-1-1-0|2001-10|    VOX|     VOX España S.A.|    Santiago Abascal|   2015-01-01|\n",
      "|ID2697623605|2001-10-20|  H|   11900|    VOX|  20|1-0-1-0-1-0-0|2001-10|    VOX|     VOX España S.A.|    Santiago Abascal|   2015-01-01|\n",
      "|ID2705918969|2001-10-24|  H|   15300|    VOX|  20|0-1-0-1-1-0-0|2001-10|    VOX|     VOX España S.A.|    Santiago Abascal|   2015-01-01|\n",
      "|ID2708606338|2001-10-23|  M|   28800|   PSOE|  20|0-0-0-0-1-0-0|2001-10|   PSOE|Partido Socialist...|       Pedro Sánchez|   1930-12-25|\n",
      "|ID2706630718|2001-10-28|  H|   35700|     CS|  20|1-1-1-1-0-0-1|2001-10|     CS|          Ciudadanos|      Inés Arrimadas|   2008-04-18|\n",
      "|ID2707572099|2001-10-04|  M|   36000|     CS|  21|0-1-0-1-0-0-1|2001-10|     CS|          Ciudadanos|      Inés Arrimadas|   2008-04-18|\n",
      "|ID2707575595|2001-10-25|  M|   16600|    VOX|  20|1-1-1-1-1-1-1|2001-10|    VOX|     VOX España S.A.|    Santiago Abascal|   2015-01-01|\n",
      "+------------+----------+---+--------+-------+----+-------------+-------+-------+--------------------+--------------------+-------------+\n",
      "only showing top 20 rows\n",
      "\n",
      "Final: Thu Mar  9 19:45:07 2023\n",
      "Hecho en 0.4185 segundo(s)\n"
     ]
    }
   ],
   "source": [
    "print ('Inicio: '+time.strftime(\"%c\"))\n",
    "inicio = time.perf_counter()\n",
    "\n",
    "df1 = df.join(dfPart, df.partido == dfPart.partido, \"inner\")\n",
    "\n",
    "df1.show()\n",
    "\n",
    "print ('Final: '+time.strftime(\"%c\"))\n",
    "final = time.perf_counter()\n",
    "print(f'Hecho en {round(final - inicio, 4)} segundo(s)')\n",
    "\n"
   ]
  },
  {
   "cell_type": "code",
   "execution_count": 8,
   "id": "1bad4540-6d50-45ae-b08c-318a3ec9be95",
   "metadata": {},
   "outputs": [
    {
     "name": "stderr",
     "output_type": "stream",
     "text": [
      "[Stage 13:===================================================> (693 + 12) / 707]\r"
     ]
    },
    {
     "name": "stdout",
     "output_type": "stream",
     "text": [
      "+--------------------+--------+\n",
      "|              nombre|   count|\n",
      "+--------------------+--------+\n",
      "|     Partido Popular| 9639886|\n",
      "|     VOX España S.A.| 9638687|\n",
      "|Partido Socialist...| 9641326|\n",
      "|          Ciudadanos|14939622|\n",
      "+--------------------+--------+\n",
      "\n",
      "CPU times: user 33.2 ms, sys: 7.54 ms, total: 40.7 ms\n",
      "Wall time: 17.4 s\n"
     ]
    },
    {
     "name": "stderr",
     "output_type": "stream",
     "text": [
      "                                                                                \r"
     ]
    }
   ],
   "source": [
    "%%time\n",
    "dfG1 = df1.groupBy('nombre').count()\n",
    "dfG1.show()"
   ]
  },
  {
   "cell_type": "code",
   "execution_count": 9,
   "id": "ce077880-a0e5-4a02-8ad7-948abeff48a5",
   "metadata": {},
   "outputs": [
    {
     "name": "stdout",
     "output_type": "stream",
     "text": [
      "Inicio: Thu Mar  9 19:45:24 2023\n",
      "+------------+----------+---+--------+-------+----+-------------+-------+-------+--------------------+--------------------+-------------+\n",
      "|          Id|    fecNac|sex|ingresos|partido|edad|         mapa|yearMon|partido|              nombre|               lider|fechaCreacion|\n",
      "+------------+----------+---+--------+-------+----+-------------+-------+-------+--------------------+--------------------+-------------+\n",
      "|ID2694381978|2001-10-25|  M|   64400|   PSOE|  20|0-0-0-0-0-0-1|2001-10|   PSOE|Partido Socialist...|       Pedro Sánchez|   1930-12-25|\n",
      "|ID2705876419|2001-10-26|  H|   78000|   Otro|  20|1-1-1-1-0-0-0|2001-10|   null|                null|                null|         null|\n",
      "|ID2694388738|2001-10-06|  H|   63600|   PSOE|  21|0-0-1-0-0-0-0|2001-10|   PSOE|Partido Socialist...|       Pedro Sánchez|   1930-12-25|\n",
      "|ID2711053790|2001-10-02|  M|   34300|    VOX|  21|1-0-1-0-0-1-1|2001-10|    VOX|     VOX España S.A.|    Santiago Abascal|   2015-01-01|\n",
      "|ID2711060110|2001-10-28|  H|   27300|     CS|  20|0-0-1-1-0-1-0|2001-10|     CS|          Ciudadanos|      Inés Arrimadas|   2008-04-18|\n",
      "|ID2708567699|2001-10-29|  M|   58500|     CS|  20|0-0-1-0-0-1-0|2001-10|     CS|          Ciudadanos|      Inés Arrimadas|   2008-04-18|\n",
      "|ID2685314060|2001-10-01|  H|    9600|     CS|  21|0-1-1-0-1-0-0|2001-10|     CS|          Ciudadanos|      Inés Arrimadas|   2008-04-18|\n",
      "|ID2697589031|2001-10-20|  M|   28700|     CS|  20|0-0-1-1-0-0-1|2001-10|     CS|          Ciudadanos|      Inés Arrimadas|   2008-04-18|\n",
      "|ID2702450821|2001-10-16|  M|   48300|     CS|  20|1-1-1-1-0-0-1|2001-10|     CS|          Ciudadanos|      Inés Arrimadas|   2008-04-18|\n",
      "|ID2703510856|2001-10-01|  H|   15300|     CS|  21|1-0-1-0-0-0-0|2001-10|     CS|          Ciudadanos|      Inés Arrimadas|   2008-04-18|\n",
      "|ID2697604166|2001-10-09|  H|   20000|    VOX|  21|1-0-0-0-1-0-1|2001-10|    VOX|     VOX España S.A.|    Santiago Abascal|   2015-01-01|\n",
      "|ID2697607962|2001-10-09|  H|   37400|   PSOE|  21|0-1-1-0-1-0-1|2001-10|   PSOE|Partido Socialist...|       Pedro Sánchez|   1930-12-25|\n",
      "|ID2711081372|2001-10-21|  M|   60500|     UP|  20|1-0-1-1-0-1-1|2001-10|   null|                null|                null|         null|\n",
      "|ID2703518873|2001-10-11|  H|   22200|   Otro|  21|1-0-1-1-1-0-1|2001-10|   null|                null|                null|         null|\n",
      "|ID2711091254|2001-10-16|  H|   63600|   Otro|  20|1-1-0-1-1-0-1|2001-10|   null|                null|                null|         null|\n",
      "|ID2706621811|2001-10-19|  M|   27200|   PSOE|  20|0-1-0-0-0-0-1|2001-10|   PSOE|Partido Socialist...|       Pedro Sánchez|   1930-12-25|\n",
      "|ID2706622418|2001-10-05|  H|   18600|     PP|  21|0-1-0-1-0-1-1|2001-10|     PP|     Partido Popular|Alberto Núñez Feijóo|   1986-10-31|\n",
      "|ID2705915196|2001-10-16|  H|    8300|    VOX|  20|0-1-0-0-1-1-0|2001-10|    VOX|     VOX España S.A.|    Santiago Abascal|   2015-01-01|\n",
      "|ID2699079987|2001-10-24|  H|   15500|     UP|  20|1-1-1-1-0-1-0|2001-10|   null|                null|                null|         null|\n",
      "|ID2697623605|2001-10-20|  H|   11900|    VOX|  20|1-0-1-0-1-0-0|2001-10|    VOX|     VOX España S.A.|    Santiago Abascal|   2015-01-01|\n",
      "+------------+----------+---+--------+-------+----+-------------+-------+-------+--------------------+--------------------+-------------+\n",
      "only showing top 20 rows\n",
      "\n",
      "Final: Thu Mar  9 19:45:24 2023\n",
      "Hecho en 0.2727 segundo(s)\n"
     ]
    }
   ],
   "source": [
    "print ('Inicio: '+time.strftime(\"%c\"))\n",
    "inicio = time.perf_counter()\n",
    "\n",
    "df2 = df.join(dfPart, df.partido == dfPart.partido, \"left\")\n",
    "df2.show()\n",
    "\n",
    "print ('Final: '+time.strftime(\"%c\"))\n",
    "final = time.perf_counter()\n",
    "print(f'Hecho en {round(final - inicio, 4)} segundo(s)')\n"
   ]
  },
  {
   "cell_type": "code",
   "execution_count": 10,
   "id": "ec36fe18-b9e6-47d2-bdb0-85c25f99bb41",
   "metadata": {},
   "outputs": [
    {
     "name": "stderr",
     "output_type": "stream",
     "text": [
      "[Stage 19:===================================================> (689 + 12) / 707]\r"
     ]
    },
    {
     "name": "stdout",
     "output_type": "stream",
     "text": [
      "+--------------------+--------+\n",
      "|              nombre|   count|\n",
      "+--------------------+--------+\n",
      "|     Partido Popular| 9639886|\n",
      "|                null|13972143|\n",
      "|     VOX España S.A.| 9638687|\n",
      "|Partido Socialist...| 9641326|\n",
      "|          Ciudadanos|14939622|\n",
      "+--------------------+--------+\n",
      "\n",
      "CPU times: user 27.5 ms, sys: 5.76 ms, total: 33.2 ms\n",
      "Wall time: 14.9 s\n"
     ]
    },
    {
     "name": "stderr",
     "output_type": "stream",
     "text": [
      "                                                                                \r"
     ]
    }
   ],
   "source": [
    "%%time\n",
    "dfG2 = df2.groupBy('nombre').count()\n",
    "dfG2.show()"
   ]
  },
  {
   "cell_type": "code",
   "execution_count": 18,
   "id": "5c828e24-5c0b-439e-91b0-677ff49f95b9",
   "metadata": {},
   "outputs": [
    {
     "name": "stderr",
     "output_type": "stream",
     "text": [
      "[Stage 25:===================================================> (691 + 12) / 707]\r"
     ]
    },
    {
     "name": "stdout",
     "output_type": "stream",
     "text": [
      "+------+--------+\n",
      "|nombre|   count|\n",
      "+------+--------+\n",
      "|  null|13972143|\n",
      "+------+--------+\n",
      "\n"
     ]
    },
    {
     "name": "stderr",
     "output_type": "stream",
     "text": [
      "                                                                                \r"
     ]
    }
   ],
   "source": [
    "dfG2.filter(dfG2.nombre.isNull()).show()"
   ]
  },
  {
   "cell_type": "code",
   "execution_count": 22,
   "id": "f29b88af-e79c-4f1d-8966-9baf00223b75",
   "metadata": {},
   "outputs": [
    {
     "name": "stderr",
     "output_type": "stream",
     "text": [
      "[Stage 36:====================================================>(697 + 10) / 707]\r"
     ]
    },
    {
     "name": "stdout",
     "output_type": "stream",
     "text": [
      "1\n"
     ]
    },
    {
     "name": "stderr",
     "output_type": "stream",
     "text": [
      "                                                                                \r"
     ]
    }
   ],
   "source": [
    "print(dfG2.filter(dfG2.nombre.isNull()).count())"
   ]
  },
  {
   "cell_type": "code",
   "execution_count": 26,
   "id": "c94e0aa8-fa25-420f-95f1-d40aa2c296b2",
   "metadata": {},
   "outputs": [
    {
     "name": "stderr",
     "output_type": "stream",
     "text": [
      "[Stage 47:=====================================================>(699 + 8) / 707]\r"
     ]
    },
    {
     "name": "stdout",
     "output_type": "stream",
     "text": [
      "El cruce ha resultado con 13972143 registros nulos.\n"
     ]
    },
    {
     "name": "stderr",
     "output_type": "stream",
     "text": [
      "                                                                                \r"
     ]
    }
   ],
   "source": [
    "nulos = df2.filter(df2.nombre.isNull()).count()\n",
    "\n",
    "if nulos > 0:print('El cruce ha resultado con '+str(nulos)+' registros nulos.')\n",
    "else: print('Proceso ok.')"
   ]
  },
  {
   "cell_type": "code",
   "execution_count": null,
   "id": "8ccddb1d-5bb4-4d1b-a6f3-b764bb3926ac",
   "metadata": {},
   "outputs": [],
   "source": [
    "spark.sparkContext.stop()\n",
    "print('Sacabao')"
   ]
  },
  {
   "cell_type": "code",
   "execution_count": null,
   "id": "ba7a936e-779c-4381-a4f4-1f521c191fd0",
   "metadata": {},
   "outputs": [],
   "source": []
  }
 ],
 "metadata": {
  "kernelspec": {
   "display_name": "Python 3 (ipykernel)",
   "language": "python",
   "name": "python3"
  },
  "language_info": {
   "codemirror_mode": {
    "name": "ipython",
    "version": 3
   },
   "file_extension": ".py",
   "mimetype": "text/x-python",
   "name": "python",
   "nbconvert_exporter": "python",
   "pygments_lexer": "ipython3",
   "version": "3.9.2"
  }
 },
 "nbformat": 4,
 "nbformat_minor": 5
}
