{
 "cells": [
  {
   "cell_type": "markdown",
   "id": "034a79d6-e5a3-4d72-b735-88ec904ca442",
   "metadata": {},
   "source": [
    "# Lectura de Minio con boto3"
   ]
  },
  {
   "cell_type": "code",
   "execution_count": null,
   "id": "4792ff33-cf83-4009-ac35-a6564125c092",
   "metadata": {},
   "outputs": [],
   "source": [
    "#Antes hay que instalar el boto3 con pip"
   ]
  },
  {
   "cell_type": "code",
   "execution_count": 2,
   "id": "e6eb7c36-7324-4daf-ad60-ea90ee3674e4",
   "metadata": {},
   "outputs": [],
   "source": [
    "import boto3\n",
    "\n",
    "s3_client = boto3.client('s3',\n",
    "                         endpoint_url='http://172.18.0.13:9000',\n",
    "                         aws_access_key_id='mario',\n",
    "                         aws_secret_access_key='Mario22!')"
   ]
  },
  {
   "cell_type": "code",
   "execution_count": 3,
   "id": "b04212b4-cafd-4571-91e9-c21f8fa31900",
   "metadata": {},
   "outputs": [
    {
     "name": "stdout",
     "output_type": "stream",
     "text": [
      "Este es un archivo de prueba.txt\n",
      "{'Key': 'Este es un archivo de prueba.txt', 'LastModified': datetime.datetime(2022, 11, 5, 11, 16, 23, 285000, tzinfo=tzlocal()), 'ETag': '\"e17375a27c07ed2096299c4d9c078a64\"', 'Size': 78, 'StorageClass': 'STANDARD', 'Owner': {'DisplayName': 'minio', 'ID': '02d6176db174dc93cb1b899f7c6078f08654445fe8cf1b6ce98d8855f66bdbf4'}}\n",
      "fakePeople.csv\n",
      "{'Key': 'fakePeople.csv', 'LastModified': datetime.datetime(2022, 10, 26, 16, 50, 31, 620000, tzinfo=tzlocal()), 'ETag': '\"51fb12f184502a4e3feaea17feab05e2\"', 'Size': 36632697, 'StorageClass': 'STANDARD', 'Owner': {'DisplayName': 'minio', 'ID': '02d6176db174dc93cb1b899f7c6078f08654445fe8cf1b6ce98d8855f66bdbf4'}}\n"
     ]
    }
   ],
   "source": [
    "lista = s3_client.list_objects_v2(Bucket='bck001')\n",
    "\n",
    "for obj in lista['Contents']:\n",
    "    print(obj['Key'])\n",
    "    print(obj)"
   ]
  },
  {
   "cell_type": "code",
   "execution_count": 4,
   "id": "d19703c7-d6e9-4ab3-a588-7be03470f471",
   "metadata": {},
   "outputs": [
    {
     "name": "stdout",
     "output_type": "stream",
     "text": [
      "********************************************************************************\n",
      "File name: Este es un archivo de prueba.txt\n",
      "--------------------------------------------------------------------------------\n",
      "Este es un archivo de prueba\n",
      "Y esta es la segunda línea del archivo de prueba\n",
      "********************************************************************************\n",
      "File name: fakePeople.csv\n",
      "--------------------------------------------------------------------------------\n",
      "Id;fecNac;sex;ingresos;partido\n",
      "ID0000123478;1966-06-07;H;41600;PSOE\n",
      "ID0000123517;1953-05-30;H;30200;UP\n",
      "ID0000123556;1947-05-01;H;50500;UP\n",
      "ID0000123598;1973-04-23;H;16400;PP\n",
      "ID0000123613;1932-10-17;H;23600;PSOE\n",
      "ID0000123620;1922-07-13;H;27600;PSOE\n",
      "ID0000123622;1964-02-13;M;44600;PP\n",
      "ID0000123677;1955-07-14;M;25400;PP\n",
      "ID0000123702;1992-01-13;M;38800;CS\n",
      "ID0000123706;1957-08-04;H;24700;PSOE\n",
      "ID0000123731;1996-12-30;M;18800;PP\n",
      "ID0000123762;1969-05-09;M;44000;PP\n",
      "ID0000123763;1958-05-02;M;36\n"
     ]
    }
   ],
   "source": [
    "bucket='bck001'\n",
    "bytesR=500\n",
    "\n",
    "result = s3_client.list_objects(Bucket = bucket, Prefix='/')\n",
    "\"\"\"\n",
    "print(result)\n",
    "\n",
    "for o in result.get('Contents'):\n",
    "    print(o)\n",
    "    \n",
    "\"\"\"\n",
    "for o in result.get('Contents'):\n",
    "    print(80*'*')\n",
    "    print('File name: '+o.get('Key'))\n",
    "    print(80*'-')\n",
    "    data = s3_client.get_object(Bucket=bucket, Key=o.get('Key'))\n",
    "    contents = data['Body'].read(bytesR)\n",
    "    print(contents.decode(\"utf-8\"))"
   ]
  },
  {
   "cell_type": "code",
   "execution_count": null,
   "id": "a16beab8-ce6d-4d8b-8a8b-a6dcce764501",
   "metadata": {},
   "outputs": [],
   "source": []
  }
 ],
 "metadata": {
  "kernelspec": {
   "display_name": "Python 3 (ipykernel)",
   "language": "python",
   "name": "python3"
  },
  "language_info": {
   "codemirror_mode": {
    "name": "ipython",
    "version": 3
   },
   "file_extension": ".py",
   "mimetype": "text/x-python",
   "name": "python",
   "nbconvert_exporter": "python",
   "pygments_lexer": "ipython3",
   "version": "3.9.2"
  }
 },
 "nbformat": 4,
 "nbformat_minor": 5
}
