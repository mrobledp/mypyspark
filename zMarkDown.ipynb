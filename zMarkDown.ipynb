{
 "cells": [
  {
   "cell_type": "markdown",
   "id": "5cfee799-b31f-4b71-98cb-2b2f92c1783c",
   "metadata": {},
   "source": [
    "<h1>Esto es un H1</h1>\n",
    "<h2>Esto es un H2</h2>\n",
    "<h3>Esto es un H3</h3>\n",
    "<h4>Esto es un H4</h4>\n",
    "<h5>Esto es un H5</h5>\n",
    "<h6>Esto es un H6</h6>\n",
    "Esto es sin nada"
   ]
  },
  {
   "cell_type": "markdown",
   "id": "da73c032-4803-4b0d-a0bf-525c705745c1",
   "metadata": {},
   "source": [
    ">Blockquotes"
   ]
  },
  {
   "cell_type": "code",
   "execution_count": null,
   "id": "13b3e924-e6ae-439a-8e13-b249925c94b9",
   "metadata": {},
   "outputs": [],
   "source": []
  }
 ],
 "metadata": {
  "kernelspec": {
   "display_name": "Python 3 (ipykernel)",
   "language": "python",
   "name": "python3"
  },
  "language_info": {
   "codemirror_mode": {
    "name": "ipython",
    "version": 3
   },
   "file_extension": ".py",
   "mimetype": "text/x-python",
   "name": "python",
   "nbconvert_exporter": "python",
   "pygments_lexer": "ipython3",
   "version": "3.9.2"
  }
 },
 "nbformat": 4,
 "nbformat_minor": 5
}
