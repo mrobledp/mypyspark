{
 "cells": [
  {
   "cell_type": "code",
   "execution_count": 4,
   "id": "9809d572-83ea-498d-961c-b08593e7a424",
   "metadata": {},
   "outputs": [
    {
     "name": "stderr",
     "output_type": "stream",
     "text": [
      "Using Spark's default log4j profile: org/apache/spark/log4j-defaults.properties\n",
      "Setting default log level to \"WARN\".\n",
      "To adjust logging level use sc.setLogLevel(newLevel). For SparkR, use setLogLevel(newLevel).\n",
      "23/01/24 17:52:37 WARN NativeCodeLoader: Unable to load native-hadoop library for your platform... using builtin-java classes where applicable\n"
     ]
    },
    {
     "data": {
      "text/html": [
       "\n",
       "            <div>\n",
       "                <p><b>SparkSession - in-memory</b></p>\n",
       "                \n",
       "        <div>\n",
       "            <p><b>SparkContext</b></p>\n",
       "\n",
       "            <p><a href=\"http://7a28ebf80ee1:4040\">Spark UI</a></p>\n",
       "\n",
       "            <dl>\n",
       "              <dt>Version</dt>\n",
       "                <dd><code>v3.2.1</code></dd>\n",
       "              <dt>Master</dt>\n",
       "                <dd><code>spark://spark-master:7077</code></dd>\n",
       "              <dt>AppName</dt>\n",
       "                <dd><code>SparkStreaming</code></dd>\n",
       "            </dl>\n",
       "        </div>\n",
       "        \n",
       "            </div>\n",
       "        "
      ],
      "text/plain": [
       "<pyspark.sql.session.SparkSession at 0x7f089ccb0c70>"
      ]
     },
     "execution_count": 4,
     "metadata": {},
     "output_type": "execute_result"
    }
   ],
   "source": [
    "### Probando con datos\n",
    "import pyspark\n",
    "from pyspark.sql import SparkSession\n",
    "from pyspark.conf import SparkConf\n",
    "\n",
    "conf = (SparkConf().set(\"spark.executor.memory\", \"6g\")   #<--- Por executor. Como hay dos instancias, la mitad por executor.\n",
    "                    .set(\"spark.executor.cores\", \"3\")    #<--- Por cada executor. Como hay 4, 4*3=12 cores se usan.\n",
    "                    .set(\"spark.executor.instances\", \"2\")\n",
    "                    .set(\"spark.eventLog.enabled\", \"true\"))\n",
    "spark = SparkSession.builder.master(\"spark://spark-master:7077\").appName(\"SparkStreaming\").config(conf=conf).getOrCreate()\n",
    "spark"
   ]
  },
  {
   "cell_type": "code",
   "execution_count": 8,
   "id": "21680333-d2da-4460-b92d-869e172113a5",
   "metadata": {
    "tags": []
   },
   "outputs": [
    {
     "name": "stderr",
     "output_type": "stream",
     "text": [
      "                                                                                \r"
     ]
    },
    {
     "name": "stdout",
     "output_type": "stream",
     "text": [
      "6362620\n",
      "+----+--------+------------------+-------------+-------------------+------------------+-------------+--------------------+--------------------+-------+--------------+\n",
      "|step|    type|            amount|     nameOrig|      oldbalanceOrg|    newbalanceOrig|     nameDest|      oldbalanceDest|      newbalanceDest|isFraud|isFlaggedFraud|\n",
      "+----+--------+------------------+-------------+-------------------+------------------+-------------+--------------------+--------------------+-------+--------------+\n",
      "| 211|CASH_OUT|184185.75527735116|160_2696646_0| 203108.47605069657|18922.720773345412| 160_901564_0|  1019993.7073250777|   1204127.136276725|      0|             0|\n",
      "| 394|CASH_OUT|237093.19600862195|160_5585569_0|  382707.4642382287|145614.26822960674|160_1586945_0|   587089.2765989383|   824320.2512419948|      0|             0|\n",
      "| 306| CASH_IN|163600.51879411662|160_4221372_0|   3093.43116922955|               0.0|160_1701821_0|    653453.795387125|  490121.90304387547|      0|             0|\n",
      "| 235| PAYMENT| 7625.866018305651|160_3064357_0|  74630.85381176918| 67004.98779346353|160_1304279_0|  16.660192078991713|   13.62096213810468|      0|             0|\n",
      "| 235| PAYMENT| 7866.992465656906|160_5544127_0|  74632.32645410203| 66765.33398844513|160_2370260_0|   5.390544537576264|   9.820910226836881|      0|             0|\n",
      "| 493|CASH_OUT| 281403.7959978902|160_6037426_0|  42235.92334735189|               0.0|160_2092767_0|   588023.4679494335|   869321.9046729965|      0|             0|\n",
      "|  18| PAYMENT| 4355.986181706196| 160_400626_0| 56160.034247639516| 51804.04806593332| 160_175474_0|   8.496485307537423|  10.782494183862521|      0|             0|\n",
      "| 550| CASH_IN|102079.16454051746|160_6146482_0| 15781.717820614891|               0.0| 160_354507_0|  4064748.0314398417|  3962757.4284389657|      0|             0|\n",
      "| 284|CASH_OUT|144074.64827780967|160_3889478_0| 197270.86452430123| 53196.21624649156|160_1089660_0|  1097388.9754109767|   1241346.435956185|      0|             0|\n",
      "| 132|CASH_OUT|142367.90052351746|160_1163767_0|0.18506418590429555|               0.0|  160_29365_0|  2424876.6366873244|  2567105.5416430226|      0|             0|\n",
      "| 232|CASH_OUT|117844.54384925269|160_2999018_0|  443893.5438243781| 326048.9999751254| 160_181644_0|  1751303.2209638648|  1869048.6015819714|      0|             0|\n",
      "| 203| PAYMENT|1879.5662917127663|160_2464570_0| 147578.40319610937| 145698.8369043966|160_1048919_0|  12.355966978559966|  5.0140577236529165|      0|             0|\n",
      "| 276| CASH_IN|45736.497524081984|160_3657564_0|  140483.9896994515|  94747.4921753695| 160_141965_0|  472316.97600307525|  426338.74649658863|      0|             0|\n",
      "|  35|CASH_OUT|164597.71726840502| 160_650117_0| 10652.953865540674|               0.0|   160_9014_0|   9958168.292682495|1.0122719532028787E7|      0|             0|\n",
      "|  14| PAYMENT|  7032.39106268837| 160_228130_0| 1047137.1864311555|1040104.7953684672| 160_106313_0|  15.475786427469707|  5.4086860877635585|      0|             0|\n",
      "| 283|CASH_OUT|140179.10838024443|160_3875539_0| 20195.272192859138|               0.0|160_1025108_0|  143113.06653167302|   283217.6826612214|      0|             0|\n",
      "| 184| CASH_IN|157785.43701435035|160_2136935_0| 114.06856538787237|               0.0| 160_840681_0|     787431.22208954|  424514.50035695574|      0|             0|\n",
      "| 278|CASH_OUT|100859.64790821967|160_3720322_0|  5304.464554329187|               0.0|  160_40383_0|   7937926.045391451|   8038842.248657389|      0|             0|\n",
      "| 133|CASH_OUT| 99167.43951859378|160_1203764_0|  1.003632902355906|               0.0| 160_293123_0|   102068.1223806063|  201366.96191789847|      0|             0|\n",
      "| 372|CASH_OUT| 327699.9522575849|160_5262458_0| 1.8253567839248612|               0.0|160_1778143_0|2.3186464927654937E7| 2.351417769116707E7|      0|             0|\n",
      "+----+--------+------------------+-------------+-------------------+------------------+-------------+--------------------+--------------------+-------+--------------+\n",
      "only showing top 20 rows\n",
      "\n",
      "== Parsed Logical Plan ==\n",
      "Relation [step#81,type#82,amount#83,nameOrig#84,oldbalanceOrg#85,newbalanceOrig#86,nameDest#87,oldbalanceDest#88,newbalanceDest#89,isFraud#90,isFlaggedFraud#91] csv\n",
      "\n",
      "== Analyzed Logical Plan ==\n",
      "step: int, type: string, amount: double, nameOrig: string, oldbalanceOrg: double, newbalanceOrig: double, nameDest: string, oldbalanceDest: double, newbalanceDest: double, isFraud: int, isFlaggedFraud: int\n",
      "Relation [step#81,type#82,amount#83,nameOrig#84,oldbalanceOrg#85,newbalanceOrig#86,nameDest#87,oldbalanceDest#88,newbalanceDest#89,isFraud#90,isFlaggedFraud#91] csv\n",
      "\n",
      "== Optimized Logical Plan ==\n",
      "Relation [step#81,type#82,amount#83,nameOrig#84,oldbalanceOrg#85,newbalanceOrig#86,nameDest#87,oldbalanceDest#88,newbalanceDest#89,isFraud#90,isFlaggedFraud#91] csv\n",
      "\n",
      "== Physical Plan ==\n",
      "FileScan csv [step#81,type#82,amount#83,nameOrig#84,oldbalanceOrg#85,newbalanceOrig#86,nameDest#87,oldbalanceDest#88,newbalanceDest#89,isFraud#90,isFlaggedFraud#91] Batched: false, DataFilters: [], Format: CSV, Location: InMemoryFileIndex(1 paths)[file:/opt/workspace/datos/fakecards/synth_composite.csv], PartitionFilters: [], PushedFilters: [], ReadSchema: struct<step:int,type:string,amount:double,nameOrig:string,oldbalanceOrg:double,newbalanceOrig:dou...\n",
      "\n",
      "== Optimized Logical Plan ==\n",
      "Relation [step#81,type#82,amount#83,nameOrig#84,oldbalanceOrg#85,newbalanceOrig#86,nameDest#87,oldbalanceDest#88,newbalanceDest#89,isFraud#90,isFlaggedFraud#91] csv, Statistics(sizeInBytes=766.1 MiB)\n",
      "\n",
      "== Physical Plan ==\n",
      "FileScan csv [step#81,type#82,amount#83,nameOrig#84,oldbalanceOrg#85,newbalanceOrig#86,nameDest#87,oldbalanceDest#88,newbalanceDest#89,isFraud#90,isFlaggedFraud#91] Batched: false, DataFilters: [], Format: CSV, Location: InMemoryFileIndex(1 paths)[file:/opt/workspace/datos/fakecards/synth_composite.csv], PartitionFilters: [], PushedFilters: [], ReadSchema: struct<step:int,type:string,amount:double,nameOrig:string,oldbalanceOrg:double,newbalanceOrig:dou...\n",
      "\n",
      "\n",
      "CPU times: user 22.2 ms, sys: 9.02 ms, total: 31.2 ms\n",
      "Wall time: 1min 16s\n"
     ]
    }
   ],
   "source": [
    "%%time\n",
    "df = spark.read.csv('./datos/fakecards/synth_composite.csv', header=True, inferSchema=True)\n",
    "\n",
    "print(df.count())\n",
    "df.show()\n",
    "df.explain(extended=True)\n",
    "df.explain(mode='cost')\n"
   ]
  },
  {
   "cell_type": "code",
   "execution_count": 9,
   "id": "9361309f-bb47-4f23-ad58-f41d90db00b4",
   "metadata": {},
   "outputs": [
    {
     "data": {
      "text/plain": [
       "['step',\n",
       " 'type',\n",
       " 'amount',\n",
       " 'nameOrig',\n",
       " 'oldbalanceOrg',\n",
       " 'newbalanceOrig',\n",
       " 'nameDest',\n",
       " 'oldbalanceDest',\n",
       " 'newbalanceDest',\n",
       " 'isFraud',\n",
       " 'isFlaggedFraud']"
      ]
     },
     "execution_count": 9,
     "metadata": {},
     "output_type": "execute_result"
    }
   ],
   "source": [
    "df.columns\n"
   ]
  },
  {
   "cell_type": "code",
   "execution_count": 10,
   "id": "65af1016-0673-4364-a184-aeb2d450a750",
   "metadata": {},
   "outputs": [
    {
     "name": "stdout",
     "output_type": "stream",
     "text": [
      "root\n",
      " |-- step: integer (nullable = true)\n",
      " |-- type: string (nullable = true)\n",
      " |-- amount: double (nullable = true)\n",
      " |-- nameOrig: string (nullable = true)\n",
      " |-- oldbalanceOrg: double (nullable = true)\n",
      " |-- newbalanceOrig: double (nullable = true)\n",
      " |-- nameDest: string (nullable = true)\n",
      " |-- oldbalanceDest: double (nullable = true)\n",
      " |-- newbalanceDest: double (nullable = true)\n",
      " |-- isFraud: integer (nullable = true)\n",
      " |-- isFlaggedFraud: integer (nullable = true)\n",
      "\n"
     ]
    }
   ],
   "source": [
    "df.printSchema()"
   ]
  },
  {
   "cell_type": "markdown",
   "id": "c1173955-5631-464e-8172-249e3866c6f0",
   "metadata": {},
   "source": [
    "### Step viene siendo como un número de sesión que permite agrupar los datos"
   ]
  },
  {
   "cell_type": "code",
   "execution_count": 11,
   "id": "e108cf1d-5c76-44c3-af1e-98550d69d0da",
   "metadata": {},
   "outputs": [
    {
     "name": "stderr",
     "output_type": "stream",
     "text": [
      "[Stage 11:======================================>                  (8 + 4) / 12]\r"
     ]
    },
    {
     "name": "stdout",
     "output_type": "stream",
     "text": [
      "+----+-----+\n",
      "|step|count|\n",
      "+----+-----+\n",
      "| 471| 2532|\n",
      "| 496|  831|\n",
      "| 540| 5172|\n",
      "| 137|33017|\n",
      "| 251|35155|\n",
      "| 451| 3500|\n",
      "| 580|   50|\n",
      "| 458|  397|\n",
      "| 255|28825|\n",
      "| 588| 4634|\n",
      "| 133|35787|\n",
      "| 472|   84|\n",
      "| 322|26823|\n",
      "| 321|17460|\n",
      "| 362|  471|\n",
      "| 673|  376|\n",
      "| 613|   44|\n",
      "| 375|25445|\n",
      "| 597| 2291|\n",
      "| 155|30521|\n",
      "+----+-----+\n",
      "only showing top 20 rows\n",
      "\n"
     ]
    },
    {
     "name": "stderr",
     "output_type": "stream",
     "text": [
      "                                                                                \r"
     ]
    }
   ],
   "source": [
    "df.groupBy('step').count().show()"
   ]
  },
  {
   "cell_type": "code",
   "execution_count": 25,
   "id": "ef5cc440-f2a6-4b7b-a20a-32eead78f00e",
   "metadata": {},
   "outputs": [
    {
     "name": "stderr",
     "output_type": "stream",
     "text": [
      "[Stage 29:===================================================>    (11 + 1) / 12]\r"
     ]
    },
    {
     "name": "stdout",
     "output_type": "stream",
     "text": [
      "+-------+------------------+--------+-------------------+--------+------------------+-----------------+--------+--------------------+--------------------+--------------------+--------------------+\n",
      "|summary|              step|    type|             amount|nameOrig|     oldbalanceOrg|   newbalanceOrig|nameDest|      oldbalanceDest|      newbalanceDest|             isFraud|      isFlaggedFraud|\n",
      "+-------+------------------+--------+-------------------+--------+------------------+-----------------+--------+--------------------+--------------------+--------------------+--------------------+\n",
      "|  count|           6362620| 6362620|            6362620| 6362620|           6362620|          6362620| 6362620|             6362620|             6362620|             6362620|             6362620|\n",
      "|   mean| 239.0055508579799|    null|  179855.5421124945|    null| 833897.5850304173|793085.3291809693|    null|  1100707.7318166096|  1225001.5492753538|0.001290820448180152|2.200351427556572...|\n",
      "| stddev|141.65411279271765|    null|  603868.6933722008|    null|2888442.8498536926|2853683.353431315|    null|   3399178.048172882|  3674127.2159502003| 0.03590479680160407|0.001483356643506...|\n",
      "|    min|                 1| CASH_IN|               -7.0| 160_0_0|             -95.0|           -109.0| 160_0_0|7.569468097396171E-6|1.262637331595171...|                   0|                   0|\n",
      "|    max|               743|TRANSFER|9.244538399106014E7| 161_9_0|     5.958502237E7|    4.958502937E7| 161_9_0| 3.560158839530943E8|3.5617927783140355E8|                   1|                   1|\n",
      "+-------+------------------+--------+-------------------+--------+------------------+-----------------+--------+--------------------+--------------------+--------------------+--------------------+\n",
      "\n"
     ]
    },
    {
     "name": "stderr",
     "output_type": "stream",
     "text": [
      "                                                                                \r"
     ]
    }
   ],
   "source": [
    "df.describe().show()"
   ]
  },
  {
   "cell_type": "markdown",
   "id": "5d0b1010-e50b-4ab8-a812-8f4fe6c7f7ea",
   "metadata": {},
   "source": [
    "#### Guarda la información de cada step en un archivo separado. Sólo se ejecuta una vez porque es muy pesado"
   ]
  },
  {
   "cell_type": "code",
   "execution_count": 3,
   "id": "8c866278-ab1f-4989-bfbb-e40bfb50610b",
   "metadata": {},
   "outputs": [
    {
     "name": "stdout",
     "output_type": "stream",
     "text": [
      "CPU times: user 1 µs, sys: 0 ns, total: 1 µs\n",
      "Wall time: 2.86 µs\n"
     ]
    },
    {
     "data": {
      "text/plain": [
       "'\\n# Saca todos los códigos de step distintos que hay:\\nsteps = df.select(\\'step\\').distinct().collect()\\n\\nfor step in steps[:]:\\n    df1 = df.where(f\"step = {step[0]}\")\\n    # Añade coalesce para evitar que particione en más de un archivo:\\n    df1.coalesce(1).write.mode(\"append\").option(\"header\",\"true\").csv(\"./datos/fakecards/archivos\")\\n'"
      ]
     },
     "execution_count": 3,
     "metadata": {},
     "output_type": "execute_result"
    }
   ],
   "source": [
    "%%time\n",
    "\"\"\"\n",
    "# Saca todos los códigos de step distintos que hay:\n",
    "steps = df.select('step').distinct().collect()\n",
    "\n",
    "for step in steps[:]:\n",
    "    df1 = df.where(f\"step = {step[0]}\")\n",
    "    # Añade coalesce para evitar que particione en más de un archivo:\n",
    "    df1.coalesce(1).write.mode(\"append\").option(\"header\",\"true\").csv(\"./datos/fakecards/archivos\")\n",
    "\"\"\""
   ]
  },
  {
   "cell_type": "code",
   "execution_count": null,
   "id": "2d4bb4ba-7ba4-4a98-a275-1bb78b6f94ed",
   "metadata": {},
   "outputs": [],
   "source": [
    "!cd ./datos/fakecards/archivos && ls -lah"
   ]
  },
  {
   "cell_type": "markdown",
   "id": "b389e1bf-c05e-454b-aff5-3eb0e4430c7a",
   "metadata": {},
   "source": [
    "#### Comprobamos que sólo hay un stept en cada partición"
   ]
  },
  {
   "cell_type": "code",
   "execution_count": 5,
   "id": "ee746aeb-fb0b-48df-bc71-7709ae10ed99",
   "metadata": {},
   "outputs": [
    {
     "name": "stderr",
     "output_type": "stream",
     "text": [
      "                                                                                \r"
     ]
    },
    {
     "name": "stdout",
     "output_type": "stream",
     "text": [
      "+----+-----+\n",
      "|step|count|\n",
      "+----+-----+\n",
      "|  13|38919|\n",
      "+----+-----+\n",
      "\n",
      "CPU times: user 6.96 ms, sys: 110 µs, total: 7.07 ms\n",
      "Wall time: 7.67 s\n"
     ]
    }
   ],
   "source": [
    "%%time\n",
    "part = spark.read.csv('./datos/fakecards/archivos/part-00000-fff1cfd2-3371-44a5-a985-f66d84b9e291-c000.csv', header=True, inferSchema=True)\n",
    "part.groupBy('step').count().show()"
   ]
  },
  {
   "cell_type": "code",
   "execution_count": 6,
   "id": "e55e5521-c926-46ea-a496-d1218660e87b",
   "metadata": {},
   "outputs": [
    {
     "data": {
      "text/plain": [
       "StructType(List(StructField(step,IntegerType,true),StructField(type,StringType,true),StructField(amount,DoubleType,true),StructField(nameOrig,StringType,true),StructField(oldbalanceOrg,DoubleType,true),StructField(newbalanceOrig,DoubleType,true),StructField(nameDest,StringType,true),StructField(oldbalanceDest,DoubleType,true),StructField(newbalanceDest,DoubleType,true),StructField(isFraud,IntegerType,true),StructField(isFlaggedFraud,IntegerType,true)))"
      ]
     },
     "execution_count": 6,
     "metadata": {},
     "output_type": "execute_result"
    }
   ],
   "source": [
    "dataEsquema = part.schema\n",
    "dataEsquema"
   ]
  },
  {
   "cell_type": "code",
   "execution_count": 3,
   "id": "8ccddb1d-5bb4-4d1b-a6f3-b764bb3926ac",
   "metadata": {},
   "outputs": [
    {
     "name": "stdout",
     "output_type": "stream",
     "text": [
      "Sacabao\n"
     ]
    }
   ],
   "source": [
    "spark.sparkContext.stop()\n",
    "print('Sacabao')"
   ]
  },
  {
   "cell_type": "code",
   "execution_count": null,
   "id": "ba7a936e-779c-4381-a4f4-1f521c191fd0",
   "metadata": {},
   "outputs": [],
   "source": []
  }
 ],
 "metadata": {
  "kernelspec": {
   "display_name": "Python 3 (ipykernel)",
   "language": "python",
   "name": "python3"
  },
  "language_info": {
   "codemirror_mode": {
    "name": "ipython",
    "version": 3
   },
   "file_extension": ".py",
   "mimetype": "text/x-python",
   "name": "python",
   "nbconvert_exporter": "python",
   "pygments_lexer": "ipython3",
   "version": "3.9.2"
  }
 },
 "nbformat": 4,
 "nbformat_minor": 5
}
