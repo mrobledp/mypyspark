{
 "cells": [
  {
   "cell_type": "markdown",
   "id": "029ee3d9-45d2-4575-a0b4-0f524844509c",
   "metadata": {},
   "source": [
    "# Lee un año de datos a ver cómo se hace más rápido"
   ]
  },
  {
   "cell_type": "code",
   "execution_count": 7,
   "id": "9809d572-83ea-498d-961c-b08593e7a424",
   "metadata": {},
   "outputs": [
    {
     "data": {
      "text/html": [
       "\n",
       "            <div>\n",
       "                <p><b>SparkSession - in-memory</b></p>\n",
       "                \n",
       "        <div>\n",
       "            <p><b>SparkContext</b></p>\n",
       "\n",
       "            <p><a href=\"http://c53ebaa0bb24:4040\">Spark UI</a></p>\n",
       "\n",
       "            <dl>\n",
       "              <dt>Version</dt>\n",
       "                <dd><code>v3.2.1</code></dd>\n",
       "              <dt>Master</dt>\n",
       "                <dd><code>spark://spark-master:7077</code></dd>\n",
       "              <dt>AppName</dt>\n",
       "                <dd><code>ReadParquetYearMon16MM</code></dd>\n",
       "            </dl>\n",
       "        </div>\n",
       "        \n",
       "            </div>\n",
       "        "
      ],
      "text/plain": [
       "<pyspark.sql.session.SparkSession at 0x7fe549ba1790>"
      ]
     },
     "execution_count": 7,
     "metadata": {},
     "output_type": "execute_result"
    }
   ],
   "source": [
    "### Probando con datos\n",
    "import pyspark\n",
    "from pyspark.sql import SparkSession\n",
    "from pyspark.conf import SparkConf\n",
    "\n",
    "conf = (SparkConf().set(\"spark.executor.memory\", \"6g\")   #<--- Por executor. Como hay dos instancias, la mitad por executor.\n",
    "                    .set(\"spark.executor.cores\", \"3\")    #<--- Por cada executor. Como hay 4, 4*3=12 cores se usan.\n",
    "                    .set(\"spark.executor.instances\", \"2\")\n",
    "                    .set(\"spark.eventLog.enabled\", \"true\"))\n",
    "spark = SparkSession.builder.master(\"spark://spark-master:7077\").appName(\"ReadParquetYearMon16MM\").config(conf=conf).getOrCreate()\n",
    "spark"
   ]
  },
  {
   "cell_type": "code",
   "execution_count": 8,
   "id": "821c805d-ae05-4e05-8144-dde6d1ed4bf9",
   "metadata": {},
   "outputs": [
    {
     "name": "stdout",
     "output_type": "stream",
     "text": [
      "Inicio: Wed Nov  9 18:10:10 2022\n"
     ]
    }
   ],
   "source": [
    "import time\n",
    "print ('Inicio: '+time.strftime(\"%c\"))\n",
    "inicio = time.perf_counter()"
   ]
  },
  {
   "cell_type": "code",
   "execution_count": 28,
   "id": "21680333-d2da-4460-b92d-869e172113a5",
   "metadata": {},
   "outputs": [
    {
     "name": "stdout",
     "output_type": "stream",
     "text": [
      "====================================================================================================================================\n",
      "Tratando partición yearMon=1931-01\n",
      "+------------+----------+---+--------+-------+----+-------------+--------------------+--------------------+-------------+-------+------------+\n",
      "|          Id|    fecNac|sex|ingresos|partido|edad|         mapa|              nombre|               lider|fechaCreacion|yearMon|calificacion|\n",
      "+------------+----------+---+--------+-------+----+-------------+--------------------+--------------------+-------------+-------+------------+\n",
      "|ID1151795346|1931-01-11|  M|   13400|    VOX|91.0|1-1-0-1-0-1-1|     VOX España S.A.|    Santiago Abascal|   2015-01-01|1931-01|     sensato|\n",
      "|ID1145148063|1931-01-12|  M|   22100|     PP|91.0|0-1-1-1-1-1-1|     Partido Popular|Alberto Núñez Feijóo|   1986-10-31|1931-01|        bobo|\n",
      "|ID1145149777|1931-01-04|  H|   36600|     CS|91.0|1-0-0-0-1-1-1|          Ciudadanos|      Inés Arrimadas|   2008-04-18|1931-01|      idiota|\n",
      "|ID1142838013|1931-01-09|  H|   25400|     UP|91.0|0-0-0-0-0-1-1|      Unidas Podemos|        Yolanda Díaz|   2014-04-15|1931-01|      idiota|\n",
      "|ID1148732347|1931-01-03|  M|   57100|    VOX|91.0|0-1-1-1-0-0-0|     VOX España S.A.|    Santiago Abascal|   2015-01-01|1931-01|     sensato|\n",
      "|ID1137645459|1931-01-31|  M|   20300|     CS|91.0|0-1-0-0-0-1-1|          Ciudadanos|      Inés Arrimadas|   2008-04-18|1931-01|      idiota|\n",
      "|ID1142841053|1931-01-07|  H|   28200|     CS|91.0|1-1-1-0-1-0-1|          Ciudadanos|      Inés Arrimadas|   2008-04-18|1931-01|      idiota|\n",
      "|ID1141533344|1931-01-30|  H|    8500|    VOX|91.0|1-0-0-1-1-1-0|     VOX España S.A.|    Santiago Abascal|   2015-01-01|1931-01|     sensato|\n",
      "|ID1151804140|1931-01-17|  M|   22400|     PP|91.0|1-1-0-1-1-0-1|     Partido Popular|Alberto Núñez Feijóo|   1986-10-31|1931-01|        bobo|\n",
      "|ID1128905233|1931-01-28|  M|   17200|   PSOE|91.0|1-1-0-1-0-0-0|Partido Socialist...|       Pedro Sánchez|   1930-12-25|1931-01|      idiota|\n",
      "|ID1143608201|1931-01-10|  M|   18600|     PP|91.0|0-0-0-0-0-0-1|     Partido Popular|Alberto Núñez Feijóo|   1986-10-31|1931-01|        bobo|\n",
      "|ID1142850000|1931-01-31|  M|   15200|    VOX|91.0|0-0-1-1-0-0-1|     VOX España S.A.|    Santiago Abascal|   2015-01-01|1931-01|     sensato|\n",
      "|ID1128910888|1931-01-05|  M|   59000|     CS|91.0|1-1-1-1-1-1-1|          Ciudadanos|      Inés Arrimadas|   2008-04-18|1931-01|      idiota|\n",
      "|ID1145160931|1931-01-28|  M|   21600|     PP|91.0|1-1-0-1-0-0-0|     Partido Popular|Alberto Núñez Feijóo|   1986-10-31|1931-01|        bobo|\n",
      "|ID1147262780|1931-01-21|  M|   17800|   PSOE|91.0|1-1-0-0-0-1-0|Partido Socialist...|       Pedro Sánchez|   1930-12-25|1931-01|      idiota|\n",
      "|ID1155237264|1931-01-18|  H|   16500|    VOX|91.0|0-1-1-1-0-0-0|     VOX España S.A.|    Santiago Abascal|   2015-01-01|1931-01|     sensato|\n",
      "|ID1154374269|1931-01-17|  M|   14200|    VOX|91.0|0-1-0-0-1-0-0|     VOX España S.A.|    Santiago Abascal|   2015-01-01|1931-01|     sensato|\n",
      "|ID1143625498|1931-01-02|  H|   11400|     PP|91.0|0-0-1-0-1-0-0|     Partido Popular|Alberto Núñez Feijóo|   1986-10-31|1931-01|        bobo|\n",
      "|ID1149050503|1931-01-30|  H|   16300|    VOX|91.0|0-1-0-0-0-1-1|     VOX España S.A.|    Santiago Abascal|   2015-01-01|1931-01|     sensato|\n",
      "|ID1153733478|1931-01-01|  H|   32700|     PP|91.0|1-1-1-1-0-0-1|     Partido Popular|Alberto Núñez Feijóo|   1986-10-31|1931-01|        bobo|\n",
      "+------------+----------+---+--------+-------+----+-------------+--------------------+--------------------+-------------+-------+------------+\n",
      "only showing top 20 rows\n",
      "\n",
      "+------------+----------+---+--------+-------+----+-------------+--------------------+--------------------+-------------+-------+------------+\n",
      "|          Id|    fecNac|sex|ingresos|partido|edad|         mapa|              nombre|               lider|fechaCreacion|yearMon|calificacion|\n",
      "+------------+----------+---+--------+-------+----+-------------+--------------------+--------------------+-------------+-------+------------+\n",
      "|ID1151795346|1931-01-11|  M|   13400|    VOX|91.0|1-1-0-1-0-1-1|     VOX España S.A.|    Santiago Abascal|   2015-01-01|1931-01|     sensato|\n",
      "|ID1145148063|1931-01-12|  M|   22100|     PP|91.0|0-1-1-1-1-1-1|     Partido Popular|Alberto Núñez Feijóo|   1986-10-31|1931-01|        bobo|\n",
      "|ID1145149777|1931-01-04|  H|   36600|     CS|91.0|1-0-0-0-1-1-1|          Ciudadanos|      Inés Arrimadas|   2008-04-18|1931-01|      idiota|\n",
      "|ID1142838013|1931-01-09|  H|   25400|     UP|91.0|0-0-0-0-0-1-1|      Unidas Podemos|        Yolanda Díaz|   2014-04-15|1931-01|      idiota|\n",
      "|ID1148732347|1931-01-03|  M|   57100|    VOX|91.0|0-1-1-1-0-0-0|     VOX España S.A.|    Santiago Abascal|   2015-01-01|1931-01|     sensato|\n",
      "|ID1137645459|1931-01-31|  M|   20300|     CS|91.0|0-1-0-0-0-1-1|          Ciudadanos|      Inés Arrimadas|   2008-04-18|1931-01|      idiota|\n",
      "|ID1142841053|1931-01-07|  H|   28200|     CS|91.0|1-1-1-0-1-0-1|          Ciudadanos|      Inés Arrimadas|   2008-04-18|1931-01|      idiota|\n",
      "|ID1141533344|1931-01-30|  H|    8500|    VOX|91.0|1-0-0-1-1-1-0|     VOX España S.A.|    Santiago Abascal|   2015-01-01|1931-01|     sensato|\n",
      "|ID1151804140|1931-01-17|  M|   22400|     PP|91.0|1-1-0-1-1-0-1|     Partido Popular|Alberto Núñez Feijóo|   1986-10-31|1931-01|        bobo|\n",
      "|ID1128905233|1931-01-28|  M|   17200|   PSOE|91.0|1-1-0-1-0-0-0|Partido Socialist...|       Pedro Sánchez|   1930-12-25|1931-01|      idiota|\n",
      "|ID1143608201|1931-01-10|  M|   18600|     PP|91.0|0-0-0-0-0-0-1|     Partido Popular|Alberto Núñez Feijóo|   1986-10-31|1931-01|        bobo|\n",
      "|ID1142850000|1931-01-31|  M|   15200|    VOX|91.0|0-0-1-1-0-0-1|     VOX España S.A.|    Santiago Abascal|   2015-01-01|1931-01|     sensato|\n",
      "|ID1128910888|1931-01-05|  M|   59000|     CS|91.0|1-1-1-1-1-1-1|          Ciudadanos|      Inés Arrimadas|   2008-04-18|1931-01|      idiota|\n",
      "|ID1145160931|1931-01-28|  M|   21600|     PP|91.0|1-1-0-1-0-0-0|     Partido Popular|Alberto Núñez Feijóo|   1986-10-31|1931-01|        bobo|\n",
      "|ID1147262780|1931-01-21|  M|   17800|   PSOE|91.0|1-1-0-0-0-1-0|Partido Socialist...|       Pedro Sánchez|   1930-12-25|1931-01|      idiota|\n",
      "|ID1155237264|1931-01-18|  H|   16500|    VOX|91.0|0-1-1-1-0-0-0|     VOX España S.A.|    Santiago Abascal|   2015-01-01|1931-01|     sensato|\n",
      "|ID1154374269|1931-01-17|  M|   14200|    VOX|91.0|0-1-0-0-1-0-0|     VOX España S.A.|    Santiago Abascal|   2015-01-01|1931-01|     sensato|\n",
      "|ID1143625498|1931-01-02|  H|   11400|     PP|91.0|0-0-1-0-1-0-0|     Partido Popular|Alberto Núñez Feijóo|   1986-10-31|1931-01|        bobo|\n",
      "|ID1149050503|1931-01-30|  H|   16300|    VOX|91.0|0-1-0-0-0-1-1|     VOX España S.A.|    Santiago Abascal|   2015-01-01|1931-01|     sensato|\n",
      "|ID1153733478|1931-01-01|  H|   32700|     PP|91.0|1-1-1-1-0-0-1|     Partido Popular|Alberto Núñez Feijóo|   1986-10-31|1931-01|        bobo|\n",
      "+------------+----------+---+--------+-------+----+-------------+--------------------+--------------------+-------------+-------+------------+\n",
      "only showing top 20 rows\n",
      "\n"
     ]
    },
    {
     "name": "stderr",
     "output_type": "stream",
     "text": [
      "[Stage 36:======================================>                  (8 + 4) / 12]\r"
     ]
    },
    {
     "name": "stdout",
     "output_type": "stream",
     "text": [
      "+---+------+---+--------+-------+----+----+------+-----+-------------+-------+\n",
      "| Id|fecNac|sex|ingresos|partido|edad|mapa|nombre|lider|fechaCreacion|yearMon|\n",
      "+---+------+---+--------+-------+----+----+------+-----+-------------+-------+\n",
      "|  0|     0|  0|       0|      0|   0|   0|     0|    0|            0|      0|\n",
      "+---+------+---+--------+-------+----+----+------+-----+-------------+-------+\n",
      "\n",
      "None\n",
      "CPU times: user 15.6 ms, sys: 11 ms, total: 26.5 ms\n",
      "Wall time: 2.26 s\n"
     ]
    },
    {
     "name": "stderr",
     "output_type": "stream",
     "text": [
      "                                                                                \r"
     ]
    }
   ],
   "source": [
    "%%time\n",
    "from pyspark.sql.types import StructType\n",
    "from pyspark.sql.types import StringType,BooleanType,DateType,IntegerType\n",
    "#from pyspark.sql.functions import sum, col, desc, when, lit\n",
    "from pyspark.sql.functions import *\n",
    "\n",
    "\n",
    "esquema = StructType() \\\n",
    "      .add(\"Id\",StringType(),True) \\\n",
    "      .add(\"fecNac\",StringType(),True) \\\n",
    "      .add(\"sex\",StringType(),True) \\\n",
    "      .add(\"ingresos\",IntegerType(),True) \\\n",
    "      .add(\"partido\",StringType(),True) \\\n",
    "      .add(\"edad\",IntegerType(),True) \\\n",
    "      .add(\"mapa\",StringType(),True) \\\n",
    "      .add(\"nombre\",StringType(),True) \\\n",
    "      .add(\"lider\",StringType(),True) \\\n",
    "      .add(\"fechaCreacion\",StringType(),True)\n",
    "\n",
    "\"\"\"\n",
    " * Bucle año/mes\n",
    " \n",
    " 1.- Lee un año mes a mes: lo hace como a menos de un segundo por mes.\n",
    " 2.- Le pongo 10 años\n",
    "\"\"\"\n",
    "total = 0\n",
    "\n",
    "anomes = '1931-01'\n",
    "\n",
    "print(132*'='+'\\nTratando partición yearMon='+anomes)\n",
    "inicioP = time.perf_counter()\n",
    "\n",
    "df = spark.read.option(\"mergeSchema\", True).option(\"schema\", \"esquema\").option(\"basePath\", \"file:///opt/workspace/datos/fakePeopleConPartido.parquet/\")\\\n",
    "               .format(\"parquet\").load(['./datos/fakePeopleConPartido.parquet/yearMon='+anomes])\n",
    "\n",
    "#df.printSchema()\n",
    "\n",
    "# Cast --> le cambia el formato a una columna:\n",
    "\n",
    "df1=df.withColumn('edad',col=col('edad').cast('double'))\n",
    "\n",
    "#df1.printSchema()\n",
    "\n",
    "\"\"\"\n",
    " * El when--otherwise se puede escribir de dos formas:\n",
    "\"\"\"\n",
    "\n",
    "df2=df1.withColumn('calificacion',when(col('partido')=='VOX',lit('sensato'))\n",
    "                                 .when(col('partido')=='PP',lit('bobo'))\n",
    "                                 .otherwise(lit('idiota')))\n",
    "                   \n",
    "df2.show()\n",
    "\n",
    "df3=df1.withColumn('calificacion',when(df1.partido =='VOX',lit('sensato'))\n",
    "                                 .when(df1.partido =='PP',lit('bobo'))\n",
    "                                 .otherwise(lit('idiota')))\n",
    "\n",
    "df3.show()\n",
    "\n",
    "#Cuenta cuántos nan or null hay en cada columna:\n",
    "\n",
    "print(df.select([count(when(isnan(c) | col(c).isNull(), c)).alias(c) for c in df.columns]).show())\n"
   ]
  },
  {
   "cell_type": "code",
   "execution_count": null,
   "id": "07392fe9-fee4-4143-a9cb-7d4fb23d34d2",
   "metadata": {},
   "outputs": [],
   "source": [
    "ct = df.count()\n",
    "print(ct)\n",
    "total = total + ct\n",
    "print ('Final partición: '+time.strftime(\"%c\"))\n",
    "final = time.perf_counter()\n",
    "print(f'Hecho en {round(final - inicioP, 4)} segundo(s)')\n"
   ]
  },
  {
   "cell_type": "code",
   "execution_count": 6,
   "id": "2d4fa2e9-8ea5-4afc-9e21-6ddb9f64c3c9",
   "metadata": {},
   "outputs": [
    {
     "name": "stdout",
     "output_type": "stream",
     "text": [
      "Help on method withColumn in module pyspark.sql.dataframe:\n",
      "\n",
      "withColumn(colName, col) method of pyspark.sql.dataframe.DataFrame instance\n",
      "    Returns a new :class:`DataFrame` by adding a column or replacing the\n",
      "    existing column that has the same name.\n",
      "    \n",
      "    The column expression must be an expression over this :class:`DataFrame`; attempting to add\n",
      "    a column from some other :class:`DataFrame` will raise an error.\n",
      "    \n",
      "    .. versionadded:: 1.3.0\n",
      "    \n",
      "    Parameters\n",
      "    ----------\n",
      "    colName : str\n",
      "        string, name of the new column.\n",
      "    col : :class:`Column`\n",
      "        a :class:`Column` expression for the new column.\n",
      "    \n",
      "    Notes\n",
      "    -----\n",
      "    This method introduces a projection internally. Therefore, calling it multiple\n",
      "    times, for instance, via loops in order to add multiple columns can generate big\n",
      "    plans which can cause performance issues and even `StackOverflowException`.\n",
      "    To avoid this, use :func:`select` with the multiple columns at once.\n",
      "    \n",
      "    Examples\n",
      "    --------\n",
      "    >>> df.withColumn('age2', df.age + 2).collect()\n",
      "    [Row(age=2, name='Alice', age2=4), Row(age=5, name='Bob', age2=7)]\n",
      "\n"
     ]
    }
   ],
   "source": [
    "help(df.withColumn)"
   ]
  },
  {
   "cell_type": "code",
   "execution_count": 4,
   "id": "e749d4d7-794f-41f9-bf4e-0ee7419c4c1d",
   "metadata": {},
   "outputs": [
    {
     "name": "stdout",
     "output_type": "stream",
     "text": [
      "Final: Wed Nov  9 18:05:20 2022\n",
      "Hecho en 5.5997 segundo(s)\n",
      "TOTAL de registros leidos 802937\n"
     ]
    }
   ],
   "source": [
    "print ('Final: '+time.strftime(\"%c\"))\n",
    "final = time.perf_counter()\n",
    "print(f'Hecho en {round(final - inicio, 4)} segundo(s)')\n",
    "\n",
    "print('TOTAL de registros leidos '+str(total))"
   ]
  },
  {
   "cell_type": "code",
   "execution_count": 5,
   "id": "8ccddb1d-5bb4-4d1b-a6f3-b764bb3926ac",
   "metadata": {},
   "outputs": [
    {
     "name": "stdout",
     "output_type": "stream",
     "text": [
      "Sacabao\n"
     ]
    }
   ],
   "source": [
    "spark.sparkContext.stop()\n",
    "print('Sacabao')"
   ]
  },
  {
   "cell_type": "code",
   "execution_count": null,
   "id": "ba7a936e-779c-4381-a4f4-1f521c191fd0",
   "metadata": {},
   "outputs": [],
   "source": []
  }
 ],
 "metadata": {
  "kernelspec": {
   "display_name": "Python 3 (ipykernel)",
   "language": "python",
   "name": "python3"
  },
  "language_info": {
   "codemirror_mode": {
    "name": "ipython",
    "version": 3
   },
   "file_extension": ".py",
   "mimetype": "text/x-python",
   "name": "python",
   "nbconvert_exporter": "python",
   "pygments_lexer": "ipython3",
   "version": "3.9.2"
  }
 },
 "nbformat": 4,
 "nbformat_minor": 5
}
