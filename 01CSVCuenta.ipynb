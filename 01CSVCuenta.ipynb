{
 "cells": [
  {
   "cell_type": "markdown",
   "id": "79df9fbc-8ae2-4946-ab11-0a2e52051311",
   "metadata": {},
   "source": [
    "# Lee el csv a ver si puede con él"
   ]
  },
  {
   "cell_type": "code",
   "execution_count": 1,
   "id": "9809d572-83ea-498d-961c-b08593e7a424",
   "metadata": {},
   "outputs": [
    {
     "name": "stderr",
     "output_type": "stream",
     "text": [
      "Using Spark's default log4j profile: org/apache/spark/log4j-defaults.properties\n",
      "Setting default log level to \"WARN\".\n",
      "To adjust logging level use sc.setLogLevel(newLevel). For SparkR, use setLogLevel(newLevel).\n",
      "22/10/23 16:42:56 WARN NativeCodeLoader: Unable to load native-hadoop library for your platform... using builtin-java classes where applicable\n"
     ]
    },
    {
     "data": {
      "text/html": [
       "\n",
       "            <div>\n",
       "                <p><b>SparkSession - in-memory</b></p>\n",
       "                \n",
       "        <div>\n",
       "            <p><b>SparkContext</b></p>\n",
       "\n",
       "            <p><a href=\"http://b3a90b51a42d:4040\">Spark UI</a></p>\n",
       "\n",
       "            <dl>\n",
       "              <dt>Version</dt>\n",
       "                <dd><code>v3.2.1</code></dd>\n",
       "              <dt>Master</dt>\n",
       "                <dd><code>spark://spark-master:7077</code></dd>\n",
       "              <dt>AppName</dt>\n",
       "                <dd><code>DF111</code></dd>\n",
       "            </dl>\n",
       "        </div>\n",
       "        \n",
       "            </div>\n",
       "        "
      ],
      "text/plain": [
       "<pyspark.sql.session.SparkSession at 0x7f6c74205460>"
      ]
     },
     "execution_count": 1,
     "metadata": {},
     "output_type": "execute_result"
    }
   ],
   "source": [
    "\n",
    "import pyspark\n",
    "from pyspark.sql import SparkSession\n",
    "from pyspark.conf import SparkConf\n",
    "conf = (SparkConf().set(\"spark.executor.memory\", \"12g\")\n",
    "                    .set(\"spark.eventLog.enabled\", \"true\"))\n",
    "spark = SparkSession.builder.master(\"spark://spark-master:7077\").appName(\"DF111\").config(conf=conf).getOrCreate()\n",
    "spark"
   ]
  },
  {
   "cell_type": "code",
   "execution_count": 2,
   "id": "21680333-d2da-4460-b92d-869e172113a5",
   "metadata": {},
   "outputs": [
    {
     "name": "stderr",
     "output_type": "stream",
     "text": [
      "[Stage 0:=======================================>                 (11 + 5) / 16]\r"
     ]
    },
    {
     "name": "stdout",
     "output_type": "stream",
     "text": [
      "16000000\n"
     ]
    },
    {
     "name": "stderr",
     "output_type": "stream",
     "text": [
      "                                                                                \r"
     ]
    }
   ],
   "source": [
    "from pyspark.sql.types import StructType\n",
    "from pyspark.sql.types import StringType,BooleanType,DateType,IntegerType\n",
    "from pyspark.sql.functions import substring\n",
    "\n",
    "esquema = StructType() \\\n",
    "      .add(\"Id\",StringType(),True) \\\n",
    "      .add(\"fecNac\",StringType(),True) \\\n",
    "      .add(\"sex\",StringType(),True) \\\n",
    "      .add(\"ingresos\",IntegerType(),True) \\\n",
    "      .add(\"partido\",StringType(),True) \\\n",
    "      .add(\"edad\",IntegerType(),True) \\\n",
    "      .add(\"mapa\",StringType(),True)\n",
    "\n",
    "df = spark.read.csv(\"./datos/fakePeopleNuevo.csv\", sep=\";\", header = True, schema = esquema)\n",
    "\n",
    "print(df.count())"
   ]
  },
  {
   "cell_type": "code",
   "execution_count": 3,
   "id": "e2b24736-8d10-450c-ab43-854fc9d298f3",
   "metadata": {},
   "outputs": [
    {
     "name": "stderr",
     "output_type": "stream",
     "text": [
      "[Stage 3:===================================>                     (10 + 6) / 16]\r"
     ]
    },
    {
     "name": "stdout",
     "output_type": "stream",
     "text": [
      "+-------+------+\n",
      "|yearMon| count|\n",
      "+-------+------+\n",
      "|2004-12|267430|\n",
      "|2004-11|267090|\n",
      "|2004-10|266750|\n",
      "|2004-09|265971|\n",
      "|2004-08|266349|\n",
      "|2004-07|267180|\n",
      "|2004-06|266969|\n",
      "|2004-05|266646|\n",
      "|2004-04|266671|\n",
      "|2004-03|266994|\n",
      "|2004-02|267214|\n",
      "|2004-01|267302|\n",
      "|2003-12|265658|\n",
      "|2003-11|267098|\n",
      "|2003-10|266129|\n",
      "|2003-09|266257|\n",
      "|2003-08|266469|\n",
      "|2003-07|265591|\n",
      "|2003-06|266961|\n",
      "|2003-05|266190|\n",
      "|2003-04|266083|\n",
      "|2003-03|267405|\n",
      "|2003-02|266991|\n",
      "|2003-01|266884|\n",
      "|2002-12|266511|\n",
      "|2002-11|266707|\n",
      "|2002-10|267170|\n",
      "|2002-09|267125|\n",
      "|2002-08|267142|\n",
      "|2002-07|266566|\n",
      "|2002-06|266447|\n",
      "|2002-05|266545|\n",
      "|2002-04|267248|\n",
      "|2002-03|267765|\n",
      "|2002-02|266369|\n",
      "|2002-01|265891|\n",
      "|2001-12|267058|\n",
      "|2001-11|266514|\n",
      "|2001-10|266916|\n",
      "|2001-09|267293|\n",
      "|2001-08|267414|\n",
      "|2001-07|266137|\n",
      "|2001-06|266023|\n",
      "|2001-05|265204|\n",
      "|2001-04|266176|\n",
      "|2001-03|266134|\n",
      "|2001-02|267064|\n",
      "|2001-01|266944|\n",
      "|2000-12|266694|\n",
      "|2000-11|267238|\n",
      "|2000-10|267435|\n",
      "|2000-09|266429|\n",
      "|2000-08|265681|\n",
      "|2000-07|267341|\n",
      "|2000-06|266146|\n",
      "|2000-05|265456|\n",
      "|2000-04|267599|\n",
      "|2000-03|266572|\n",
      "|2000-02|266428|\n",
      "|2000-01|266336|\n",
      "+-------+------+\n",
      "\n"
     ]
    },
    {
     "name": "stderr",
     "output_type": "stream",
     "text": [
      "                                                                                \r"
     ]
    }
   ],
   "source": [
    "from pyspark.sql.functions import sum, col, desc\n",
    "df = df.withColumn(\"yearMon\", substring(\"fecNac\",1,7))\n",
    "df.groupBy('yearMon').count().sort(desc('yearMon')).show(200)"
   ]
  },
  {
   "cell_type": "code",
   "execution_count": 4,
   "id": "8ccddb1d-5bb4-4d1b-a6f3-b764bb3926ac",
   "metadata": {},
   "outputs": [
    {
     "name": "stdout",
     "output_type": "stream",
     "text": [
      "Fin de la ejecución\n"
     ]
    }
   ],
   "source": [
    "spark.sparkContext.stop()\n",
    "print('Fin de la ejecución')"
   ]
  },
  {
   "cell_type": "code",
   "execution_count": 5,
   "id": "214fe26b-01b3-481b-a709-9745b95881a2",
   "metadata": {},
   "outputs": [],
   "source": [
    "# 6-. vb *7"
   ]
  }
 ],
 "metadata": {
  "kernelspec": {
   "display_name": "Python 3 (ipykernel)",
   "language": "python",
   "name": "python3"
  },
  "language_info": {
   "codemirror_mode": {
    "name": "ipython",
    "version": 3
   },
   "file_extension": ".py",
   "mimetype": "text/x-python",
   "name": "python",
   "nbconvert_exporter": "python",
   "pygments_lexer": "ipython3",
   "version": "3.9.2"
  }
 },
 "nbformat": 4,
 "nbformat_minor": 5
}
