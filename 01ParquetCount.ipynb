{
 "cells": [
  {
   "cell_type": "code",
   "execution_count": 1,
   "id": "9809d572-83ea-498d-961c-b08593e7a424",
   "metadata": {},
   "outputs": [
    {
     "name": "stderr",
     "output_type": "stream",
     "text": [
      "Using Spark's default log4j profile: org/apache/spark/log4j-defaults.properties\n",
      "Setting default log level to \"WARN\".\n",
      "To adjust logging level use sc.setLogLevel(newLevel). For SparkR, use setLogLevel(newLevel).\n",
      "22/10/14 17:34:06 WARN NativeCodeLoader: Unable to load native-hadoop library for your platform... using builtin-java classes where applicable\n"
     ]
    },
    {
     "data": {
      "text/html": [
       "\n",
       "            <div>\n",
       "                <p><b>SparkSession - in-memory</b></p>\n",
       "                \n",
       "        <div>\n",
       "            <p><b>SparkContext</b></p>\n",
       "\n",
       "            <p><a href=\"http://9bafd6efaa8c:4040\">Spark UI</a></p>\n",
       "\n",
       "            <dl>\n",
       "              <dt>Version</dt>\n",
       "                <dd><code>v3.2.1</code></dd>\n",
       "              <dt>Master</dt>\n",
       "                <dd><code>spark://spark-master:7077</code></dd>\n",
       "              <dt>AppName</dt>\n",
       "                <dd><code>ReadParquetYearMon16MM</code></dd>\n",
       "            </dl>\n",
       "        </div>\n",
       "        \n",
       "            </div>\n",
       "        "
      ],
      "text/plain": [
       "<pyspark.sql.session.SparkSession at 0x7fd6345224c0>"
      ]
     },
     "execution_count": 1,
     "metadata": {},
     "output_type": "execute_result"
    }
   ],
   "source": [
    "### Probando con datos\n",
    "import pyspark\n",
    "from pyspark.sql import SparkSession\n",
    "from pyspark.conf import SparkConf\n",
    "\n",
    "conf = (SparkConf().set(\"spark.executor.memory\", \"12g\")\n",
    "                    .set(\"spark.eventLog.enabled\", \"true\"))\n",
    "spark = SparkSession.builder.master(\"spark://spark-master:7077\").appName(\"ReadParquetYearMon16MM\").config(conf=conf).getOrCreate()\n",
    "spark"
   ]
  },
  {
   "cell_type": "code",
   "execution_count": 2,
   "id": "21680333-d2da-4460-b92d-869e172113a5",
   "metadata": {},
   "outputs": [
    {
     "name": "stderr",
     "output_type": "stream",
     "text": [
      "22/10/14 18:23:13 WARN SharedInMemoryCache: Evicting cached table partition metadata from memory due to size constraints (spark.sql.hive.filesourcePartitionFileCacheSize = 262144000 bytes). This may impact query planning performance.\n",
      "                                                                                \r"
     ]
    },
    {
     "name": "stdout",
     "output_type": "stream",
     "text": [
      "680062421\n",
      "+------------+----------+---+--------+-------+----+-------------+-------+\n",
      "|          Id|    fecNac|sex|ingresos|partido|edad|         mapa|yearMon|\n",
      "+------------+----------+---+--------+-------+----+-------------+-------+\n",
      "|ID0047683533|1938-01-22|  H|   32000|   PSOE|  84|1-1-0-1-1-0-0|1938-01|\n",
      "|ID0049609252|1938-01-23|  H|    8500|    VOX|  84|0-1-0-0-0-1-1|1938-01|\n",
      "|ID0054793197|1938-01-08|  H|   33500|     UP|  84|1-0-0-0-0-1-0|1938-01|\n",
      "|ID0060865580|1938-01-22|  M|   55800|     PP|  84|1-1-1-0-0-1-1|1938-01|\n",
      "|ID0058754419|1938-01-01|  M|   22800|    VOX|  84|1-1-1-0-1-0-0|1938-01|\n",
      "|ID0045758543|1938-01-30|  M|   43200|     CS|  84|1-0-1-0-0-0-0|1938-01|\n",
      "|ID0047688910|1938-01-16|  M|   39000|   PSOE|  84|0-1-0-0-0-0-0|1938-01|\n",
      "|ID0055765070|1938-01-24|  H|   11600|     PP|  84|0-0-1-0-1-1-1|1938-01|\n",
      "|ID0053558364|1938-01-16|  H|   28500|     CS|  84|1-0-1-0-0-1-1|1938-01|\n",
      "|ID0057662343|1938-01-23|  M|   63700|     PP|  84|0-1-1-1-1-0-0|1938-01|\n",
      "|ID0058767397|1938-01-16|  H|   21200|     UP|  84|0-0-1-0-0-1-0|1938-01|\n",
      "|ID0059752304|1938-01-14|  M|   30000|     CS|  84|1-1-0-0-0-0-0|1938-01|\n",
      "|ID0052825380|1938-01-09|  M|   33800|    VOX|  84|1-1-1-1-0-0-1|1938-01|\n",
      "|ID0046854150|1938-01-16|  M|   46100|   PSOE|  84|1-0-1-0-1-0-1|1938-01|\n",
      "|ID0054812061|1938-01-24|  M|   62800|   PSOE|  84|0-0-0-1-0-0-0|1938-01|\n",
      "|ID0052827228|1938-01-10|  M|   35800|     PP|  84|0-1-1-1-1-0-0|1938-01|\n",
      "|ID0050730907|1938-01-09|  H|   17400|     PP|  84|0-0-0-1-1-1-1|1938-01|\n",
      "|ID0049628894|1938-01-21|  H|   31500|     CS|  84|1-1-1-1-0-0-0|1938-01|\n",
      "|ID0047705402|1938-01-20|  M|   49000|     CS|  84|0-0-0-1-0-1-0|1938-01|\n",
      "|ID0046860527|1938-01-26|  M|   54700|   PSOE|  84|0-0-0-0-1-1-0|1938-01|\n",
      "+------------+----------+---+--------+-------+----+-------------+-------+\n",
      "only showing top 20 rows\n",
      "\n",
      "== Parsed Logical Plan ==\n",
      "Relation [Id#0,fecNac#1,sex#2,ingresos#3,partido#4,edad#5,mapa#6,yearMon#7] parquet\n",
      "\n",
      "== Analyzed Logical Plan ==\n",
      "Id: string, fecNac: string, sex: string, ingresos: int, partido: string, edad: int, mapa: string, yearMon: string\n",
      "Relation [Id#0,fecNac#1,sex#2,ingresos#3,partido#4,edad#5,mapa#6,yearMon#7] parquet\n",
      "\n",
      "== Optimized Logical Plan ==\n",
      "Relation [Id#0,fecNac#1,sex#2,ingresos#3,partido#4,edad#5,mapa#6,yearMon#7] parquet\n",
      "\n",
      "== Physical Plan ==\n",
      "*(1) ColumnarToRow\n",
      "+- FileScan parquet [Id#0,fecNac#1,sex#2,ingresos#3,partido#4,edad#5,mapa#6,yearMon#7] Batched: true, DataFilters: [], Format: Parquet, Location: InMemoryFileIndex(1 paths)[file:/opt/workspace/datos/fecNac/fakePeople.parquet], PartitionFilters: [], PushedFilters: [], ReadSchema: struct<Id:string,fecNac:string,sex:string,ingresos:int,partido:string,edad:int,mapa:string>\n",
      "\n",
      "== Optimized Logical Plan ==\n",
      "Relation [Id#0,fecNac#1,sex#2,ingresos#3,partido#4,edad#5,mapa#6,yearMon#7] parquet, Statistics(sizeInBytes=8.5 GiB)\n",
      "\n",
      "== Physical Plan ==\n",
      "*(1) ColumnarToRow\n",
      "+- FileScan parquet [Id#0,fecNac#1,sex#2,ingresos#3,partido#4,edad#5,mapa#6,yearMon#7] Batched: true, DataFilters: [], Format: Parquet, Location: InMemoryFileIndex(1 paths)[file:/opt/workspace/datos/fecNac/fakePeople.parquet], PartitionFilters: [], PushedFilters: [], ReadSchema: struct<Id:string,fecNac:string,sex:string,ingresos:int,partido:string,edad:int,mapa:string>\n",
      "\n",
      "\n"
     ]
    }
   ],
   "source": [
    "from pyspark.sql.types import StructType\n",
    "from pyspark.sql.types import StringType,BooleanType,DateType,IntegerType\n",
    "from pyspark.sql.functions import sum, col, desc\n",
    "\n",
    "esquema = StructType() \\\n",
    "      .add(\"Id\",StringType(),True) \\\n",
    "      .add(\"fecNac\",StringType(),True) \\\n",
    "      .add(\"sex\",StringType(),True) \\\n",
    "      .add(\"ingresos\",IntegerType(),True) \\\n",
    "      .add(\"partido\",StringType(),True) \\\n",
    "      .add(\"edad\",IntegerType(),True) \\\n",
    "      .add(\"mapa\",StringType(),True)\n",
    "\n",
    "df = spark.read.parquet(\"./datos/fecNac/fakePeople.parquet\", sep=\";\", header = True, schema = esquema)\n",
    "\n",
    "print(df.count())\n",
    "df.show()\n",
    "df.explain(extended=True)\n",
    "df.explain(mode='cost')\n"
   ]
  },
  {
   "cell_type": "code",
   "execution_count": 3,
   "id": "8ccddb1d-5bb4-4d1b-a6f3-b764bb3926ac",
   "metadata": {},
   "outputs": [
    {
     "name": "stdout",
     "output_type": "stream",
     "text": [
      "Sacabao\n"
     ]
    }
   ],
   "source": [
    "spark.sparkContext.stop()\n",
    "print('Sacabao')"
   ]
  },
  {
   "cell_type": "code",
   "execution_count": null,
   "id": "ba7a936e-779c-4381-a4f4-1f521c191fd0",
   "metadata": {},
   "outputs": [],
   "source": []
  }
 ],
 "metadata": {
  "kernelspec": {
   "display_name": "Python 3 (ipykernel)",
   "language": "python",
   "name": "python3"
  },
  "language_info": {
   "codemirror_mode": {
    "name": "ipython",
    "version": 3
   },
   "file_extension": ".py",
   "mimetype": "text/x-python",
   "name": "python",
   "nbconvert_exporter": "python",
   "pygments_lexer": "ipython3",
   "version": "3.9.2"
  }
 },
 "nbformat": 4,
 "nbformat_minor": 5
}
