{
 "cells": [
  {
   "cell_type": "markdown",
   "id": "79df9fbc-8ae2-4946-ab11-0a2e52051311",
   "metadata": {},
   "source": [
    "# Paso a parquet el archivo de contratos sin fechas y desordenado"
   ]
  },
  {
   "cell_type": "code",
   "execution_count": 1,
   "id": "9809d572-83ea-498d-961c-b08593e7a424",
   "metadata": {},
   "outputs": [
    {
     "name": "stderr",
     "output_type": "stream",
     "text": [
      "Using Spark's default log4j profile: org/apache/spark/log4j-defaults.properties\n",
      "Setting default log level to \"WARN\".\n",
      "To adjust logging level use sc.setLogLevel(newLevel). For SparkR, use setLogLevel(newLevel).\n",
      "22/10/22 17:41:07 WARN NativeCodeLoader: Unable to load native-hadoop library for your platform... using builtin-java classes where applicable\n"
     ]
    },
    {
     "data": {
      "text/html": [
       "\n",
       "            <div>\n",
       "                <p><b>SparkSession - in-memory</b></p>\n",
       "                \n",
       "        <div>\n",
       "            <p><b>SparkContext</b></p>\n",
       "\n",
       "            <p><a href=\"http://4c7cca8802b8:4040\">Spark UI</a></p>\n",
       "\n",
       "            <dl>\n",
       "              <dt>Version</dt>\n",
       "                <dd><code>v3.2.1</code></dd>\n",
       "              <dt>Master</dt>\n",
       "                <dd><code>spark://spark-master:7077</code></dd>\n",
       "              <dt>AppName</dt>\n",
       "                <dd><code>ContratosAParque</code></dd>\n",
       "            </dl>\n",
       "        </div>\n",
       "        \n",
       "            </div>\n",
       "        "
      ],
      "text/plain": [
       "<pyspark.sql.session.SparkSession at 0x7f512c157df0>"
      ]
     },
     "execution_count": 1,
     "metadata": {},
     "output_type": "execute_result"
    }
   ],
   "source": [
    "\n",
    "import pyspark\n",
    "from pyspark.sql import SparkSession\n",
    "from pyspark.conf import SparkConf\n",
    "conf = (SparkConf().set(\"spark.executor.memory\", \"8g\")\n",
    "                    .set(\"spark.eventLog.enabled\", \"true\"))\n",
    "spark = SparkSession.builder.master(\"spark://spark-master:7077\").appName(\"ContratosAParque\").config(conf=conf).getOrCreate()\n",
    "spark"
   ]
  },
  {
   "cell_type": "code",
   "execution_count": 2,
   "id": "21680333-d2da-4460-b92d-869e172113a5",
   "metadata": {},
   "outputs": [
    {
     "name": "stderr",
     "output_type": "stream",
     "text": [
      "                                                                                \r"
     ]
    },
    {
     "name": "stdout",
     "output_type": "stream",
     "text": [
      "1276940\n",
      "+------------+----------+--------------------+-----+------+\n",
      "|        ctId|    fecRef|                dato|saldo|  proc|\n",
      "+------------+----------+--------------------+-----+------+\n",
      "|CT0001123484|2021-06-21|Dato del contrato...|47900|CT0001|\n",
      "|CT0001123484|2021-08-19|Dato del contrato...| 6200|CT0001|\n",
      "|CT0001123484|2021-04-18|Dato del contrato...| 2400|CT0001|\n",
      "|CT0001123484|2020-11-21|Dato del contrato...| 1900|CT0001|\n",
      "|CT0001123484|2021-04-01|Dato del contrato...|42000|CT0001|\n",
      "|CT0001123484|2021-04-09|Dato del contrato...|33700|CT0001|\n",
      "|CT0001123484|2021-07-20|Dato del contrato...|26500|CT0001|\n",
      "|CT0001123484|2020-08-08|Dato del contrato...| 1800|CT0001|\n",
      "|CT0001123484|2021-08-04|Dato del contrato...|43100|CT0001|\n",
      "|CT0001123515|2021-06-06|Dato del contrato...|34800|CT0001|\n",
      "|CT0001123515|2021-04-28|Dato del contrato...| 5200|CT0001|\n",
      "|CT0001123515|2020-04-02|Dato del contrato...|70200|CT0001|\n",
      "|CT0001123515|2020-03-28|Dato del contrato...|90400|CT0001|\n",
      "|CT0001123515|2021-02-09|Dato del contrato...| 7900|CT0001|\n",
      "|CT0001123515|2021-06-12|Dato del contrato...|44600|CT0001|\n",
      "|CT0001123515|2021-03-15|Dato del contrato...|15900|CT0001|\n",
      "|CT0001123515|2021-11-09|Dato del contrato...| 8400|CT0001|\n",
      "|CT0001123515|2021-02-18|Dato del contrato...| 7900|CT0001|\n",
      "|CT0001123515|2021-05-13|Dato del contrato...|18200|CT0001|\n",
      "|CT0001123515|2020-05-08|Dato del contrato...|55200|CT0001|\n",
      "+------------+----------+--------------------+-----+------+\n",
      "only showing top 20 rows\n",
      "\n"
     ]
    },
    {
     "name": "stderr",
     "output_type": "stream",
     "text": [
      "                                                                                \r"
     ]
    }
   ],
   "source": [
    "from pyspark.sql.types import StructType\n",
    "from pyspark.sql.types import StringType,BooleanType,DateType,IntegerType\n",
    "from pyspark.sql.functions import substring\n",
    "\n",
    "esquema = StructType() \\\n",
    "      .add(\"ctId\",StringType(),True) \\\n",
    "      .add(\"fecRef\",StringType(),True) \\\n",
    "      .add(\"dato\",StringType(),True) \\\n",
    "      .add(\"saldo\",IntegerType(),True)\n",
    "\n",
    "df = spark.read.csv(\"./datos/fakeContracts01.csv\", sep=\";\", header = True, schema = esquema)\n",
    "print(df.count())\n",
    "df = df.withColumn(\"proc\", substring(\"ctId\",1,6))\n",
    "df.show()\n",
    "df.orderBy('ctId', 'fecRef')\n",
    "df.write.mode(\"overwrite\").partitionBy(\"proc\").parquet(\"./datos/fakeContractsSinFechas.parquet\")"
   ]
  },
  {
   "cell_type": "code",
   "execution_count": 3,
   "id": "8ccddb1d-5bb4-4d1b-a6f3-b764bb3926ac",
   "metadata": {},
   "outputs": [],
   "source": [
    "spark.sparkContext.stop()"
   ]
  },
  {
   "cell_type": "code",
   "execution_count": null,
   "id": "214fe26b-01b3-481b-a709-9745b95881a2",
   "metadata": {},
   "outputs": [],
   "source": []
  }
 ],
 "metadata": {
  "kernelspec": {
   "display_name": "Python 3 (ipykernel)",
   "language": "python",
   "name": "python3"
  },
  "language_info": {
   "codemirror_mode": {
    "name": "ipython",
    "version": 3
   },
   "file_extension": ".py",
   "mimetype": "text/x-python",
   "name": "python",
   "nbconvert_exporter": "python",
   "pygments_lexer": "ipython3",
   "version": "3.9.2"
  }
 },
 "nbformat": 4,
 "nbformat_minor": 5
}
