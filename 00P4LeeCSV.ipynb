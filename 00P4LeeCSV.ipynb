{
 "cells": [
  {
   "cell_type": "markdown",
   "id": "79df9fbc-8ae2-4946-ab11-0a2e52051311",
   "metadata": {},
   "source": [
    "# Lectura de un csv\n"
   ]
  },
  {
   "cell_type": "markdown",
   "id": "2da53ef0-a87b-446a-9f13-e7d00de1337e",
   "metadata": {},
   "source": [
    "## Lectura de un csv sin Spark y línea a línea\n",
    "\n",
    "Lo lee como un string sin nada"
   ]
  },
  {
   "cell_type": "code",
   "execution_count": null,
   "id": "5988b0de-a8ff-471c-ba93-8dee006d5976",
   "metadata": {},
   "outputs": [],
   "source": [
    "%%time\n",
    "import csv\n",
    "\n",
    "i=0\n",
    "\n",
    "fi = open('./Fotolescu/useful-master/kaggle/coronavirus-forecasting/data/train.csv', 'r')\n",
    "for line in fi:\n",
    "    print(line)\n",
    "    i+=1\n",
    "    if i > 10:break\n",
    "\n",
    "fi.close()"
   ]
  },
  {
   "cell_type": "markdown",
   "id": "ace93e6a-1b2e-42fb-bcc5-cfa2c2b5bf53",
   "metadata": {},
   "source": [
    "## Lectura de un csv sin Spark y línea a línea\n",
    "\n",
    "Lo lee como una lista con reader:"
   ]
  },
  {
   "cell_type": "code",
   "execution_count": null,
   "id": "21680333-d2da-4460-b92d-869e172113a5",
   "metadata": {},
   "outputs": [],
   "source": [
    "%%time\n",
    "import csv\n",
    "\n",
    "i=0\n",
    "\n",
    "fi = open('./Fotolescu/useful-master/kaggle/coronavirus-forecasting/data/train.csv', 'r')\n",
    "csv_fi = csv.reader(fi)\n",
    "for line in csv_fi:\n",
    "    print(line)\n",
    "    print('La provincia/estado es '+line[2])\n",
    "    i+=1\n",
    "    if i > 10:break\n",
    "\n",
    "fi.close()"
   ]
  },
  {
   "cell_type": "markdown",
   "id": "f5b6f647-495b-4b69-a5fb-bf2b89365dd8",
   "metadata": {},
   "source": [
    "## Lectura de un csv sin Spark y línea a línea\n",
    "\n",
    "Lo lee como un diccionario con DictReader"
   ]
  },
  {
   "cell_type": "code",
   "execution_count": null,
   "id": "322b89f2-d2cf-4b93-b840-b327ffcf7c4c",
   "metadata": {},
   "outputs": [],
   "source": [
    "i=0\n",
    "\n",
    "fi = open('./Fotolescu/useful-master/kaggle/coronavirus-forecasting/data/train.csv', 'r')\n",
    "csv_fi = csv.DictReader(fi)\n",
    "for line in csv_fi:\n",
    "    print(line)\n",
    "    print(type(line))\n",
    "    print('El país/región es '+line['Country/Region'])\n",
    "    i+=1\n",
    "    if i > 10:break"
   ]
  },
  {
   "cell_type": "markdown",
   "id": "d447f7e7-d0e5-4310-9ae8-fc8336d4e864",
   "metadata": {},
   "source": [
    "# Análogamente existe un writer y un DictWriter"
   ]
  },
  {
   "cell_type": "code",
   "execution_count": null,
   "id": "214fe26b-01b3-481b-a709-9745b95881a2",
   "metadata": {},
   "outputs": [],
   "source": []
  }
 ],
 "metadata": {
  "kernelspec": {
   "display_name": "Python 3 (ipykernel)",
   "language": "python",
   "name": "python3"
  },
  "language_info": {
   "codemirror_mode": {
    "name": "ipython",
    "version": 3
   },
   "file_extension": ".py",
   "mimetype": "text/x-python",
   "name": "python",
   "nbconvert_exporter": "python",
   "pygments_lexer": "ipython3",
   "version": "3.9.2"
  }
 },
 "nbformat": 4,
 "nbformat_minor": 5
}
