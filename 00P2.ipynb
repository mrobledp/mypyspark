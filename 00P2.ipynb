{
 "cells": [
  {
   "cell_type": "markdown",
   "id": "79df9fbc-8ae2-4946-ab11-0a2e52051311",
   "metadata": {},
   "source": [
    "# Juega con los datos en parquet de https://www.kaggle.com/datasets/mkechinov/ecommerce-events-history-in-cosmetics-shop"
   ]
  },
  {
   "cell_type": "code",
   "execution_count": 1,
   "id": "9809d572-83ea-498d-961c-b08593e7a424",
   "metadata": {
    "tags": []
   },
   "outputs": [
    {
     "name": "stderr",
     "output_type": "stream",
     "text": [
      "Using Spark's default log4j profile: org/apache/spark/log4j-defaults.properties\n",
      "Setting default log level to \"WARN\".\n",
      "To adjust logging level use sc.setLogLevel(newLevel). For SparkR, use setLogLevel(newLevel).\n",
      "22/11/26 12:32:50 WARN NativeCodeLoader: Unable to load native-hadoop library for your platform... using builtin-java classes where applicable\n"
     ]
    },
    {
     "data": {
      "text/html": [
       "\n",
       "            <div>\n",
       "                <p><b>SparkSession - in-memory</b></p>\n",
       "                \n",
       "        <div>\n",
       "            <p><b>SparkContext</b></p>\n",
       "\n",
       "            <p><a href=\"http://72fab332bdf6:4040\">Spark UI</a></p>\n",
       "\n",
       "            <dl>\n",
       "              <dt>Version</dt>\n",
       "                <dd><code>v3.2.1</code></dd>\n",
       "              <dt>Master</dt>\n",
       "                <dd><code>spark://spark-master:7077</code></dd>\n",
       "              <dt>AppName</dt>\n",
       "                <dd><code>Ecommerce</code></dd>\n",
       "            </dl>\n",
       "        </div>\n",
       "        \n",
       "            </div>\n",
       "        "
      ],
      "text/plain": [
       "<pyspark.sql.session.SparkSession at 0x7f64d26894c0>"
      ]
     },
     "execution_count": 1,
     "metadata": {},
     "output_type": "execute_result"
    }
   ],
   "source": [
    "import pyspark\n",
    "from pyspark.sql import SparkSession\n",
    "from pyspark.conf import SparkConf\n",
    "\n",
    "conf = (SparkConf().set(\"spark.executor.memory\", \"6g\")   #<--- Por executor. Como hay dos instancias, la mitad por executor.\n",
    "                    .set(\"spark.executor.cores\", \"3\")    #<--- Por cada executor. Como hay 4, 4*3=12 cores se usan.\n",
    "                    .set(\"spark.executor.instances\", \"2\")\n",
    "                    .set(\"spark.eventLog.enabled\", \"true\"))\n",
    "spark = SparkSession.builder.master(\"spark://spark-master:7077\").appName(\"Ecommerce\").config(conf=conf).getOrCreate()\n",
    "spark"
   ]
  },
  {
   "cell_type": "code",
   "execution_count": 2,
   "id": "21680333-d2da-4460-b92d-869e172113a5",
   "metadata": {},
   "outputs": [
    {
     "name": "stderr",
     "output_type": "stream",
     "text": [
      "                                                                                \r"
     ]
    },
    {
     "name": "stdout",
     "output_type": "stream",
     "text": [
      "================================================================================ \n",
      "filas -->  20692840 columnas -->  10 \n",
      " ================================================================================\n",
      "+-----------------------+----------------+----------+-------------------+-----------------------+-------+-----+---------+------------------------------------+----------+\n",
      "|event_time             |event_type      |product_id|category_id        |category_code          |brand  |price|user_id  |user_session                        |proc      |\n",
      "+-----------------------+----------------+----------+-------------------+-----------------------+-------+-----+---------+------------------------------------+----------+\n",
      "|2019-11-22 00:00:02 UTC|cart            |5857266   |1487580005134238553|null                   |runail |2.27 |561121542|376106e6-33ae-49a4-8648-e0933ba41c61|2019-11-22|\n",
      "|2019-11-22 00:00:03 UTC|view            |5877790   |1487580009286598681|null                   |null   |0.43 |574675993|44652247-75d9-47f6-a9b1-b690a799f66d|2019-11-22|\n",
      "|2019-11-22 00:00:07 UTC|cart            |5857276   |1487580005134238553|null                   |runail |2.22 |561121542|376106e6-33ae-49a4-8648-e0933ba41c61|2019-11-22|\n",
      "|2019-11-22 00:00:16 UTC|cart            |5877790   |1487580009286598681|null                   |null   |0.43 |574675993|44652247-75d9-47f6-a9b1-b690a799f66d|2019-11-22|\n",
      "|2019-11-22 00:00:17 UTC|view            |5809910   |1602943681873052386|null                   |grattol|4.86 |478933643|070450be-93ff-4206-82e4-85ce03989bfc|2019-11-22|\n",
      "|2019-11-22 00:00:21 UTC|purchase        |5587750   |1487580006317032337|null                   |irisk  |1.71 |523897429|cd7f8970-298f-e8cd-538e-6fb4430cffe5|2019-11-22|\n",
      "|2019-11-22 00:00:21 UTC|view            |5724669   |1487580005427839846|null                   |irisk  |2.48 |574677088|ef211399-9ae0-488b-a8e5-ac9bab622f11|2019-11-22|\n",
      "|2019-11-22 00:00:21 UTC|purchase        |5687124   |1487580008187692007|null                   |null   |2.7  |523897429|cd7f8970-298f-e8cd-538e-6fb4430cffe5|2019-11-22|\n",
      "|2019-11-22 00:00:21 UTC|view            |5769923   |1487580013841613016|null                   |kapous |3.37 |574677090|e4eb46d6-2eb1-41c1-be62-c96e2ff84f49|2019-11-22|\n",
      "|2019-11-22 00:00:21 UTC|purchase        |5762161   |1487580009362096156|null                   |null   |0.84 |523897429|cd7f8970-298f-e8cd-538e-6fb4430cffe5|2019-11-22|\n",
      "|2019-11-22 00:00:21 UTC|purchase        |5814042   |1783999063314661546|null                   |grattol|9.29 |523897429|cd7f8970-298f-e8cd-538e-6fb4430cffe5|2019-11-22|\n",
      "|2019-11-22 00:00:21 UTC|purchase        |5815666   |1487580006317032337|null                   |null   |0.62 |523897429|cd7f8970-298f-e8cd-538e-6fb4430cffe5|2019-11-22|\n",
      "|2019-11-22 00:00:21 UTC|purchase        |5843836   |1487580009286598681|null                   |null   |0.35 |523897429|cd7f8970-298f-e8cd-538e-6fb4430cffe5|2019-11-22|\n",
      "|2019-11-22 00:00:21 UTC|purchase        |5877391   |1487580005671109489|null                   |masura |1.6  |523897429|cd7f8970-298f-e8cd-538e-6fb4430cffe5|2019-11-22|\n",
      "|2019-11-22 00:00:22 UTC|view            |5816170   |1602943681873052386|null                   |grattol|4.97 |526798531|785c9e88-dcac-4044-96bf-396639b43da4|2019-11-22|\n",
      "|2019-11-22 00:00:25 UTC|view            |11038     |1487580010100293687|null                   |entity |2.68 |574677101|4cd8a32b-3105-492e-bdae-38c40241dbef|2019-11-22|\n",
      "|2019-11-22 00:00:26 UTC|remove_from_cart|5856250   |1658462125284131265|null                   |uskusi |4.14 |561121542|376106e6-33ae-49a4-8648-e0933ba41c61|2019-11-22|\n",
      "|2019-11-22 00:00:26 UTC|cart            |5746846   |2193074740686488401|furniture.bathroom.bath|irisk  |50.06|552550742|0c449ce3-bac2-43db-b2c1-84f1b4f9bd7b|2019-11-22|\n",
      "|2019-11-22 00:00:41 UTC|cart            |5746974   |2193074740686488401|furniture.bathroom.bath|irisk  |47.43|552550742|0c449ce3-bac2-43db-b2c1-84f1b4f9bd7b|2019-11-22|\n",
      "|2019-11-22 00:00:44 UTC|view            |5585154   |1487580006979732399|null                   |bluesky|3.95 |574677138|aacf9643-6067-493f-9ea9-558edd34b444|2019-11-22|\n",
      "+-----------------------+----------------+----------+-------------------+-----------------------+-------+-----+---------+------------------------------------+----------+\n",
      "only showing top 20 rows\n",
      "\n",
      "CPU times: user 11.7 ms, sys: 1.98 ms, total: 13.6 ms\n",
      "Wall time: 7.33 s\n"
     ]
    }
   ],
   "source": [
    "%%time\n",
    "from pyspark.sql.types import StructType\n",
    "from pyspark.sql.types import StringType,BooleanType,DateType,IntegerType\n",
    "from pyspark.sql.functions import substring\n",
    "import pyspark.sql.functions as F\n",
    "\n",
    "proc='*'\n",
    "\n",
    "df = spark.read.option(\"mergeSchema\", True).option(\"basePath\", \"file:///opt/workspace/datos/ecommerce/ecommerce.parquet/\")\\\n",
    "               .format(\"parquet\").load(['./datos/ecommerce/ecommerce.parquet/proc='+proc])\n",
    "\n",
    "# shape:\n",
    "print(80*'=','\\nfilas --> ', df.count(), 'columnas --> ', len(df.columns), '\\n', 80*'=')\n",
    "df.show(truncate=False)\n",
    "\n",
    "#df = df.withColumn(\"proc\", substring(\"ctId\",1,6))\n",
    "#df.write.mode(\"append\").partitionBy(\"proc\").parquet(\"./datos/fakeContracts01.parquet\")"
   ]
  },
  {
   "cell_type": "code",
   "execution_count": 3,
   "id": "c76b87f0-573f-4196-94a3-f13132f23327",
   "metadata": {},
   "outputs": [
    {
     "name": "stdout",
     "output_type": "stream",
     "text": [
      "root\n",
      " |-- event_time: string (nullable = true)\n",
      " |-- event_type: string (nullable = true)\n",
      " |-- product_id: integer (nullable = true)\n",
      " |-- category_id: long (nullable = true)\n",
      " |-- category_code: string (nullable = true)\n",
      " |-- brand: string (nullable = true)\n",
      " |-- price: double (nullable = true)\n",
      " |-- user_id: integer (nullable = true)\n",
      " |-- user_session: string (nullable = true)\n",
      " |-- proc: date (nullable = true)\n",
      "\n"
     ]
    }
   ],
   "source": [
    "df.printSchema()"
   ]
  },
  {
   "cell_type": "markdown",
   "id": "3118674c-55dc-4c97-8908-be18f1be97ec",
   "metadata": {},
   "source": [
    "### Damos un vistazo rápido al contenido del archivo"
   ]
  },
  {
   "cell_type": "code",
   "execution_count": 4,
   "id": "ef83038b-72f5-4c05-a248-4590e6e51ff2",
   "metadata": {},
   "outputs": [
    {
     "name": "stderr",
     "output_type": "stream",
     "text": [
      "[Stage 6:====================================================>    (11 + 1) / 12]\r"
     ]
    },
    {
     "name": "stdout",
     "output_type": "stream",
     "text": [
      "+-------+--------------------+----------+------------------+--------------------+-------------------+--------+-----------------+-------------------+--------------------+\n",
      "|summary|          event_time|event_type|        product_id|         category_id|      category_code|   brand|            price|            user_id|        user_session|\n",
      "+-------+--------------------+----------+------------------+--------------------+-------------------+--------+-----------------+-------------------+--------------------+\n",
      "|  count|            20692840|  20692840|          20692840|            20692840|             353594|11935723|         20692840|           20692840|            20688242|\n",
      "|   mean|                null|      null| 5484296.739534883|1.554230182681876...|               null|    null|8.534735480476865|5.215526635599699E8|                null|\n",
      "| stddev|                null|      null|1305715.7311086198|1.691037849175161...|               null|    null|19.38142460687468|8.744312150200894E7|                null|\n",
      "|    min|2019-10-01 00:00:...|      cart|              3752| 1487580004807082827|    accessories.bag|airnails|           -79.37|             465496|0000061d-f3e9-484...|\n",
      "|    max|2020-02-29 23:59:...|      view|           5932595| 2242903426784559183|stationery.cartrige|  zinger|           327.78|          622090237|fffffc08-81e3-405...|\n",
      "+-------+--------------------+----------+------------------+--------------------+-------------------+--------+-----------------+-------------------+--------------------+\n",
      "\n"
     ]
    },
    {
     "name": "stderr",
     "output_type": "stream",
     "text": [
      "                                                                                \r"
     ]
    }
   ],
   "source": [
    "df.describe().show()"
   ]
  },
  {
   "cell_type": "code",
   "execution_count": 5,
   "id": "beb0af65-aef1-45ef-8384-d26977fc44dc",
   "metadata": {},
   "outputs": [
    {
     "name": "stderr",
     "output_type": "stream",
     "text": [
      "                                                                                \r"
     ]
    },
    {
     "name": "stdout",
     "output_type": "stream",
     "text": [
      "+--------------------+-----+\n",
      "|          event_time|count|\n",
      "+--------------------+-----+\n",
      "|2019-11-22 00:05:...|    1|\n",
      "|2019-11-22 00:08:...|    2|\n",
      "|2019-11-22 00:10:...|    1|\n",
      "|2019-11-22 00:12:...|    1|\n",
      "|2019-11-22 00:37:...|    1|\n",
      "|2019-11-22 01:04:...|    2|\n",
      "|2019-11-22 01:23:...|    1|\n",
      "|2019-11-22 01:23:...|    1|\n",
      "|2019-11-22 01:24:...|    2|\n",
      "|2019-11-22 02:17:...|    1|\n",
      "|2019-11-22 02:30:...|    2|\n",
      "|2019-11-22 02:31:...|    2|\n",
      "|2019-11-22 02:36:...|    1|\n",
      "|2019-11-22 02:42:...|    1|\n",
      "|2019-11-22 02:52:...|    1|\n",
      "|2019-11-22 02:54:...|    1|\n",
      "|2019-11-22 02:55:...|    1|\n",
      "|2019-11-22 02:55:...|    1|\n",
      "|2019-11-22 03:03:...|    1|\n",
      "|2019-11-22 03:11:...|    1|\n",
      "+--------------------+-----+\n",
      "only showing top 20 rows\n",
      "\n",
      "+----------------+-------+\n",
      "|      event_type|  count|\n",
      "+----------------+-------+\n",
      "|        purchase|1287007|\n",
      "|            view|9657821|\n",
      "|            cart|5768333|\n",
      "|remove_from_cart|3979679|\n",
      "+----------------+-------+\n",
      "\n"
     ]
    },
    {
     "name": "stderr",
     "output_type": "stream",
     "text": [
      "                                                                                \r"
     ]
    },
    {
     "name": "stdout",
     "output_type": "stream",
     "text": [
      "+----------+-----+\n",
      "|product_id|count|\n",
      "+----------+-----+\n",
      "|   5859412| 3365|\n",
      "|   5870198|   65|\n",
      "|   5652853|  448|\n",
      "|   5898955|  144|\n",
      "|   5809871|11584|\n",
      "|   5670001| 2969|\n",
      "|   5744098| 1233|\n",
      "|   5670719|  549|\n",
      "|   5762876|  105|\n",
      "|   5742957| 6968|\n",
      "|   5826669|  465|\n",
      "|   5876926| 2891|\n",
      "|   5657304|  743|\n",
      "|   5866963| 1244|\n",
      "|   5847579|  485|\n",
      "|   5814540|  333|\n",
      "|   5809880| 2374|\n",
      "|   5902148| 2465|\n",
      "|   5767927| 2398|\n",
      "|   5723483|  408|\n",
      "+----------+-----+\n",
      "only showing top 20 rows\n",
      "\n"
     ]
    },
    {
     "name": "stderr",
     "output_type": "stream",
     "text": [
      "                                                                                \r"
     ]
    },
    {
     "name": "stdout",
     "output_type": "stream",
     "text": [
      "+-------------------+------+\n",
      "|        category_id| count|\n",
      "+-------------------+------+\n",
      "|1487580008145748965|277540|\n",
      "|1487580011677352062| 38218|\n",
      "|2145935122136826354|  2194|\n",
      "|1998040852064109417|  9221|\n",
      "|1487580007004898224|  1128|\n",
      "|2193074740686488401| 10004|\n",
      "|1487580005293622112|  3559|\n",
      "|1924049287554007223|   821|\n",
      "|1487580007575323592| 64188|\n",
      "|2055161088059638328| 32175|\n",
      "|2196456817758831535|  4131|\n",
      "|1487580009362096156| 37652|\n",
      "|2130081478220972046|  4101|\n",
      "|1542195323827388674| 48558|\n",
      "|1783999068867920626| 36352|\n",
      "|1487580005411062629|108440|\n",
      "|1487580005595612013|789465|\n",
      "|1487580013900333275|  6938|\n",
      "|1487580012482658454|    74|\n",
      "|1487580008070251489|  5384|\n",
      "+-------------------+------+\n",
      "only showing top 20 rows\n",
      "\n"
     ]
    },
    {
     "name": "stderr",
     "output_type": "stream",
     "text": [
      "                                                                                \r"
     ]
    },
    {
     "name": "stdout",
     "output_type": "stream",
     "text": [
      "+--------------------+--------+\n",
      "|       category_code|   count|\n",
      "+--------------------+--------+\n",
      "|furniture.living_...|   30560|\n",
      "| stationery.cartrige|   59728|\n",
      "|                null|20339246|\n",
      "|furniture.bathroo...|   23931|\n",
      "|     accessories.bag|   24253|\n",
      "|appliances.person...|    5384|\n",
      "|appliances.enviro...|     708|\n",
      "|        sport.diving|       4|\n",
      "|appliances.enviro...|  149168|\n",
      "|furniture.living_...|     343|\n",
      "|accessories.cosme...|    3644|\n",
      "|       apparel.glove|   52575|\n",
      "|appliances.person...|    3296|\n",
      "+--------------------+--------+\n",
      "\n"
     ]
    },
    {
     "name": "stderr",
     "output_type": "stream",
     "text": [
      "                                                                                \r"
     ]
    },
    {
     "name": "stdout",
     "output_type": "stream",
     "text": [
      "+------------+------+\n",
      "|       brand| count|\n",
      "+------------+------+\n",
      "|     beautix| 99456|\n",
      "|     farmona|  7903|\n",
      "|  dr.gloderm|  2162|\n",
      "|   profhenna|  7193|\n",
      "|    bioderma|   567|\n",
      "|     philips|   178|\n",
      "|       riche|  3260|\n",
      "|        nova|    14|\n",
      "|        oniq|116305|\n",
      "|    lebelage|  4338|\n",
      "|     vilenta|  4956|\n",
      "|       fancy|  1531|\n",
      "|      jaguar|  9135|\n",
      "|    siberina| 12936|\n",
      "|      tertio|  7807|\n",
      "|   koreatida|   752|\n",
      "|         jas| 27025|\n",
      "|rocknailstar|   141|\n",
      "|   depilflax| 28474|\n",
      "|protokeratin|  3443|\n",
      "+------------+------+\n",
      "only showing top 20 rows\n",
      "\n"
     ]
    },
    {
     "name": "stderr",
     "output_type": "stream",
     "text": [
      "                                                                                \r"
     ]
    },
    {
     "name": "stdout",
     "output_type": "stream",
     "text": [
      "+------+------+\n",
      "| price| count|\n",
      "+------+------+\n",
      "|  2.86|211583|\n",
      "|  13.4|    26|\n",
      "| 12.32|   713|\n",
      "| 10.65|   131|\n",
      "| 19.98|   516|\n",
      "|  9.13|  3111|\n",
      "|  8.51|  1664|\n",
      "| 45.43|   105|\n",
      "| 17.56|  1163|\n",
      "| 41.89|    60|\n",
      "| 17.52|    24|\n",
      "| 17.95|    48|\n",
      "|  14.9|    29|\n",
      "|  26.7|   312|\n",
      "| 43.03|   116|\n",
      "|  15.4| 10618|\n",
      "| 83.17|    54|\n",
      "|  5.86|  7249|\n",
      "|150.79|  3788|\n",
      "|109.19|     4|\n",
      "+------+------+\n",
      "only showing top 20 rows\n",
      "\n"
     ]
    },
    {
     "name": "stderr",
     "output_type": "stream",
     "text": [
      "                                                                                \r"
     ]
    },
    {
     "name": "stdout",
     "output_type": "stream",
     "text": [
      "+---------+-----+\n",
      "|  user_id|count|\n",
      "+---------+-----+\n",
      "|462343203|   21|\n",
      "|601744209|    1|\n",
      "|601754612|    1|\n",
      "|600902838|    2|\n",
      "|598306470|  141|\n",
      "|518313134|   75|\n",
      "|601764740|    1|\n",
      "|601766788|    1|\n",
      "|477202275|   35|\n",
      "|495134205|  826|\n",
      "|479913443|  370|\n",
      "|588164824|  268|\n",
      "|601711237|    7|\n",
      "|601780212|    1|\n",
      "|601782928|    5|\n",
      "|573815583|    1|\n",
      "|561656117|  117|\n",
      "|592746957|    7|\n",
      "|595624197|    2|\n",
      "|596236891|   39|\n",
      "+---------+-----+\n",
      "only showing top 20 rows\n",
      "\n"
     ]
    },
    {
     "name": "stderr",
     "output_type": "stream",
     "text": [
      "                                                                                \r"
     ]
    },
    {
     "name": "stdout",
     "output_type": "stream",
     "text": [
      "+--------------------+-----+\n",
      "|        user_session|count|\n",
      "+--------------------+-----+\n",
      "|d44ab980-5a1c-4f0...|    1|\n",
      "|1565ef5e-c4e5-43a...|    2|\n",
      "|387a08b9-0a8d-4c3...|    1|\n",
      "|12a41d5f-c61b-4e5...|    1|\n",
      "|717d173e-a98c-488...|   78|\n",
      "|a809ce54-6f79-450...|    1|\n",
      "|c404afb3-fc22-4d2...|    1|\n",
      "|684c9489-19ed-412...|    1|\n",
      "|7b200413-f13e-43f...|    6|\n",
      "|97ee0d24-72a5-4c4...|    1|\n",
      "|41525fc3-d50b-414...|   16|\n",
      "|7b19c3b0-6cde-41e...|    1|\n",
      "|a80dd2dd-1f56-411...|    1|\n",
      "|1e84dae5-5af9-4d9...|    1|\n",
      "|a18301d7-2122-495...|    2|\n",
      "|7536d637-fc7c-4f8...|    2|\n",
      "|a481a6eb-60d9-4cc...|    1|\n",
      "|8c632e1e-447a-472...|    1|\n",
      "|ffa04015-897b-4b3...|    2|\n",
      "|4a72db04-a67b-423...|    1|\n",
      "+--------------------+-----+\n",
      "only showing top 20 rows\n",
      "\n",
      "+----------+------+\n",
      "|      proc| count|\n",
      "+----------+------+\n",
      "|2020-02-04|159671|\n",
      "|2020-02-12|163754|\n",
      "|2020-02-25|157952|\n",
      "|2020-01-13|160363|\n",
      "|2020-01-28|184379|\n",
      "|2020-02-10|158514|\n",
      "|2020-02-05|160977|\n",
      "|2020-01-15|157848|\n",
      "|2020-02-17|154544|\n",
      "|2020-02-02|156196|\n",
      "|2019-11-07|190194|\n",
      "|2020-01-14|163808|\n",
      "|2019-10-01|142414|\n",
      "|2019-12-04|137253|\n",
      "|2019-10-22|136370|\n",
      "|2019-11-13|139665|\n",
      "|2020-01-11|130337|\n",
      "|2020-02-20|131305|\n",
      "|2020-02-24|142914|\n",
      "|2019-12-17|130639|\n",
      "+----------+------+\n",
      "only showing top 20 rows\n",
      "\n",
      "CPU times: user 42.2 ms, sys: 413 µs, total: 42.6 ms\n",
      "Wall time: 12.1 s\n"
     ]
    }
   ],
   "source": [
    "%%time\n",
    "for c in df.columns:df.groupBy(c).count().show()"
   ]
  },
  {
   "cell_type": "markdown",
   "id": "99fc8ddf-a75d-4323-8c43-afc603c3ee53",
   "metadata": {},
   "source": [
    "### Más pruebas"
   ]
  },
  {
   "cell_type": "code",
   "execution_count": 6,
   "id": "88c978c9-2bdb-45c4-adec-e06a2ef84416",
   "metadata": {},
   "outputs": [
    {
     "name": "stderr",
     "output_type": "stream",
     "text": [
      "[Stage 39:==============================================>         (10 + 2) / 12]\r"
     ]
    },
    {
     "name": "stdout",
     "output_type": "stream",
     "text": [
      "+--------------------+----------------+----------+-------------------+-------------+------+------+---------+--------------------+----------+\n",
      "|          event_time|      event_type|product_id|        category_id|category_code| brand| price|  user_id|        user_session|      proc|\n",
      "+--------------------+----------------+----------+-------------------+-------------+------+------+---------+--------------------+----------+\n",
      "|2020-02-16 20:49:...|            view|   5906221|1487580006300255120|         null|strong|327.78|606488825|07fbd8c7-fc97-466...|2020-02-16|\n",
      "|2020-02-08 18:17:...|            view|   5906221|1487580006300255120|         null|strong|327.78|606865876|d52d3c1b-8248-4f6...|2020-02-08|\n",
      "|2020-02-16 20:50:...|            view|   5906221|1487580006300255120|         null|strong|327.78|606488825|07fbd8c7-fc97-466...|2020-02-16|\n",
      "|2020-02-16 16:29:...|            view|   5906221|1487580006300255120|         null|strong|327.78|615886831|8a96b370-b5f8-4f6...|2020-02-16|\n",
      "|2020-02-08 17:05:...|remove_from_cart|   5906221|1487580006300255120|         null|strong|327.78|612149131|0cf886f3-1de7-462...|2020-02-08|\n",
      "|2020-02-08 18:14:...|remove_from_cart|   5906221|1487580006300255120|         null|strong|327.78|604875768|89513338-62c0-4cd...|2020-02-08|\n",
      "|2020-02-08 17:16:...|            view|   5906221|1487580006300255120|         null|strong|327.78|610327041|8a70ec89-41f3-473...|2020-02-08|\n",
      "|2020-02-16 17:31:...|            view|   5906221|1487580006300255120|         null|strong|327.78|585971678|748a7e12-d45e-4e3...|2020-02-16|\n",
      "|2020-02-08 17:18:...|            cart|   5906221|1487580006300255120|         null|strong|327.78|610327041|8a70ec89-41f3-473...|2020-02-08|\n",
      "|2020-02-08 16:38:...|            view|   5906221|1487580006300255120|         null|strong|327.78|600729674|d3d04e2b-55b0-430...|2020-02-08|\n",
      "|2020-02-08 17:18:...|            view|   5906221|1487580006300255120|         null|strong|327.78|610327041|8a70ec89-41f3-473...|2020-02-08|\n",
      "|2020-02-08 17:03:...|            cart|   5906221|1487580006300255120|         null|strong|327.78|612149131|0cf886f3-1de7-462...|2020-02-08|\n",
      "|2020-02-08 18:07:...|            cart|   5906221|1487580006300255120|         null|strong|327.78|606865876|3936652d-98fa-4a1...|2020-02-08|\n",
      "|2020-02-08 17:03:...|            cart|   5906221|1487580006300255120|         null|strong|327.78|612149131|0cf886f3-1de7-462...|2020-02-08|\n",
      "|2020-02-08 18:12:...|            cart|   5906221|1487580006300255120|         null|strong|327.78|604875768|89513338-62c0-4cd...|2020-02-08|\n",
      "|2020-02-16 14:33:...|            view|   5906221|1487580006300255120|         null|strong|327.78|615821477|ed456bf6-51f9-423...|2020-02-16|\n",
      "|2020-02-08 18:12:...|            view|   5906221|1487580006300255120|         null|strong|327.78|604875768|89513338-62c0-4cd...|2020-02-08|\n",
      "|2020-02-08 16:41:...|            view|   5906221|1487580006300255120|         null|strong|327.78|466401985|8d1e26f3-aa72-493...|2020-02-08|\n",
      "|2020-02-08 18:14:...|remove_from_cart|   5906221|1487580006300255120|         null|strong|327.78|604875768|89513338-62c0-4cd...|2020-02-08|\n",
      "|2020-02-08 17:03:...|            cart|   5906221|1487580006300255120|         null|strong|327.78|612149131|0cf886f3-1de7-462...|2020-02-08|\n",
      "+--------------------+----------------+----------+-------------------+-------------+------+------+---------+--------------------+----------+\n",
      "only showing top 20 rows\n",
      "\n"
     ]
    },
    {
     "name": "stderr",
     "output_type": "stream",
     "text": [
      "                                                                                \r"
     ]
    }
   ],
   "source": [
    "df.sort(F.col('price').desc()).show()"
   ]
  },
  {
   "cell_type": "code",
   "execution_count": 7,
   "id": "8ccddb1d-5bb4-4d1b-a6f3-b764bb3926ac",
   "metadata": {},
   "outputs": [
    {
     "name": "stdout",
     "output_type": "stream",
     "text": [
      "CPU times: user 2.06 ms, sys: 135 µs, total: 2.2 ms\n",
      "Wall time: 582 ms\n"
     ]
    }
   ],
   "source": [
    "%%time\n",
    "spark.sparkContext.stop()\n"
   ]
  },
  {
   "cell_type": "code",
   "execution_count": null,
   "id": "214fe26b-01b3-481b-a709-9745b95881a2",
   "metadata": {},
   "outputs": [],
   "source": []
  }
 ],
 "metadata": {
  "kernelspec": {
   "display_name": "Python 3 (ipykernel)",
   "language": "python",
   "name": "python3"
  },
  "language_info": {
   "codemirror_mode": {
    "name": "ipython",
    "version": 3
   },
   "file_extension": ".py",
   "mimetype": "text/x-python",
   "name": "python",
   "nbconvert_exporter": "python",
   "pygments_lexer": "ipython3",
   "version": "3.9.2"
  }
 },
 "nbformat": 4,
 "nbformat_minor": 5
}
