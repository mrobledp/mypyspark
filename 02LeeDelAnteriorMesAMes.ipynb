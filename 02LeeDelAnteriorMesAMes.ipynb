{
 "cells": [
  {
   "cell_type": "markdown",
   "id": "029ee3d9-45d2-4575-a0b4-0f524844509c",
   "metadata": {},
   "source": [
    "# Lee un año de datos a ver cómo se hace más rápido"
   ]
  },
  {
   "cell_type": "code",
   "execution_count": 1,
   "id": "9809d572-83ea-498d-961c-b08593e7a424",
   "metadata": {},
   "outputs": [
    {
     "name": "stderr",
     "output_type": "stream",
     "text": [
      "Using Spark's default log4j profile: org/apache/spark/log4j-defaults.properties\n",
      "Setting default log level to \"WARN\".\n",
      "To adjust logging level use sc.setLogLevel(newLevel). For SparkR, use setLogLevel(newLevel).\n",
      "22/11/29 17:36:28 WARN NativeCodeLoader: Unable to load native-hadoop library for your platform... using builtin-java classes where applicable\n"
     ]
    },
    {
     "data": {
      "text/html": [
       "\n",
       "            <div>\n",
       "                <p><b>SparkSession - in-memory</b></p>\n",
       "                \n",
       "        <div>\n",
       "            <p><b>SparkContext</b></p>\n",
       "\n",
       "            <p><a href=\"http://72fab332bdf6:4040\">Spark UI</a></p>\n",
       "\n",
       "            <dl>\n",
       "              <dt>Version</dt>\n",
       "                <dd><code>v3.2.1</code></dd>\n",
       "              <dt>Master</dt>\n",
       "                <dd><code>spark://spark-master:7077</code></dd>\n",
       "              <dt>AppName</dt>\n",
       "                <dd><code>ReadParquetYearMon16MM</code></dd>\n",
       "            </dl>\n",
       "        </div>\n",
       "        \n",
       "            </div>\n",
       "        "
      ],
      "text/plain": [
       "<pyspark.sql.session.SparkSession at 0x7f9f644fc580>"
      ]
     },
     "execution_count": 1,
     "metadata": {},
     "output_type": "execute_result"
    }
   ],
   "source": [
    "### Probando con datos\n",
    "import pyspark\n",
    "from pyspark.sql import SparkSession\n",
    "from pyspark.conf import SparkConf\n",
    "\n",
    "conf = (SparkConf().set(\"spark.executor.memory\", \"6g\")   #<--- Por executor. Como hay dos instancias, la mitad por executor.\n",
    "                    .set(\"spark.executor.cores\", \"3\")    #<--- Por cada executor. Como hay 4, 4*3=12 cores se usan.\n",
    "                    .set(\"spark.executor.instances\", \"2\")\n",
    "                    .set(\"spark.eventLog.enabled\", \"true\"))\n",
    "spark = SparkSession.builder.master(\"spark://spark-master:7077\").appName(\"ReadParquetYearMon16MM\").config(conf=conf).getOrCreate()\n",
    "spark"
   ]
  },
  {
   "cell_type": "code",
   "execution_count": 2,
   "id": "821c805d-ae05-4e05-8144-dde6d1ed4bf9",
   "metadata": {},
   "outputs": [
    {
     "name": "stdout",
     "output_type": "stream",
     "text": [
      "Inicio: Tue Nov 29 17:36:31 2022\n"
     ]
    }
   ],
   "source": [
    "import time\n",
    "print ('Inicio: '+time.strftime(\"%c\"))\n",
    "inicio = time.perf_counter()"
   ]
  },
  {
   "cell_type": "code",
   "execution_count": 3,
   "id": "21680333-d2da-4460-b92d-869e172113a5",
   "metadata": {},
   "outputs": [
    {
     "name": "stdout",
     "output_type": "stream",
     "text": [
      "====================================================================================================================================\n",
      "Tratando partición yearMon=193*\n"
     ]
    },
    {
     "name": "stderr",
     "output_type": "stream",
     "text": [
      "                                                                                \r"
     ]
    },
    {
     "name": "stdout",
     "output_type": "stream",
     "text": [
      "96397918\n",
      "Final partición: Tue Nov 29 17:37:58 2022\n",
      "Hecho en 86.8622 segundo(s)\n",
      "====================================================================================================================================\n",
      "Tratando partición yearMon=194*\n"
     ]
    },
    {
     "name": "stderr",
     "output_type": "stream",
     "text": [
      "                                                                                \r"
     ]
    },
    {
     "name": "stdout",
     "output_type": "stream",
     "text": [
      "96371754\n",
      "Final partición: Tue Nov 29 17:38:53 2022\n",
      "Hecho en 54.9161 segundo(s)\n",
      "====================================================================================================================================\n",
      "Tratando partición yearMon=195*\n"
     ]
    },
    {
     "name": "stderr",
     "output_type": "stream",
     "text": [
      "                                                                                \r"
     ]
    },
    {
     "name": "stdout",
     "output_type": "stream",
     "text": [
      "96384479\n",
      "Final partición: Tue Nov 29 17:39:44 2022\n",
      "Hecho en 51.8633 segundo(s)\n",
      "====================================================================================================================================\n",
      "Tratando partición yearMon=196*\n"
     ]
    },
    {
     "name": "stderr",
     "output_type": "stream",
     "text": [
      "                                                                                \r"
     ]
    },
    {
     "name": "stdout",
     "output_type": "stream",
     "text": [
      "96383619\n",
      "Final partición: Tue Nov 29 17:40:38 2022\n",
      "Hecho en 53.2218 segundo(s)\n",
      "====================================================================================================================================\n",
      "Tratando partición yearMon=197*\n"
     ]
    },
    {
     "name": "stderr",
     "output_type": "stream",
     "text": [
      "                                                                                \r"
     ]
    },
    {
     "name": "stdout",
     "output_type": "stream",
     "text": [
      "92772373\n",
      "Final partición: Tue Nov 29 17:41:28 2022\n",
      "Hecho en 49.9723 segundo(s)\n",
      "====================================================================================================================================\n",
      "Tratando partición yearMon=198*\n"
     ]
    },
    {
     "name": "stderr",
     "output_type": "stream",
     "text": [
      "                                                                                \r"
     ]
    },
    {
     "name": "stdout",
     "output_type": "stream",
     "text": [
      "89170618\n",
      "Final partición: Tue Nov 29 17:42:20 2022\n",
      "Hecho en 52.1967 segundo(s)\n",
      "====================================================================================================================================\n",
      "Tratando partición yearMon=199*\n"
     ]
    },
    {
     "name": "stderr",
     "output_type": "stream",
     "text": [
      "                                                                                \r"
     ]
    },
    {
     "name": "stdout",
     "output_type": "stream",
     "text": [
      "89153355\n",
      "Final partición: Tue Nov 29 17:43:09 2022\n",
      "Hecho en 49.5377 segundo(s)\n",
      "====================================================================================================================================\n",
      "Tratando partición yearMon=200*\n"
     ]
    },
    {
     "name": "stderr",
     "output_type": "stream",
     "text": [
      "                                                                                \r"
     ]
    },
    {
     "name": "stdout",
     "output_type": "stream",
     "text": [
      "48488296\n",
      "Final partición: Tue Nov 29 17:43:33 2022\n",
      "Hecho en 23.3418 segundo(s)\n",
      "CPU times: user 276 ms, sys: 38.3 ms, total: 314 ms\n",
      "Wall time: 7min 1s\n"
     ]
    }
   ],
   "source": [
    "%%time\n",
    "from pyspark.sql.types import StructType\n",
    "from pyspark.sql.types import StringType,BooleanType,DateType,IntegerType\n",
    "from pyspark.sql.functions import sum, col, desc\n",
    "\n",
    "esquema = StructType() \\\n",
    "      .add(\"Id\",StringType(),True) \\\n",
    "      .add(\"fecNac\",StringType(),True) \\\n",
    "      .add(\"sex\",StringType(),True) \\\n",
    "      .add(\"ingresos\",IntegerType(),True) \\\n",
    "      .add(\"partido\",StringType(),True) \\\n",
    "      .add(\"edad\",IntegerType(),True) \\\n",
    "      .add(\"mapa\",StringType(),True) \\\n",
    "      .add(\"nombre\",StringType(),True) \\\n",
    "      .add(\"lider\",StringType(),True) \\\n",
    "      .add(\"fechaCreacion\",StringType(),True)\n",
    "\n",
    "\"\"\"\n",
    " * Bucle año/mes\n",
    " \n",
    " 1.- Lee un año mes a mes: lo hace como a menos de un segundo por mes.\n",
    " 2.- Le pongo 10 años\n",
    "\"\"\"\n",
    "total = 0\n",
    "\n",
    "for ano in range(1931, 2005, 10):\n",
    "    for mes in range(1, 2):\n",
    "        if ano == 2004 and mes > 4: break\n",
    "        \n",
    "        if mes > 9: anomes = str(ano)+'-'+str(mes)\n",
    "        else:       anomes = str(ano)+'-0'+str(mes)\n",
    "        \n",
    "        anomes = str(ano)[:-1]+'*'\n",
    "    \n",
    "        print(132*'='+'\\nTratando partición yearMon='+anomes)\n",
    "        inicioP = time.perf_counter()\n",
    "\n",
    "        df = spark.read.option(\"mergeSchema\", True).option(\"schema\", \"esquema\").option(\"basePath\", \"file:///opt/workspace/datos/fakePeopleConPartido.parquet/\")\\\n",
    "                       .format(\"parquet\").load(['./datos/fakePeopleConPartido.parquet/yearMon='+anomes])\n",
    "\n",
    "        ct = df.count()\n",
    "        print(ct)\n",
    "        total = total + ct\n",
    "        print ('Final partición: '+time.strftime(\"%c\"))\n",
    "        final = time.perf_counter()\n",
    "        print(f'Hecho en {round(final - inicioP, 4)} segundo(s)')\n"
   ]
  },
  {
   "cell_type": "code",
   "execution_count": 4,
   "id": "e749d4d7-794f-41f9-bf4e-0ee7419c4c1d",
   "metadata": {},
   "outputs": [
    {
     "name": "stdout",
     "output_type": "stream",
     "text": [
      "Final: Tue Nov 29 17:43:33 2022\n",
      "Hecho en 421.9781 segundo(s)\n",
      "TOTAL de registros leidos 705122412\n"
     ]
    }
   ],
   "source": [
    "print ('Final: '+time.strftime(\"%c\"))\n",
    "final = time.perf_counter()\n",
    "print(f'Hecho en {round(final - inicio, 4)} segundo(s)')\n",
    "\n",
    "print('TOTAL de registros leidos '+str(total))"
   ]
  },
  {
   "cell_type": "code",
   "execution_count": 5,
   "id": "8ccddb1d-5bb4-4d1b-a6f3-b764bb3926ac",
   "metadata": {},
   "outputs": [
    {
     "name": "stdout",
     "output_type": "stream",
     "text": [
      "Sacabao\n"
     ]
    }
   ],
   "source": [
    "spark.sparkContext.stop()\n",
    "print('Sacabao')"
   ]
  },
  {
   "cell_type": "code",
   "execution_count": null,
   "id": "ba7a936e-779c-4381-a4f4-1f521c191fd0",
   "metadata": {},
   "outputs": [],
   "source": []
  }
 ],
 "metadata": {
  "kernelspec": {
   "display_name": "Python 3 (ipykernel)",
   "language": "python",
   "name": "python3"
  },
  "language_info": {
   "codemirror_mode": {
    "name": "ipython",
    "version": 3
   },
   "file_extension": ".py",
   "mimetype": "text/x-python",
   "name": "python",
   "nbconvert_exporter": "python",
   "pygments_lexer": "ipython3",
   "version": "3.9.2"
  }
 },
 "nbformat": 4,
 "nbformat_minor": 5
}
