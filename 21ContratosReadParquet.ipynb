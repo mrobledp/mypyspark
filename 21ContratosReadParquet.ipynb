{
 "cells": [
  {
   "cell_type": "code",
   "execution_count": 1,
   "id": "9809d572-83ea-498d-961c-b08593e7a424",
   "metadata": {},
   "outputs": [
    {
     "name": "stderr",
     "output_type": "stream",
     "text": [
      "Using Spark's default log4j profile: org/apache/spark/log4j-defaults.properties\n",
      "Setting default log level to \"WARN\".\n",
      "To adjust logging level use sc.setLogLevel(newLevel). For SparkR, use setLogLevel(newLevel).\n",
      "22/10/22 10:40:11 WARN NativeCodeLoader: Unable to load native-hadoop library for your platform... using builtin-java classes where applicable\n"
     ]
    },
    {
     "data": {
      "text/html": [
       "\n",
       "            <div>\n",
       "                <p><b>SparkSession - in-memory</b></p>\n",
       "                \n",
       "        <div>\n",
       "            <p><b>SparkContext</b></p>\n",
       "\n",
       "            <p><a href=\"http://f5e53e1e29ed:4040\">Spark UI</a></p>\n",
       "\n",
       "            <dl>\n",
       "              <dt>Version</dt>\n",
       "                <dd><code>v3.2.1</code></dd>\n",
       "              <dt>Master</dt>\n",
       "                <dd><code>spark://spark-master:7077</code></dd>\n",
       "              <dt>AppName</dt>\n",
       "                <dd><code>ContratosReadParquet</code></dd>\n",
       "            </dl>\n",
       "        </div>\n",
       "        \n",
       "            </div>\n",
       "        "
      ],
      "text/plain": [
       "<pyspark.sql.session.SparkSession at 0x7fbafc6036a0>"
      ]
     },
     "execution_count": 1,
     "metadata": {},
     "output_type": "execute_result"
    }
   ],
   "source": [
    "### Probando con datos\n",
    "import pyspark\n",
    "from pyspark.sql import SparkSession\n",
    "from pyspark.conf import SparkConf\n",
    "\n",
    "conf = (SparkConf().set(\"spark.executor.memory\", \"6g\")\n",
    "                    .set(\"spark.executor.cores\", \"3\")\n",
    "                    .set(\"spark.executor.instances\", \"2\")\n",
    "                    .set(\"spark.eventLog.enabled\", \"true\"))\n",
    "spark = SparkSession.builder.master(\"spark://spark-master:7077\").appName(\"ContratosReadParquet\").config(conf=conf).getOrCreate()\n",
    "spark"
   ]
  },
  {
   "cell_type": "code",
   "execution_count": 2,
   "id": "821c805d-ae05-4e05-8144-dde6d1ed4bf9",
   "metadata": {},
   "outputs": [
    {
     "name": "stdout",
     "output_type": "stream",
     "text": [
      "Inicio: Sat Oct 22 10:40:13 2022\n"
     ]
    }
   ],
   "source": [
    "import time\n",
    "print ('Inicio: '+time.strftime(\"%c\"))\n",
    "inicio = time.perf_counter()"
   ]
  },
  {
   "cell_type": "code",
   "execution_count": 3,
   "id": "21680333-d2da-4460-b92d-869e172113a5",
   "metadata": {},
   "outputs": [
    {
     "name": "stderr",
     "output_type": "stream",
     "text": [
      "                                                                                \r"
     ]
    },
    {
     "name": "stdout",
     "output_type": "stream",
     "text": [
      "root\n",
      " |-- ctId: string (nullable = true)\n",
      " |-- fecIni: string (nullable = true)\n",
      " |-- fecFin: string (nullable = true)\n",
      " |-- dato: string (nullable = true)\n",
      " |-- saldo: integer (nullable = true)\n",
      " |-- proc: string (nullable = true)\n",
      "\n"
     ]
    },
    {
     "name": "stderr",
     "output_type": "stream",
     "text": [
      "                                                                                \r"
     ]
    },
    {
     "name": "stdout",
     "output_type": "stream",
     "text": [
      "89262\n",
      "+------------+----------+----------+--------------------+-----+------+\n",
      "|        ctId|    fecIni|    fecFin|                dato|saldo|  proc|\n",
      "+------------+----------+----------+--------------------+-----+------+\n",
      "|CT0015259018|1999-12-28|2020-03-29|Dato del contrato...| 7500|CT0015|\n",
      "|CT0015259018|2020-03-29|2020-04-08|Dato del contrato...|46400|CT0015|\n",
      "|CT0015259018|2020-04-08|2020-05-07|Dato del contrato...|34400|CT0015|\n",
      "|CT0015259018|2020-05-07|2020-06-05|Dato del contrato...|44300|CT0015|\n",
      "|CT0015259018|2020-06-05|2020-07-25|Dato del contrato...| 9500|CT0015|\n",
      "|CT0015259018|2020-07-25|2020-08-18|Dato del contrato...|29700|CT0015|\n",
      "|CT0015259018|2020-08-18|2020-08-18|Dato del contrato...|10200|CT0015|\n",
      "|CT0015259018|2020-08-18|2020-10-01|Dato del contrato...| 2900|CT0015|\n",
      "|CT0015259018|2020-10-01|2020-11-20|Dato del contrato...|12800|CT0015|\n",
      "|CT0015259018|2020-11-20|2020-12-04|Dato del contrato...| 7300|CT0015|\n",
      "|CT0015259018|2020-12-04|2020-12-31|Dato del contrato...| 6400|CT0015|\n",
      "|CT0015259018|2020-12-31|2021-10-03|Dato del contrato...| 8300|CT0015|\n",
      "|CT0015259018|2021-10-03|2021-12-03|Dato del contrato...|70100|CT0015|\n",
      "|CT0015259018|2021-12-03|2021-12-26|Dato del contrato...|50500|CT0015|\n",
      "|CT0015259018|2021-12-26|2222-12-31|Dato del contrato...|50500|CT0015|\n",
      "|CT0015259023|1999-12-28|2020-04-03|Dato del contrato...| 7000|CT0015|\n",
      "|CT0015259023|2020-04-03|2021-05-10|Dato del contrato...| 5000|CT0015|\n",
      "|CT0015259023|2021-05-10|2021-07-03|Dato del contrato...|84300|CT0015|\n",
      "|CT0015259023|2021-07-03|2021-08-01|Dato del contrato...|28600|CT0015|\n",
      "|CT0015259023|2021-08-01|2021-09-26|Dato del contrato...|68400|CT0015|\n",
      "+------------+----------+----------+--------------------+-----+------+\n",
      "only showing top 20 rows\n",
      "\n",
      "== Parsed Logical Plan ==\n",
      "Relation [ctId#0,fecIni#1,fecFin#2,dato#3,saldo#4,proc#5] parquet\n",
      "\n",
      "== Analyzed Logical Plan ==\n",
      "ctId: string, fecIni: string, fecFin: string, dato: string, saldo: int, proc: string\n",
      "Relation [ctId#0,fecIni#1,fecFin#2,dato#3,saldo#4,proc#5] parquet\n",
      "\n",
      "== Optimized Logical Plan ==\n",
      "Relation [ctId#0,fecIni#1,fecFin#2,dato#3,saldo#4,proc#5] parquet\n",
      "\n",
      "== Physical Plan ==\n",
      "*(1) ColumnarToRow\n",
      "+- FileScan parquet [ctId#0,fecIni#1,fecFin#2,dato#3,saldo#4,proc#5] Batched: true, DataFilters: [], Format: Parquet, Location: InMemoryFileIndex(1 paths)[file:/opt/workspace/datos/fakeContracts01.parquet/proc=CT0015], PartitionFilters: [], PushedFilters: [], ReadSchema: struct<ctId:string,fecIni:string,fecFin:string,dato:string,saldo:int>\n",
      "\n",
      "== Optimized Logical Plan ==\n",
      "Relation [ctId#0,fecIni#1,fecFin#2,dato#3,saldo#4,proc#5] parquet, Statistics(sizeInBytes=1133.7 KiB)\n",
      "\n",
      "== Physical Plan ==\n",
      "*(1) ColumnarToRow\n",
      "+- FileScan parquet [ctId#0,fecIni#1,fecFin#2,dato#3,saldo#4,proc#5] Batched: true, DataFilters: [], Format: Parquet, Location: InMemoryFileIndex(1 paths)[file:/opt/workspace/datos/fakeContracts01.parquet/proc=CT0015], PartitionFilters: [], PushedFilters: [], ReadSchema: struct<ctId:string,fecIni:string,fecFin:string,dato:string,saldo:int>\n",
      "\n",
      "\n"
     ]
    }
   ],
   "source": [
    "#spark job monitoring\n",
    "from pyspark.sql.types import StructType\n",
    "from pyspark.sql.types import StringType,BooleanType,DateType,IntegerType\n",
    "from pyspark.sql.functions import sum, col, desc\n",
    "\n",
    "esquema = StructType() \\\n",
    "      .add(\"ctId\",StringType(),True) \\\n",
    "      .add(\"fecIni\",StringType(),True) \\\n",
    "      .add(\"fecFin\",StringType(),True) \\\n",
    "      .add(\"dato\",StringType(),True) \\\n",
    "      .add(\"saldo\",IntegerType(),True)\n",
    "\n",
    "df = spark.read.option(\"mergeSchema\", True).option(\"schema\", \"esquema\").option(\"basePath\", \"file:///opt/workspace/datos/fakeContracts01.parquet/\")\\\n",
    "               .format(\"parquet\").load('./datos/fakeContracts01.parquet/proc=CT0015')\n",
    "\n",
    "df.printSchema()\n",
    "\n",
    "print(df.count())\n",
    "df.show()\n",
    "df.explain(extended=True)\n",
    "df.explain(mode='cost')\n"
   ]
  },
  {
   "cell_type": "code",
   "execution_count": 4,
   "id": "e749d4d7-794f-41f9-bf4e-0ee7419c4c1d",
   "metadata": {},
   "outputs": [
    {
     "name": "stdout",
     "output_type": "stream",
     "text": [
      "Final: Sat Oct 22 10:40:19 2022\n",
      "Hecho en 5.672 segundo(s)\n"
     ]
    }
   ],
   "source": [
    "print ('Final: '+time.strftime(\"%c\"))\n",
    "final = time.perf_counter()\n",
    "print(f'Hecho en {round(final - inicio, 4)} segundo(s)')"
   ]
  },
  {
   "cell_type": "code",
   "execution_count": 5,
   "id": "717a4684-2a98-45a5-b440-597b2d55a6ac",
   "metadata": {
    "tags": []
   },
   "outputs": [
    {
     "name": "stdout",
     "output_type": "stream",
     "text": [
      "Inicio: Sat Oct 22 10:40:19 2022\n"
     ]
    },
    {
     "name": "stderr",
     "output_type": "stream",
     "text": [
      "[Stage 5:=============================>                             (1 + 1) / 2]\r"
     ]
    },
    {
     "name": "stdout",
     "output_type": "stream",
     "text": [
      "+------------+-----+\n",
      "|        ctId|count|\n",
      "+------------+-----+\n",
      "|CT0015315467|   16|\n",
      "|CT0015340728|   16|\n",
      "|CT0015315593|   16|\n",
      "|CT0015274600|   16|\n",
      "|CT0015401039|   16|\n",
      "|CT0015352518|   16|\n",
      "|CT0015288207|   16|\n",
      "|CT0015293055|   16|\n",
      "|CT0015302028|   16|\n",
      "|CT0015268047|   16|\n",
      "|CT0015266338|   16|\n",
      "|CT0015312148|   16|\n",
      "|CT0015279613|   16|\n",
      "|CT0015386678|   16|\n",
      "|CT0015322454|   16|\n",
      "|CT0015325304|   16|\n",
      "|CT0015331087|   16|\n",
      "|CT0015308196|   16|\n",
      "|CT0015349951|   16|\n",
      "|CT0015331711|   16|\n",
      "|CT0015390414|   16|\n",
      "|CT0015277004|   16|\n",
      "|CT0015297577|   16|\n",
      "|CT0015271822|   16|\n",
      "|CT0015290131|   16|\n",
      "|CT0015341614|   16|\n",
      "|CT0015385792|   16|\n",
      "|CT0015326690|   16|\n",
      "|CT0015371294|   16|\n",
      "|CT0015276768|   16|\n",
      "|CT0015340525|   16|\n",
      "|CT0015289273|   16|\n",
      "|CT0015269061|   16|\n",
      "|CT0015343244|   16|\n",
      "|CT0015366952|   16|\n",
      "|CT0015371093|   16|\n",
      "|CT0015369569|   16|\n",
      "|CT0015301970|   16|\n",
      "|CT0015314505|   16|\n",
      "|CT0015322323|   16|\n",
      "|CT0015287194|   16|\n",
      "|CT0015269332|   16|\n",
      "|CT0015312290|   16|\n",
      "|CT0015290739|   16|\n",
      "|CT0015381346|   16|\n",
      "|CT0015339797|   16|\n",
      "|CT0015331043|   16|\n",
      "|CT0015369339|   16|\n",
      "|CT0015288776|   16|\n",
      "|CT0015362363|   16|\n",
      "|CT0015259692|   16|\n",
      "|CT0015338187|   16|\n",
      "|CT0015264089|   16|\n",
      "|CT0015330947|   16|\n",
      "|CT0015389537|   16|\n",
      "|CT0015390822|   16|\n",
      "|CT0015373050|   16|\n",
      "|CT0015379435|   16|\n",
      "|CT0015271604|   16|\n",
      "|CT0015268210|   16|\n",
      "|CT0015288089|   16|\n",
      "|CT0015298361|   16|\n",
      "|CT0015371231|   16|\n",
      "|CT0015384849|   16|\n",
      "|CT0015322127|   16|\n",
      "|CT0015370681|   16|\n",
      "|CT0015267304|   16|\n",
      "|CT0015356008|   16|\n",
      "|CT0015330124|   16|\n",
      "|CT0015328268|   16|\n",
      "|CT0015313931|   16|\n",
      "|CT0015371404|   16|\n",
      "|CT0015343166|   16|\n",
      "|CT0015374528|   16|\n",
      "|CT0015347739|   16|\n",
      "|CT0015400565|   16|\n",
      "|CT0015381511|   16|\n",
      "|CT0015345532|   16|\n",
      "|CT0015260658|   16|\n",
      "|CT0015345473|   16|\n",
      "|CT0015299804|   16|\n",
      "|CT0015267187|   16|\n",
      "|CT0015326722|   16|\n",
      "|CT0015317813|   16|\n",
      "|CT0015342193|   16|\n",
      "|CT0015326105|   16|\n",
      "|CT0015358644|   16|\n",
      "|CT0015369183|   16|\n",
      "|CT0015270051|   16|\n",
      "|CT0015273013|   16|\n",
      "|CT0015355086|   16|\n",
      "|CT0015358020|   16|\n",
      "|CT0015266818|   16|\n",
      "|CT0015367106|   16|\n",
      "|CT0015277332|   16|\n",
      "|CT0015380249|   16|\n",
      "|CT0015310625|   16|\n",
      "|CT0015345850|   16|\n",
      "|CT0015385412|   16|\n",
      "|CT0015373581|   16|\n",
      "|CT0015330888|   16|\n",
      "|CT0015311763|   16|\n",
      "|CT0015341221|   16|\n",
      "|CT0015385440|   16|\n",
      "|CT0015351810|   16|\n",
      "|CT0015321132|   16|\n",
      "|CT0015357710|   16|\n",
      "|CT0015366301|   16|\n",
      "|CT0015295635|   16|\n",
      "|CT0015385707|   16|\n",
      "|CT0015318672|   16|\n",
      "|CT0015283152|   16|\n",
      "|CT0015381774|   16|\n",
      "|CT0015287658|   16|\n",
      "|CT0015304208|   16|\n",
      "|CT0015273139|   16|\n",
      "|CT0015305727|   16|\n",
      "|CT0015364969|   16|\n",
      "|CT0015400358|   16|\n",
      "|CT0015399360|   16|\n",
      "|CT0015268381|   16|\n",
      "|CT0015344189|   16|\n",
      "|CT0015286493|   16|\n",
      "|CT0015369932|   16|\n",
      "|CT0015293808|   16|\n",
      "|CT0015331318|   16|\n",
      "|CT0015273159|   16|\n",
      "|CT0015329681|   16|\n",
      "|CT0015285697|   16|\n",
      "|CT0015323359|   16|\n",
      "|CT0015299750|   16|\n",
      "|CT0015345440|   16|\n",
      "|CT0015299924|   16|\n",
      "|CT0015362960|   16|\n",
      "|CT0015319777|   16|\n",
      "|CT0015395160|   16|\n",
      "|CT0015343432|   16|\n",
      "|CT0015276044|   16|\n",
      "|CT0015359560|   16|\n",
      "|CT0015400793|   16|\n",
      "|CT0015396669|   16|\n",
      "|CT0015293189|   16|\n",
      "|CT0015353791|   16|\n",
      "|CT0015350280|   16|\n",
      "|CT0015280422|   16|\n",
      "|CT0015370422|   16|\n",
      "|CT0015399405|   16|\n",
      "|CT0015379159|   16|\n",
      "|CT0015310768|   16|\n",
      "|CT0015301129|   16|\n",
      "|CT0015293083|   16|\n",
      "|CT0015354713|   16|\n",
      "|CT0015327546|   16|\n",
      "|CT0015368445|   16|\n",
      "|CT0015301073|   16|\n",
      "|CT0015261715|   16|\n",
      "|CT0015291551|   16|\n",
      "|CT0015290640|   16|\n",
      "|CT0015318200|   16|\n",
      "|CT0015270006|   16|\n",
      "|CT0015334696|   16|\n",
      "|CT0015367363|   16|\n",
      "|CT0015331877|   16|\n",
      "|CT0015386000|   16|\n",
      "|CT0015276584|   16|\n",
      "|CT0015273719|   16|\n",
      "|CT0015304768|   16|\n",
      "|CT0015375857|   16|\n",
      "|CT0015401255|   16|\n",
      "|CT0015283230|   16|\n",
      "|CT0015312807|   16|\n",
      "|CT0015261081|   16|\n",
      "|CT0015330322|   16|\n",
      "|CT0015282740|   16|\n",
      "|CT0015290065|   16|\n",
      "|CT0015358550|   16|\n",
      "|CT0015260833|   16|\n",
      "|CT0015268874|   16|\n",
      "|CT0015349982|   16|\n",
      "|CT0015304110|   16|\n",
      "|CT0015328608|   16|\n",
      "|CT0015381038|   16|\n",
      "|CT0015269659|   16|\n",
      "|CT0015259782|   16|\n",
      "|CT0015315740|   16|\n",
      "|CT0015306405|   16|\n",
      "|CT0015380677|   16|\n",
      "|CT0015335949|   16|\n",
      "|CT0015294304|   16|\n",
      "|CT0015367333|   16|\n",
      "|CT0015315966|   16|\n",
      "|CT0015377997|   16|\n",
      "|CT0015322551|   16|\n",
      "|CT0015276519|   16|\n",
      "|CT0015292258|   16|\n",
      "|CT0015291264|   16|\n",
      "|CT0015313323|   16|\n",
      "|CT0015313247|   16|\n",
      "|CT0015346044|   16|\n",
      "|CT0015316324|   16|\n",
      "+------------+-----+\n",
      "only showing top 200 rows\n",
      "\n",
      "Final: Sat Oct 22 10:40:21 2022\n",
      "Hecho en 1.7813 segundo(s)\n"
     ]
    },
    {
     "name": "stderr",
     "output_type": "stream",
     "text": [
      "                                                                                \r"
     ]
    }
   ],
   "source": [
    "print ('Inicio: '+time.strftime(\"%c\"))\n",
    "inicio = time.perf_counter()\n",
    "\n",
    "df.groupBy('ctId').count().sort(desc('count')).show(200)\n",
    "\n",
    "print ('Final: '+time.strftime(\"%c\"))\n",
    "final = time.perf_counter()\n",
    "print(f'Hecho en {round(final - inicio, 4)} segundo(s)')"
   ]
  },
  {
   "cell_type": "code",
   "execution_count": 6,
   "id": "8ccddb1d-5bb4-4d1b-a6f3-b764bb3926ac",
   "metadata": {},
   "outputs": [
    {
     "name": "stdout",
     "output_type": "stream",
     "text": [
      "Sacabao\n"
     ]
    }
   ],
   "source": [
    "spark.sparkContext.stop()\n",
    "print('Sacabao')"
   ]
  },
  {
   "cell_type": "code",
   "execution_count": null,
   "id": "ba7a936e-779c-4381-a4f4-1f521c191fd0",
   "metadata": {},
   "outputs": [],
   "source": []
  }
 ],
 "metadata": {
  "kernelspec": {
   "display_name": "Python 3 (ipykernel)",
   "language": "python",
   "name": "python3"
  },
  "language_info": {
   "codemirror_mode": {
    "name": "ipython",
    "version": 3
   },
   "file_extension": ".py",
   "mimetype": "text/x-python",
   "name": "python",
   "nbconvert_exporter": "python",
   "pygments_lexer": "ipython3",
   "version": "3.9.2"
  }
 },
 "nbformat": 4,
 "nbformat_minor": 5
}
