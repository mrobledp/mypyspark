{
 "cells": [
  {
   "cell_type": "code",
   "execution_count": 1,
   "id": "9809d572-83ea-498d-961c-b08593e7a424",
   "metadata": {},
   "outputs": [
    {
     "name": "stderr",
     "output_type": "stream",
     "text": [
      "Using Spark's default log4j profile: org/apache/spark/log4j-defaults.properties\n",
      "Setting default log level to \"WARN\".\n",
      "To adjust logging level use sc.setLogLevel(newLevel). For SparkR, use setLogLevel(newLevel).\n",
      "22/10/23 12:27:08 WARN NativeCodeLoader: Unable to load native-hadoop library for your platform... using builtin-java classes where applicable\n"
     ]
    },
    {
     "data": {
      "text/html": [
       "\n",
       "            <div>\n",
       "                <p><b>SparkSession - in-memory</b></p>\n",
       "                \n",
       "        <div>\n",
       "            <p><b>SparkContext</b></p>\n",
       "\n",
       "            <p><a href=\"http://b1e605cf4c87:4040\">Spark UI</a></p>\n",
       "\n",
       "            <dl>\n",
       "              <dt>Version</dt>\n",
       "                <dd><code>v3.2.1</code></dd>\n",
       "              <dt>Master</dt>\n",
       "                <dd><code>spark://spark-master:7077</code></dd>\n",
       "              <dt>AppName</dt>\n",
       "                <dd><code>ContratosReadParquet</code></dd>\n",
       "            </dl>\n",
       "        </div>\n",
       "        \n",
       "            </div>\n",
       "        "
      ],
      "text/plain": [
       "<pyspark.sql.session.SparkSession at 0x7fa5983dd460>"
      ]
     },
     "execution_count": 1,
     "metadata": {},
     "output_type": "execute_result"
    }
   ],
   "source": [
    "### Probando con datos\n",
    "import pyspark\n",
    "from pyspark.sql import SparkSession\n",
    "from pyspark.conf import SparkConf\n",
    "\n",
    "conf = (SparkConf().set(\"spark.executor.memory\", \"6g\")\n",
    "                    .set(\"spark.executor.cores\", \"3\")\n",
    "                    .set(\"spark.executor.instances\", \"2\")\n",
    "                    .set(\"spark.eventLog.enabled\", \"true\"))\n",
    "spark = SparkSession.builder.master(\"spark://spark-master:7077\").appName(\"ContratosReadParquet\").config(conf=conf).getOrCreate()\n",
    "spark"
   ]
  },
  {
   "cell_type": "code",
   "execution_count": 2,
   "id": "821c805d-ae05-4e05-8144-dde6d1ed4bf9",
   "metadata": {},
   "outputs": [
    {
     "name": "stdout",
     "output_type": "stream",
     "text": [
      "Inicio: Sun Oct 23 12:27:12 2022\n"
     ]
    }
   ],
   "source": [
    "import time\n",
    "print ('Inicio: '+time.strftime(\"%c\"))\n",
    "inicio = time.perf_counter()"
   ]
  },
  {
   "cell_type": "code",
   "execution_count": null,
   "id": "11ec3fc0-3b3f-4ed7-a734-32149130c22e",
   "metadata": {},
   "outputs": [],
   "source": []
  },
  {
   "cell_type": "code",
   "execution_count": 4,
   "id": "21680333-d2da-4460-b92d-869e172113a5",
   "metadata": {},
   "outputs": [
    {
     "name": "stdout",
     "output_type": "stream",
     "text": [
      "root\n",
      " |-- ctId: string (nullable = true)\n",
      " |-- fecRef: string (nullable = true)\n",
      " |-- dato: string (nullable = true)\n",
      " |-- saldo: integer (nullable = true)\n",
      " |-- proc: string (nullable = true)\n",
      "\n",
      "79928\n",
      "+------------+----------+--------------------+-----+------+\n",
      "|        ctId|    fecRef|                dato|saldo|  proc|\n",
      "+------------+----------+--------------------+-----+------+\n",
      "|CT0015371502|2020-08-31|Dato del contrato...|10800|CT0015|\n",
      "|CT0015371502|2021-04-08|Dato del contrato...| 4700|CT0015|\n",
      "|CT0015371502|2021-03-06|Dato del contrato...| 4200|CT0015|\n",
      "|CT0015371502|2021-06-04|Dato del contrato...|56500|CT0015|\n",
      "|CT0015371502|2020-09-20|Dato del contrato...|34900|CT0015|\n",
      "|CT0015371502|2021-09-28|Dato del contrato...|24100|CT0015|\n",
      "|CT0015371502|2021-08-07|Dato del contrato...|16400|CT0015|\n",
      "|CT0015371516|2021-01-08|Dato del contrato...|79900|CT0015|\n",
      "|CT0015371516|2020-06-23|Dato del contrato...| 4700|CT0015|\n",
      "|CT0015371516|2020-04-26|Dato del contrato...| 5700|CT0015|\n",
      "|CT0015371516|2021-08-07|Dato del contrato...|47100|CT0015|\n",
      "|CT0015371516|2021-11-20|Dato del contrato...|49500|CT0015|\n",
      "|CT0015371516|2021-09-27|Dato del contrato...|49700|CT0015|\n",
      "|CT0015371516|2020-07-23|Dato del contrato...|34500|CT0015|\n",
      "|CT0015371516|2021-09-09|Dato del contrato...|21600|CT0015|\n",
      "|CT0015371516|2020-04-09|Dato del contrato...| 2000|CT0015|\n",
      "|CT0015371534|2021-08-24|Dato del contrato...| 1600|CT0015|\n",
      "|CT0015371534|2021-02-18|Dato del contrato...|50300|CT0015|\n",
      "|CT0015371534|2020-12-11|Dato del contrato...| 4700|CT0015|\n",
      "|CT0015371534|2020-04-24|Dato del contrato...| 5300|CT0015|\n",
      "+------------+----------+--------------------+-----+------+\n",
      "only showing top 20 rows\n",
      "\n",
      "== Parsed Logical Plan ==\n",
      "Relation [ctId#41,fecRef#42,dato#43,saldo#44,proc#45] parquet\n",
      "\n",
      "== Analyzed Logical Plan ==\n",
      "ctId: string, fecRef: string, dato: string, saldo: int, proc: string\n",
      "Relation [ctId#41,fecRef#42,dato#43,saldo#44,proc#45] parquet\n",
      "\n",
      "== Optimized Logical Plan ==\n",
      "Relation [ctId#41,fecRef#42,dato#43,saldo#44,proc#45] parquet\n",
      "\n",
      "== Physical Plan ==\n",
      "*(1) ColumnarToRow\n",
      "+- FileScan parquet [ctId#41,fecRef#42,dato#43,saldo#44,proc#45] Batched: true, DataFilters: [], Format: Parquet, Location: InMemoryFileIndex(1 paths)[file:/opt/workspace/datos/fakeContractsSinFechas.parquet/proc=CT0015], PartitionFilters: [], PushedFilters: [], ReadSchema: struct<ctId:string,fecRef:string,dato:string,saldo:int>\n",
      "\n",
      "== Optimized Logical Plan ==\n",
      "Relation [ctId#41,fecRef#42,dato#43,saldo#44,proc#45] parquet, Statistics(sizeInBytes=1019.5 KiB)\n",
      "\n",
      "== Physical Plan ==\n",
      "*(1) ColumnarToRow\n",
      "+- FileScan parquet [ctId#41,fecRef#42,dato#43,saldo#44,proc#45] Batched: true, DataFilters: [], Format: Parquet, Location: InMemoryFileIndex(1 paths)[file:/opt/workspace/datos/fakeContractsSinFechas.parquet/proc=CT0015], PartitionFilters: [], PushedFilters: [], ReadSchema: struct<ctId:string,fecRef:string,dato:string,saldo:int>\n",
      "\n",
      "\n"
     ]
    }
   ],
   "source": [
    "#spark job monitoring\n",
    "from pyspark.sql.types import StructType\n",
    "from pyspark.sql.types import StringType,BooleanType,DateType,IntegerType\n",
    "from pyspark.sql.functions import sum, col, desc\n",
    "import pyspark.sql.functions as F\n",
    "from pyspark.sql import Window\n",
    "\n",
    "esquema = StructType() \\\n",
    "      .add(\"ctId\",StringType(),True) \\\n",
    "      .add(\"fecRef\",StringType(),True) \\\n",
    "      .add(\"dato\",StringType(),True) \\\n",
    "      .add(\"saldo\",IntegerType(),True) \\\n",
    "      .add(\"proc\",StringType(),True)\n",
    "\n",
    "\n",
    "df = spark.read.option(\"mergeSchema\", True).option(\"schema\", \"esquema\").option(\"basePath\", \"file:///opt/workspace/datos/fakeContractsSinFechas.parquet/\")\\\n",
    "               .format(\"parquet\").load('./datos/fakeContractsSinFechas.parquet/proc=CT0015')\n",
    "\n",
    "df.printSchema()\n",
    "\n",
    "print(df.count())\n",
    "df.show()\n",
    "df.explain(extended=True)\n",
    "df.explain(mode='cost')\n"
   ]
  },
  {
   "cell_type": "code",
   "execution_count": 5,
   "id": "e749d4d7-794f-41f9-bf4e-0ee7419c4c1d",
   "metadata": {},
   "outputs": [
    {
     "name": "stdout",
     "output_type": "stream",
     "text": [
      "Final: Sun Oct 23 12:28:47 2022\n",
      "Hecho en 95.419 segundo(s)\n"
     ]
    }
   ],
   "source": [
    "print ('Final: '+time.strftime(\"%c\"))\n",
    "final = time.perf_counter()\n",
    "print(f'Hecho en {round(final - inicio, 4)} segundo(s)')"
   ]
  },
  {
   "cell_type": "markdown",
   "id": "6908474c-8f7c-4137-966a-79bf4d76b283",
   "metadata": {},
   "source": [
    "## La función Window define una especificación que consiste en agrupar un campo a nivel de registro para todos los registros (que es la diferencia con el Group By)."
   ]
  },
  {
   "cell_type": "code",
   "execution_count": 6,
   "id": "717a4684-2a98-45a5-b440-597b2d55a6ac",
   "metadata": {
    "tags": []
   },
   "outputs": [
    {
     "name": "stdout",
     "output_type": "stream",
     "text": [
      "Inicio: Sun Oct 23 12:29:13 2022\n"
     ]
    },
    {
     "name": "stderr",
     "output_type": "stream",
     "text": [
      "[Stage 10:=============================>                            (4 + 4) / 8]\r"
     ]
    },
    {
     "name": "stdout",
     "output_type": "stream",
     "text": [
      "-RECORD 0-------------------------------------------------------------------------------------------------------------------------------------------------------\n",
      " ctId  | CT0015123497                                                                                                                                           \n",
      " lista | [2021-04-07, 2021-04-27, 2021-12-20, 2021-11-22, 2021-09-03, 2021-07-06, 2021-01-24, 2021-01-16, 2020-08-01, 2020-07-17, 2021-09-22, 2020-06-27, 20... \n",
      "-RECORD 1-------------------------------------------------------------------------------------------------------------------------------------------------------\n",
      " ctId  | CT0015123497                                                                                                                                           \n",
      " lista | [2021-04-07, 2021-04-27, 2021-12-20, 2021-11-22, 2021-09-03, 2021-07-06, 2021-01-24, 2021-01-16, 2020-08-01, 2020-07-17, 2021-09-22, 2020-06-27, 20... \n",
      "-RECORD 2-------------------------------------------------------------------------------------------------------------------------------------------------------\n",
      " ctId  | CT0015123497                                                                                                                                           \n",
      " lista | [2021-04-07, 2021-04-27, 2021-12-20, 2021-11-22, 2021-09-03, 2021-07-06, 2021-01-24, 2021-01-16, 2020-08-01, 2020-07-17, 2021-09-22, 2020-06-27, 20... \n",
      "only showing top 3 rows\n",
      "\n",
      "Final: Sun Oct 23 12:29:15 2022\n",
      "Hecho en 1.8793 segundo(s)\n"
     ]
    },
    {
     "name": "stderr",
     "output_type": "stream",
     "text": [
      "                                                                                \r"
     ]
    }
   ],
   "source": [
    "print ('Inicio: '+time.strftime(\"%c\"))\n",
    "inicio = time.perf_counter()\n",
    "\n",
    "WinSpec = Window.partitionBy('ctId')\n",
    "\n",
    "dfNew = df.withColumn('lista', F.collect_list(F.col('fecRef')).over(WinSpec))\n",
    "dfNew.select('ctId', 'lista').show(3, vertical=True, truncate=150)\n",
    "\n",
    "print ('Final: '+time.strftime(\"%c\"))\n",
    "final = time.perf_counter()\n",
    "print(f'Hecho en {round(final - inicio, 4)} segundo(s)')"
   ]
  },
  {
   "cell_type": "code",
   "execution_count": 7,
   "id": "d1901534-e5e5-4364-b25e-2b7b2d818129",
   "metadata": {
    "tags": []
   },
   "outputs": [
    {
     "name": "stdout",
     "output_type": "stream",
     "text": [
      "Inicio: Sun Oct 23 12:29:46 2022\n",
      "-RECORD 0--------------------------------------------------------------------------------------------------------------------------------------------------------\n",
      " ctId   | CT0015123497                                                                                                                                           \n",
      " fecRef | 2020-06-27                                                                                                                                             \n",
      " lista  | [2020-06-27]                                                                                                                                           \n",
      "-RECORD 1--------------------------------------------------------------------------------------------------------------------------------------------------------\n",
      " ctId   | CT0015123497                                                                                                                                           \n",
      " fecRef | 2020-07-17                                                                                                                                             \n",
      " lista  | [2020-06-27, 2020-07-17]                                                                                                                               \n",
      "-RECORD 2--------------------------------------------------------------------------------------------------------------------------------------------------------\n",
      " ctId   | CT0015123497                                                                                                                                           \n",
      " fecRef | 2020-08-01                                                                                                                                             \n",
      " lista  | [2020-06-27, 2020-07-17, 2020-08-01]                                                                                                                   \n",
      "-RECORD 3--------------------------------------------------------------------------------------------------------------------------------------------------------\n",
      " ctId   | CT0015123497                                                                                                                                           \n",
      " fecRef | 2020-10-13                                                                                                                                             \n",
      " lista  | [2020-06-27, 2020-07-17, 2020-08-01, 2020-10-13]                                                                                                       \n",
      "-RECORD 4--------------------------------------------------------------------------------------------------------------------------------------------------------\n",
      " ctId   | CT0015123497                                                                                                                                           \n",
      " fecRef | 2021-01-16                                                                                                                                             \n",
      " lista  | [2020-06-27, 2020-07-17, 2020-08-01, 2020-10-13, 2021-01-16]                                                                                           \n",
      "-RECORD 5--------------------------------------------------------------------------------------------------------------------------------------------------------\n",
      " ctId   | CT0015123497                                                                                                                                           \n",
      " fecRef | 2021-01-24                                                                                                                                             \n",
      " lista  | [2020-06-27, 2020-07-17, 2020-08-01, 2020-10-13, 2021-01-16, 2021-01-24]                                                                               \n",
      "-RECORD 6--------------------------------------------------------------------------------------------------------------------------------------------------------\n",
      " ctId   | CT0015123497                                                                                                                                           \n",
      " fecRef | 2021-04-07                                                                                                                                             \n",
      " lista  | [2020-06-27, 2020-07-17, 2020-08-01, 2020-10-13, 2021-01-16, 2021-01-24, 2021-04-07]                                                                   \n",
      "-RECORD 7--------------------------------------------------------------------------------------------------------------------------------------------------------\n",
      " ctId   | CT0015123497                                                                                                                                           \n",
      " fecRef | 2021-04-27                                                                                                                                             \n",
      " lista  | [2020-06-27, 2020-07-17, 2020-08-01, 2020-10-13, 2021-01-16, 2021-01-24, 2021-04-07, 2021-04-27]                                                       \n",
      "-RECORD 8--------------------------------------------------------------------------------------------------------------------------------------------------------\n",
      " ctId   | CT0015123497                                                                                                                                           \n",
      " fecRef | 2021-07-06                                                                                                                                             \n",
      " lista  | [2020-06-27, 2020-07-17, 2020-08-01, 2020-10-13, 2021-01-16, 2021-01-24, 2021-04-07, 2021-04-27, 2021-07-06]                                           \n",
      "-RECORD 9--------------------------------------------------------------------------------------------------------------------------------------------------------\n",
      " ctId   | CT0015123497                                                                                                                                           \n",
      " fecRef | 2021-09-03                                                                                                                                             \n",
      " lista  | [2020-06-27, 2020-07-17, 2020-08-01, 2020-10-13, 2021-01-16, 2021-01-24, 2021-04-07, 2021-04-27, 2021-07-06, 2021-09-03]                               \n",
      "-RECORD 10-------------------------------------------------------------------------------------------------------------------------------------------------------\n",
      " ctId   | CT0015123497                                                                                                                                           \n",
      " fecRef | 2021-09-22                                                                                                                                             \n",
      " lista  | [2020-06-27, 2020-07-17, 2020-08-01, 2020-10-13, 2021-01-16, 2021-01-24, 2021-04-07, 2021-04-27, 2021-07-06, 2021-09-03, 2021-09-22]                   \n",
      "-RECORD 11-------------------------------------------------------------------------------------------------------------------------------------------------------\n",
      " ctId   | CT0015123497                                                                                                                                           \n",
      " fecRef | 2021-11-22                                                                                                                                             \n",
      " lista  | [2020-06-27, 2020-07-17, 2020-08-01, 2020-10-13, 2021-01-16, 2021-01-24, 2021-04-07, 2021-04-27, 2021-07-06, 2021-09-03, 2021-09-22, 2021-11-22]       \n",
      "-RECORD 12-------------------------------------------------------------------------------------------------------------------------------------------------------\n",
      " ctId   | CT0015123497                                                                                                                                           \n",
      " fecRef | 2021-12-20                                                                                                                                             \n",
      " lista  | [2020-06-27, 2020-07-17, 2020-08-01, 2020-10-13, 2021-01-16, 2021-01-24, 2021-04-07, 2021-04-27, 2021-07-06, 2021-09-03, 2021-09-22, 2021-11-22, 20... \n",
      "-RECORD 13-------------------------------------------------------------------------------------------------------------------------------------------------------\n",
      " ctId   | CT0015123543                                                                                                                                           \n",
      " fecRef | 2020-02-27                                                                                                                                             \n",
      " lista  | [2020-02-27]                                                                                                                                           \n",
      "-RECORD 14-------------------------------------------------------------------------------------------------------------------------------------------------------\n",
      " ctId   | CT0015123543                                                                                                                                           \n",
      " fecRef | 2020-07-05                                                                                                                                             \n",
      " lista  | [2020-02-27, 2020-07-05]                                                                                                                               \n",
      "only showing top 15 rows\n",
      "\n",
      "Final: Sun Oct 23 12:29:47 2022\n",
      "Hecho en 0.6696 segundo(s)\n"
     ]
    }
   ],
   "source": [
    "print ('Inicio: '+time.strftime(\"%c\"))\n",
    "inicio = time.perf_counter()\n",
    "\n",
    "\"\"\"\n",
    " *  La opción order by va acumulando elementos en la lista pero sin repetir...\n",
    "\"\"\"\n",
    "\n",
    "WinSpec = Window.partitionBy('ctId').orderBy('fecRef')\n",
    "\n",
    "dfNew = df.withColumn('lista', F.collect_list(F.col('fecRef')).over(WinSpec))\n",
    "dfNew.select('ctId', 'fecRef', 'lista').show(15, vertical=True, truncate=150)\n",
    "\n",
    "print ('Final: '+time.strftime(\"%c\"))\n",
    "final = time.perf_counter()\n",
    "print(f'Hecho en {round(final - inicio, 4)} segundo(s)')"
   ]
  },
  {
   "cell_type": "code",
   "execution_count": 8,
   "id": "1261f64b-73d3-4bbd-85b0-0e6a45b6e56f",
   "metadata": {
    "tags": []
   },
   "outputs": [
    {
     "name": "stdout",
     "output_type": "stream",
     "text": [
      "Inicio: Sun Oct 23 12:30:18 2022\n",
      "-RECORD 0--------------------------\n",
      " ctId   | CT0015123497             \n",
      " fecRef | 2020-06-27               \n",
      " lista  | [2020-06-27]             \n",
      "-RECORD 1--------------------------\n",
      " ctId   | CT0015123497             \n",
      " fecRef | 2020-07-17               \n",
      " lista  | [2020-06-27, 2020-07-17] \n",
      "-RECORD 2--------------------------\n",
      " ctId   | CT0015123497             \n",
      " fecRef | 2020-08-01               \n",
      " lista  | [2020-07-17, 2020-08-01] \n",
      "-RECORD 3--------------------------\n",
      " ctId   | CT0015123497             \n",
      " fecRef | 2020-10-13               \n",
      " lista  | [2020-08-01, 2020-10-13] \n",
      "-RECORD 4--------------------------\n",
      " ctId   | CT0015123497             \n",
      " fecRef | 2021-01-16               \n",
      " lista  | [2020-10-13, 2021-01-16] \n",
      "-RECORD 5--------------------------\n",
      " ctId   | CT0015123497             \n",
      " fecRef | 2021-01-24               \n",
      " lista  | [2021-01-16, 2021-01-24] \n",
      "-RECORD 6--------------------------\n",
      " ctId   | CT0015123497             \n",
      " fecRef | 2021-04-07               \n",
      " lista  | [2021-01-24, 2021-04-07] \n",
      "-RECORD 7--------------------------\n",
      " ctId   | CT0015123497             \n",
      " fecRef | 2021-04-27               \n",
      " lista  | [2021-04-07, 2021-04-27] \n",
      "-RECORD 8--------------------------\n",
      " ctId   | CT0015123497             \n",
      " fecRef | 2021-07-06               \n",
      " lista  | [2021-04-27, 2021-07-06] \n",
      "-RECORD 9--------------------------\n",
      " ctId   | CT0015123497             \n",
      " fecRef | 2021-09-03               \n",
      " lista  | [2021-07-06, 2021-09-03] \n",
      "-RECORD 10-------------------------\n",
      " ctId   | CT0015123497             \n",
      " fecRef | 2021-09-22               \n",
      " lista  | [2021-09-03, 2021-09-22] \n",
      "-RECORD 11-------------------------\n",
      " ctId   | CT0015123497             \n",
      " fecRef | 2021-11-22               \n",
      " lista  | [2021-09-22, 2021-11-22] \n",
      "-RECORD 12-------------------------\n",
      " ctId   | CT0015123497             \n",
      " fecRef | 2021-12-20               \n",
      " lista  | [2021-11-22, 2021-12-20] \n",
      "-RECORD 13-------------------------\n",
      " ctId   | CT0015123543             \n",
      " fecRef | 2020-02-27               \n",
      " lista  | [2020-02-27]             \n",
      "-RECORD 14-------------------------\n",
      " ctId   | CT0015123543             \n",
      " fecRef | 2020-07-05               \n",
      " lista  | [2020-02-27, 2020-07-05] \n",
      "only showing top 15 rows\n",
      "\n",
      "Final: Sun Oct 23 12:30:19 2022\n",
      "Hecho en 0.4051 segundo(s)\n"
     ]
    }
   ],
   "source": [
    "print ('Inicio: '+time.strftime(\"%c\"))\n",
    "inicio = time.perf_counter()\n",
    "\n",
    "\"\"\"\n",
    " *  Probando rowsbetween\n",
    "\"\"\"\n",
    "\n",
    "WinSpec = Window.partitionBy('ctId').orderBy('fecRef').rowsBetween(-1, Window.currentRow)\n",
    "\n",
    "dfNew = df.withColumn('lista', F.collect_list(F.col('fecRef')).over(WinSpec))\n",
    "dfNew.select('ctId', 'fecRef', 'lista').show(15, vertical=True, truncate=150)\n",
    "\n",
    "print ('Final: '+time.strftime(\"%c\"))\n",
    "final = time.perf_counter()\n",
    "print(f'Hecho en {round(final - inicio, 4)} segundo(s)')"
   ]
  },
  {
   "cell_type": "code",
   "execution_count": 9,
   "id": "bda1435f-bffc-43e3-9542-02e81042c756",
   "metadata": {},
   "outputs": [
    {
     "data": {
      "text/plain": [
       "Row(ctId='CT0015123556', fecRef='2020-12-03', dato='Dato del contrato CT0015123556 en 2020-12-03', saldo=10300, proc='CT0015', lista=['2020-07-10', '2020-12-03'])"
      ]
     },
     "execution_count": 9,
     "metadata": {},
     "output_type": "execute_result"
    }
   ],
   "source": [
    "dfNew.collect()[15]"
   ]
  },
  {
   "cell_type": "code",
   "execution_count": 11,
   "id": "99e77000-19a4-4ba2-b132-183dc7fc39a0",
   "metadata": {},
   "outputs": [
    {
     "data": {
      "text/plain": [
       "['2021-01-22', '2021-02-03']"
      ]
     },
     "execution_count": 11,
     "metadata": {},
     "output_type": "execute_result"
    }
   ],
   "source": [
    "dfNew.collect()[8900]['lista']"
   ]
  },
  {
   "cell_type": "code",
   "execution_count": 13,
   "id": "f1078e9c-e328-4269-9265-dc772b16e526",
   "metadata": {},
   "outputs": [
    {
     "name": "stdout",
     "output_type": "stream",
     "text": [
      "+------------+------------------------------------------------------------------------------------------------------------------------------------------------------------------------+\n",
      "|ctId        |lista                                                                                                                                                                   |\n",
      "+------------+------------------------------------------------------------------------------------------------------------------------------------------------------------------------+\n",
      "|CT0015123497|[2021-04-07, 2021-04-27, 2021-12-20, 2021-11-22, 2021-09-03, 2021-07-06, 2021-01-24, 2021-01-16, 2020-08-01, 2020-07-17, 2021-09-22, 2020-06-27, 2020-10-13]            |\n",
      "|CT0015123543|[2021-02-13, 2020-07-31, 2021-07-06, 2020-08-26, 2021-03-29, 2021-04-28, 2021-12-06, 2020-07-05, 2020-02-27, 2020-09-22, 2021-01-11, 2021-01-23]                        |\n",
      "|CT0015123556|[2021-10-28, 2021-03-25, 2021-08-30, 2020-05-14, 2021-02-26, 2020-07-10, 2020-12-03]                                                                                    |\n",
      "|CT0015123575|[2021-08-02, 2020-11-06, 2021-09-06, 2020-06-09, 2020-03-25, 2021-11-19, 2020-03-10, 2020-11-10, 2021-06-11, 2021-05-29]                                                |\n",
      "|CT0015123580|[2021-10-04, 2021-01-10, 2020-10-30]                                                                                                                                    |\n",
      "|CT0015123600|[2020-05-05, 2021-11-28, 2020-12-31, 2021-08-18, 2020-05-22, 2020-07-09, 2021-12-03, 2021-12-09, 2021-09-26]                                                            |\n",
      "|CT0015123649|[2021-02-20]                                                                                                                                                            |\n",
      "|CT0015123690|[2021-08-19, 2020-07-22, 2020-05-31, 2021-09-05]                                                                                                                        |\n",
      "|CT0015123729|[2021-12-12, 2021-01-01]                                                                                                                                                |\n",
      "|CT0015123740|[2020-02-27, 2021-02-27, 2021-06-15, 2021-08-17, 2020-04-04, 2021-07-06, 2021-06-19]                                                                                    |\n",
      "|CT0015123773|[2020-02-14, 2020-10-04, 2021-08-20, 2020-07-25]                                                                                                                        |\n",
      "|CT0015123796|[2020-01-10, 2021-01-27]                                                                                                                                                |\n",
      "|CT0015123807|[2021-07-13, 2021-08-25, 2021-02-11, 2021-03-07, 2020-01-23, 2020-12-24, 2021-02-12, 2020-06-14, 2020-10-28]                                                            |\n",
      "|CT0015123809|[2020-11-12, 2020-09-25, 2020-01-22, 2021-11-13, 2021-09-06, 2020-03-10, 2020-07-10]                                                                                    |\n",
      "|CT0015123826|[2021-11-07, 2020-06-26, 2021-12-21, 2021-03-21, 2021-03-18, 2020-10-08, 2020-11-26, 2021-12-10, 2020-02-11, 2021-06-21, 2020-07-11, 2020-08-22, 2021-03-24, 2020-02-01]|\n",
      "|CT0015123852|[2021-07-08, 2021-02-27]                                                                                                                                                |\n",
      "|CT0015123885|[2021-07-10, 2020-05-28]                                                                                                                                                |\n",
      "|CT0015123921|[2021-10-02, 2021-01-06, 2020-02-11, 2021-06-26, 2020-10-01, 2021-04-26, 2020-03-13, 2021-07-25, 2021-04-27, 2020-04-26]                                                |\n",
      "|CT0015123966|[2020-06-28, 2020-04-07, 2021-03-05, 2020-08-25, 2021-08-04]                                                                                                            |\n",
      "|CT0015124008|[2021-06-27, 2020-10-25, 2021-03-06, 2020-09-07, 2020-06-24, 2021-10-14, 2020-12-24, 2020-09-12, 2020-12-29, 2020-05-05, 2021-04-14]                                    |\n",
      "+------------+------------------------------------------------------------------------------------------------------------------------------------------------------------------------+\n",
      "only showing top 20 rows\n",
      "\n"
     ]
    },
    {
     "data": {
      "text/plain": [
       "10000"
      ]
     },
     "execution_count": 13,
     "metadata": {},
     "output_type": "execute_result"
    }
   ],
   "source": [
    "dfGrp = df.groupBy('ctId').agg(F.expr('collect_list(fecRef)').alias('lista'))\n",
    "dfGrp.show(truncate=False)\n",
    "dfGrp.count()"
   ]
  },
  {
   "cell_type": "code",
   "execution_count": null,
   "id": "5c93399b-67dc-4704-8e26-e2a38c9886b4",
   "metadata": {},
   "outputs": [],
   "source": []
  },
  {
   "cell_type": "code",
   "execution_count": null,
   "id": "8ccddb1d-5bb4-4d1b-a6f3-b764bb3926ac",
   "metadata": {},
   "outputs": [],
   "source": [
    "spark.sparkContext.stop()\n",
    "print('Sacabao')"
   ]
  },
  {
   "cell_type": "code",
   "execution_count": null,
   "id": "ba7a936e-779c-4381-a4f4-1f521c191fd0",
   "metadata": {},
   "outputs": [],
   "source": []
  }
 ],
 "metadata": {
  "kernelspec": {
   "display_name": "Python 3 (ipykernel)",
   "language": "python",
   "name": "python3"
  },
  "language_info": {
   "codemirror_mode": {
    "name": "ipython",
    "version": 3
   },
   "file_extension": ".py",
   "mimetype": "text/x-python",
   "name": "python",
   "nbconvert_exporter": "python",
   "pygments_lexer": "ipython3",
   "version": "3.9.2"
  }
 },
 "nbformat": 4,
 "nbformat_minor": 5
}
