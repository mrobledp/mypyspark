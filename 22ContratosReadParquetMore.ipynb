{
 "cells": [
  {
   "cell_type": "code",
   "execution_count": 1,
   "id": "9809d572-83ea-498d-961c-b08593e7a424",
   "metadata": {},
   "outputs": [
    {
     "name": "stderr",
     "output_type": "stream",
     "text": [
      "Using Spark's default log4j profile: org/apache/spark/log4j-defaults.properties\n",
      "Setting default log level to \"WARN\".\n",
      "To adjust logging level use sc.setLogLevel(newLevel). For SparkR, use setLogLevel(newLevel).\n",
      "22/10/23 10:15:54 WARN NativeCodeLoader: Unable to load native-hadoop library for your platform... using builtin-java classes where applicable\n"
     ]
    },
    {
     "data": {
      "text/html": [
       "\n",
       "            <div>\n",
       "                <p><b>SparkSession - in-memory</b></p>\n",
       "                \n",
       "        <div>\n",
       "            <p><b>SparkContext</b></p>\n",
       "\n",
       "            <p><a href=\"http://01789a89ed1e:4040\">Spark UI</a></p>\n",
       "\n",
       "            <dl>\n",
       "              <dt>Version</dt>\n",
       "                <dd><code>v3.2.1</code></dd>\n",
       "              <dt>Master</dt>\n",
       "                <dd><code>spark://spark-master:7077</code></dd>\n",
       "              <dt>AppName</dt>\n",
       "                <dd><code>ContratosReadParquet</code></dd>\n",
       "            </dl>\n",
       "        </div>\n",
       "        \n",
       "            </div>\n",
       "        "
      ],
      "text/plain": [
       "<pyspark.sql.session.SparkSession at 0x7fe0d43bd820>"
      ]
     },
     "execution_count": 1,
     "metadata": {},
     "output_type": "execute_result"
    }
   ],
   "source": [
    "### Probando con datos\n",
    "import pyspark\n",
    "from pyspark.sql import SparkSession\n",
    "from pyspark.conf import SparkConf\n",
    "\n",
    "conf = (SparkConf().set(\"spark.executor.memory\", \"6g\")\n",
    "                    .set(\"spark.executor.cores\", \"3\")\n",
    "                    .set(\"spark.executor.instances\", \"2\")\n",
    "                    .set(\"spark.eventLog.enabled\", \"true\"))\n",
    "spark = SparkSession.builder.master(\"spark://spark-master:7077\").appName(\"ContratosReadParquet\").config(conf=conf).getOrCreate()\n",
    "spark"
   ]
  },
  {
   "cell_type": "code",
   "execution_count": 2,
   "id": "821c805d-ae05-4e05-8144-dde6d1ed4bf9",
   "metadata": {},
   "outputs": [
    {
     "name": "stdout",
     "output_type": "stream",
     "text": [
      "Inicio: Sun Oct 23 10:15:56 2022\n"
     ]
    }
   ],
   "source": [
    "import time\n",
    "print ('Inicio: '+time.strftime(\"%c\"))\n",
    "inicio = time.perf_counter()"
   ]
  },
  {
   "cell_type": "code",
   "execution_count": 3,
   "id": "21680333-d2da-4460-b92d-869e172113a5",
   "metadata": {},
   "outputs": [
    {
     "name": "stderr",
     "output_type": "stream",
     "text": [
      "                                                                                \r"
     ]
    },
    {
     "name": "stdout",
     "output_type": "stream",
     "text": [
      "root\n",
      " |-- ctId: string (nullable = true)\n",
      " |-- fecIni: string (nullable = true)\n",
      " |-- fecFin: string (nullable = true)\n",
      " |-- dato: string (nullable = true)\n",
      " |-- saldo: integer (nullable = true)\n",
      " |-- proc: string (nullable = true)\n",
      "\n"
     ]
    },
    {
     "name": "stderr",
     "output_type": "stream",
     "text": [
      "                                                                                \r"
     ]
    },
    {
     "name": "stdout",
     "output_type": "stream",
     "text": [
      "89262\n"
     ]
    },
    {
     "name": "stderr",
     "output_type": "stream",
     "text": [
      "[Stage 4:>                                                          (0 + 1) / 1]\r"
     ]
    },
    {
     "name": "stdout",
     "output_type": "stream",
     "text": [
      "+------------+----------+----------+--------------------+-----+------+\n",
      "|        ctId|    fecIni|    fecFin|                dato|saldo|  proc|\n",
      "+------------+----------+----------+--------------------+-----+------+\n",
      "|CT0015259018|1999-12-28|2020-03-29|Dato del contrato...| 7500|CT0015|\n",
      "|CT0015259018|2020-03-29|2020-04-08|Dato del contrato...|46400|CT0015|\n",
      "|CT0015259018|2020-04-08|2020-05-07|Dato del contrato...|34400|CT0015|\n",
      "|CT0015259018|2020-05-07|2020-06-05|Dato del contrato...|44300|CT0015|\n",
      "|CT0015259018|2020-06-05|2020-07-25|Dato del contrato...| 9500|CT0015|\n",
      "|CT0015259018|2020-07-25|2020-08-18|Dato del contrato...|29700|CT0015|\n",
      "|CT0015259018|2020-08-18|2020-08-18|Dato del contrato...|10200|CT0015|\n",
      "|CT0015259018|2020-08-18|2020-10-01|Dato del contrato...| 2900|CT0015|\n",
      "|CT0015259018|2020-10-01|2020-11-20|Dato del contrato...|12800|CT0015|\n",
      "|CT0015259018|2020-11-20|2020-12-04|Dato del contrato...| 7300|CT0015|\n",
      "|CT0015259018|2020-12-04|2020-12-31|Dato del contrato...| 6400|CT0015|\n",
      "|CT0015259018|2020-12-31|2021-10-03|Dato del contrato...| 8300|CT0015|\n",
      "|CT0015259018|2021-10-03|2021-12-03|Dato del contrato...|70100|CT0015|\n",
      "|CT0015259018|2021-12-03|2021-12-26|Dato del contrato...|50500|CT0015|\n",
      "|CT0015259018|2021-12-26|2222-12-31|Dato del contrato...|50500|CT0015|\n",
      "|CT0015259023|1999-12-28|2020-04-03|Dato del contrato...| 7000|CT0015|\n",
      "|CT0015259023|2020-04-03|2021-05-10|Dato del contrato...| 5000|CT0015|\n",
      "|CT0015259023|2021-05-10|2021-07-03|Dato del contrato...|84300|CT0015|\n",
      "|CT0015259023|2021-07-03|2021-08-01|Dato del contrato...|28600|CT0015|\n",
      "|CT0015259023|2021-08-01|2021-09-26|Dato del contrato...|68400|CT0015|\n",
      "+------------+----------+----------+--------------------+-----+------+\n",
      "only showing top 20 rows\n",
      "\n",
      "== Parsed Logical Plan ==\n",
      "Relation [ctId#0,fecIni#1,fecFin#2,dato#3,saldo#4,proc#5] parquet\n",
      "\n",
      "== Analyzed Logical Plan ==\n",
      "ctId: string, fecIni: string, fecFin: string, dato: string, saldo: int, proc: string\n",
      "Relation [ctId#0,fecIni#1,fecFin#2,dato#3,saldo#4,proc#5] parquet\n",
      "\n",
      "== Optimized Logical Plan ==\n",
      "Relation [ctId#0,fecIni#1,fecFin#2,dato#3,saldo#4,proc#5] parquet\n",
      "\n",
      "== Physical Plan ==\n",
      "*(1) ColumnarToRow\n",
      "+- FileScan parquet [ctId#0,fecIni#1,fecFin#2,dato#3,saldo#4,proc#5] Batched: true, DataFilters: [], Format: Parquet, Location: InMemoryFileIndex(1 paths)[file:/opt/workspace/datos/fakeContracts01.parquet/proc=CT0015], PartitionFilters: [], PushedFilters: [], ReadSchema: struct<ctId:string,fecIni:string,fecFin:string,dato:string,saldo:int>\n",
      "\n",
      "== Optimized Logical Plan ==\n",
      "Relation [ctId#0,fecIni#1,fecFin#2,dato#3,saldo#4,proc#5] parquet, Statistics(sizeInBytes=1133.7 KiB)\n",
      "\n",
      "== Physical Plan ==\n",
      "*(1) ColumnarToRow\n",
      "+- FileScan parquet [ctId#0,fecIni#1,fecFin#2,dato#3,saldo#4,proc#5] Batched: true, DataFilters: [], Format: Parquet, Location: InMemoryFileIndex(1 paths)[file:/opt/workspace/datos/fakeContracts01.parquet/proc=CT0015], PartitionFilters: [], PushedFilters: [], ReadSchema: struct<ctId:string,fecIni:string,fecFin:string,dato:string,saldo:int>\n",
      "\n",
      "\n"
     ]
    },
    {
     "name": "stderr",
     "output_type": "stream",
     "text": [
      "                                                                                \r"
     ]
    }
   ],
   "source": [
    "#spark job monitoring\n",
    "from pyspark.sql.types import StructType\n",
    "from pyspark.sql.types import StringType,BooleanType,DateType,IntegerType\n",
    "from pyspark.sql.functions import sum, col, desc\n",
    "import pyspark.sql.functions as F\n",
    "from pyspark.sql import Window\n",
    "\n",
    "esquema = StructType() \\\n",
    "      .add(\"ctId\",StringType(),True) \\\n",
    "      .add(\"fecIni\",StringType(),True) \\\n",
    "      .add(\"fecFin\",StringType(),True) \\\n",
    "      .add(\"dato\",StringType(),True) \\\n",
    "      .add(\"saldo\",IntegerType(),True)\n",
    "\n",
    "df = spark.read.option(\"mergeSchema\", True).option(\"schema\", \"esquema\").option(\"basePath\", \"file:///opt/workspace/datos/fakeContracts01.parquet/\")\\\n",
    "               .format(\"parquet\").load('./datos/fakeContracts01.parquet/proc=CT0015')\n",
    "\n",
    "df.printSchema()\n",
    "\n",
    "print(df.count())\n",
    "df.show()\n",
    "df.explain(extended=True)\n",
    "df.explain(mode='cost')\n"
   ]
  },
  {
   "cell_type": "code",
   "execution_count": 4,
   "id": "e749d4d7-794f-41f9-bf4e-0ee7419c4c1d",
   "metadata": {},
   "outputs": [
    {
     "name": "stdout",
     "output_type": "stream",
     "text": [
      "Final: Sun Oct 23 10:16:03 2022\n",
      "Hecho en 6.473 segundo(s)\n"
     ]
    }
   ],
   "source": [
    "print ('Final: '+time.strftime(\"%c\"))\n",
    "final = time.perf_counter()\n",
    "print(f'Hecho en {round(final - inicio, 4)} segundo(s)')"
   ]
  },
  {
   "cell_type": "markdown",
   "id": "6908474c-8f7c-4137-966a-79bf4d76b283",
   "metadata": {},
   "source": [
    "## La función Window define una especificación que consiste en agrupar un campo a nivel de registro para todos los registros (que es la diferncia con el Group By)."
   ]
  },
  {
   "cell_type": "code",
   "execution_count": null,
   "id": "717a4684-2a98-45a5-b440-597b2d55a6ac",
   "metadata": {
    "tags": []
   },
   "outputs": [
    {
     "name": "stdout",
     "output_type": "stream",
     "text": [
      "Inicio: Sun Oct 23 11:51:02 2022\n",
      "-RECORD 0-------------------------------------------------------------------------------------------------------------------------------------------------------\n",
      " ctId  | CT0015123497                                                                                                                                           \n",
      " lista | [2020-06-27, 2020-07-17, 2020-08-01, 2020-10-13, 2021-01-16, 2021-01-24, 2021-04-07, 2021-04-27, 2021-07-06, 2021-09-03, 2021-09-22, 2021-11-22, 20... \n",
      "-RECORD 1-------------------------------------------------------------------------------------------------------------------------------------------------------\n",
      " ctId  | CT0015123497                                                                                                                                           \n",
      " lista | [2020-06-27, 2020-07-17, 2020-08-01, 2020-10-13, 2021-01-16, 2021-01-24, 2021-04-07, 2021-04-27, 2021-07-06, 2021-09-03, 2021-09-22, 2021-11-22, 20... \n",
      "-RECORD 2-------------------------------------------------------------------------------------------------------------------------------------------------------\n",
      " ctId  | CT0015123497                                                                                                                                           \n",
      " lista | [2020-06-27, 2020-07-17, 2020-08-01, 2020-10-13, 2021-01-16, 2021-01-24, 2021-04-07, 2021-04-27, 2021-07-06, 2021-09-03, 2021-09-22, 2021-11-22, 20... \n",
      "only showing top 3 rows\n",
      "\n",
      "Final: Sun Oct 23 11:51:03 2022\n",
      "Hecho en 0.2214 segundo(s)\n"
     ]
    }
   ],
   "source": [
    "print ('Inicio: '+time.strftime(\"%c\"))\n",
    "inicio = time.perf_counter()\n",
    "\n",
    "WinSpec = Window.partitionBy('ctId')\n",
    "\n",
    "dfNew = df.withColumn('lista', F.collect_list(F.col('fecFin')).over(WinSpec))\n",
    "dfNew.select('ctId', 'lista').show(3, vertical=True, truncate=150)\n",
    "\n",
    "print ('Final: '+time.strftime(\"%c\"))\n",
    "final = time.perf_counter()\n",
    "print(f'Hecho en {round(final - inicio, 4)} segundo(s)')"
   ]
  },
  {
   "cell_type": "code",
   "execution_count": 30,
   "id": "d1901534-e5e5-4364-b25e-2b7b2d818129",
   "metadata": {
    "tags": []
   },
   "outputs": [
    {
     "name": "stdout",
     "output_type": "stream",
     "text": [
      "Inicio: Sun Oct 23 11:53:35 2022\n",
      "-RECORD 0--------------------------------------------------------------------------------------------------------------------------------------------------------\n",
      " ctId   | CT0015123497                                                                                                                                           \n",
      " fecFin | 2020-06-27                                                                                                                                             \n",
      " lista  | [2020-06-27]                                                                                                                                           \n",
      "-RECORD 1--------------------------------------------------------------------------------------------------------------------------------------------------------\n",
      " ctId   | CT0015123497                                                                                                                                           \n",
      " fecFin | 2020-07-17                                                                                                                                             \n",
      " lista  | [2020-06-27, 2020-07-17]                                                                                                                               \n",
      "-RECORD 2--------------------------------------------------------------------------------------------------------------------------------------------------------\n",
      " ctId   | CT0015123497                                                                                                                                           \n",
      " fecFin | 2020-08-01                                                                                                                                             \n",
      " lista  | [2020-06-27, 2020-07-17, 2020-08-01]                                                                                                                   \n",
      "-RECORD 3--------------------------------------------------------------------------------------------------------------------------------------------------------\n",
      " ctId   | CT0015123497                                                                                                                                           \n",
      " fecFin | 2020-10-13                                                                                                                                             \n",
      " lista  | [2020-06-27, 2020-07-17, 2020-08-01, 2020-10-13]                                                                                                       \n",
      "-RECORD 4--------------------------------------------------------------------------------------------------------------------------------------------------------\n",
      " ctId   | CT0015123497                                                                                                                                           \n",
      " fecFin | 2021-01-16                                                                                                                                             \n",
      " lista  | [2020-06-27, 2020-07-17, 2020-08-01, 2020-10-13, 2021-01-16]                                                                                           \n",
      "-RECORD 5--------------------------------------------------------------------------------------------------------------------------------------------------------\n",
      " ctId   | CT0015123497                                                                                                                                           \n",
      " fecFin | 2021-01-24                                                                                                                                             \n",
      " lista  | [2020-06-27, 2020-07-17, 2020-08-01, 2020-10-13, 2021-01-16, 2021-01-24]                                                                               \n",
      "-RECORD 6--------------------------------------------------------------------------------------------------------------------------------------------------------\n",
      " ctId   | CT0015123497                                                                                                                                           \n",
      " fecFin | 2021-04-07                                                                                                                                             \n",
      " lista  | [2020-06-27, 2020-07-17, 2020-08-01, 2020-10-13, 2021-01-16, 2021-01-24, 2021-04-07]                                                                   \n",
      "-RECORD 7--------------------------------------------------------------------------------------------------------------------------------------------------------\n",
      " ctId   | CT0015123497                                                                                                                                           \n",
      " fecFin | 2021-04-27                                                                                                                                             \n",
      " lista  | [2020-06-27, 2020-07-17, 2020-08-01, 2020-10-13, 2021-01-16, 2021-01-24, 2021-04-07, 2021-04-27]                                                       \n",
      "-RECORD 8--------------------------------------------------------------------------------------------------------------------------------------------------------\n",
      " ctId   | CT0015123497                                                                                                                                           \n",
      " fecFin | 2021-07-06                                                                                                                                             \n",
      " lista  | [2020-06-27, 2020-07-17, 2020-08-01, 2020-10-13, 2021-01-16, 2021-01-24, 2021-04-07, 2021-04-27, 2021-07-06]                                           \n",
      "-RECORD 9--------------------------------------------------------------------------------------------------------------------------------------------------------\n",
      " ctId   | CT0015123497                                                                                                                                           \n",
      " fecFin | 2021-09-03                                                                                                                                             \n",
      " lista  | [2020-06-27, 2020-07-17, 2020-08-01, 2020-10-13, 2021-01-16, 2021-01-24, 2021-04-07, 2021-04-27, 2021-07-06, 2021-09-03]                               \n",
      "-RECORD 10-------------------------------------------------------------------------------------------------------------------------------------------------------\n",
      " ctId   | CT0015123497                                                                                                                                           \n",
      " fecFin | 2021-09-22                                                                                                                                             \n",
      " lista  | [2020-06-27, 2020-07-17, 2020-08-01, 2020-10-13, 2021-01-16, 2021-01-24, 2021-04-07, 2021-04-27, 2021-07-06, 2021-09-03, 2021-09-22]                   \n",
      "-RECORD 11-------------------------------------------------------------------------------------------------------------------------------------------------------\n",
      " ctId   | CT0015123497                                                                                                                                           \n",
      " fecFin | 2021-11-22                                                                                                                                             \n",
      " lista  | [2020-06-27, 2020-07-17, 2020-08-01, 2020-10-13, 2021-01-16, 2021-01-24, 2021-04-07, 2021-04-27, 2021-07-06, 2021-09-03, 2021-09-22, 2021-11-22]       \n",
      "-RECORD 12-------------------------------------------------------------------------------------------------------------------------------------------------------\n",
      " ctId   | CT0015123497                                                                                                                                           \n",
      " fecFin | 2021-12-20                                                                                                                                             \n",
      " lista  | [2020-06-27, 2020-07-17, 2020-08-01, 2020-10-13, 2021-01-16, 2021-01-24, 2021-04-07, 2021-04-27, 2021-07-06, 2021-09-03, 2021-09-22, 2021-11-22, 20... \n",
      "-RECORD 13-------------------------------------------------------------------------------------------------------------------------------------------------------\n",
      " ctId   | CT0015123497                                                                                                                                           \n",
      " fecFin | 2222-12-31                                                                                                                                             \n",
      " lista  | [2020-06-27, 2020-07-17, 2020-08-01, 2020-10-13, 2021-01-16, 2021-01-24, 2021-04-07, 2021-04-27, 2021-07-06, 2021-09-03, 2021-09-22, 2021-11-22, 20... \n",
      "-RECORD 14-------------------------------------------------------------------------------------------------------------------------------------------------------\n",
      " ctId   | CT0015123543                                                                                                                                           \n",
      " fecFin | 2020-02-27                                                                                                                                             \n",
      " lista  | [2020-02-27]                                                                                                                                           \n",
      "only showing top 15 rows\n",
      "\n",
      "Final: Sun Oct 23 11:53:35 2022\n",
      "Hecho en 0.2845 segundo(s)\n"
     ]
    }
   ],
   "source": [
    "print ('Inicio: '+time.strftime(\"%c\"))\n",
    "inicio = time.perf_counter()\n",
    "\n",
    "\"\"\"\n",
    " *  La opción order by va acumulando elementos en la lista pero sin repetir...\n",
    "\"\"\"\n",
    "\n",
    "WinSpec = Window.partitionBy('ctId').orderBy('fecFin')\n",
    "\n",
    "dfNew = df.withColumn('lista', F.collect_list(F.col('fecFin')).over(WinSpec))\n",
    "dfNew.select('ctId', 'fecFin', 'lista').show(15, vertical=True, truncate=150)\n",
    "\n",
    "print ('Final: '+time.strftime(\"%c\"))\n",
    "final = time.perf_counter()\n",
    "print(f'Hecho en {round(final - inicio, 4)} segundo(s)')"
   ]
  },
  {
   "cell_type": "code",
   "execution_count": 45,
   "id": "1261f64b-73d3-4bbd-85b0-0e6a45b6e56f",
   "metadata": {
    "tags": []
   },
   "outputs": [
    {
     "name": "stdout",
     "output_type": "stream",
     "text": [
      "Inicio: Sun Oct 23 12:16:24 2022\n",
      "-RECORD 0--------------------------\n",
      " ctId   | CT0015123497             \n",
      " fecFin | 2020-06-27               \n",
      " lista  | [2020-06-27]             \n",
      "-RECORD 1--------------------------\n",
      " ctId   | CT0015123497             \n",
      " fecFin | 2020-07-17               \n",
      " lista  | [2020-06-27, 2020-07-17] \n",
      "-RECORD 2--------------------------\n",
      " ctId   | CT0015123497             \n",
      " fecFin | 2020-08-01               \n",
      " lista  | [2020-07-17, 2020-08-01] \n",
      "-RECORD 3--------------------------\n",
      " ctId   | CT0015123497             \n",
      " fecFin | 2020-10-13               \n",
      " lista  | [2020-08-01, 2020-10-13] \n",
      "-RECORD 4--------------------------\n",
      " ctId   | CT0015123497             \n",
      " fecFin | 2021-01-16               \n",
      " lista  | [2020-10-13, 2021-01-16] \n",
      "-RECORD 5--------------------------\n",
      " ctId   | CT0015123497             \n",
      " fecFin | 2021-01-24               \n",
      " lista  | [2021-01-16, 2021-01-24] \n",
      "-RECORD 6--------------------------\n",
      " ctId   | CT0015123497             \n",
      " fecFin | 2021-04-07               \n",
      " lista  | [2021-01-24, 2021-04-07] \n",
      "-RECORD 7--------------------------\n",
      " ctId   | CT0015123497             \n",
      " fecFin | 2021-04-27               \n",
      " lista  | [2021-04-07, 2021-04-27] \n",
      "-RECORD 8--------------------------\n",
      " ctId   | CT0015123497             \n",
      " fecFin | 2021-07-06               \n",
      " lista  | [2021-04-27, 2021-07-06] \n",
      "-RECORD 9--------------------------\n",
      " ctId   | CT0015123497             \n",
      " fecFin | 2021-09-03               \n",
      " lista  | [2021-07-06, 2021-09-03] \n",
      "-RECORD 10-------------------------\n",
      " ctId   | CT0015123497             \n",
      " fecFin | 2021-09-22               \n",
      " lista  | [2021-09-03, 2021-09-22] \n",
      "-RECORD 11-------------------------\n",
      " ctId   | CT0015123497             \n",
      " fecFin | 2021-11-22               \n",
      " lista  | [2021-09-22, 2021-11-22] \n",
      "-RECORD 12-------------------------\n",
      " ctId   | CT0015123497             \n",
      " fecFin | 2021-12-20               \n",
      " lista  | [2021-11-22, 2021-12-20] \n",
      "-RECORD 13-------------------------\n",
      " ctId   | CT0015123497             \n",
      " fecFin | 2222-12-31               \n",
      " lista  | [2021-12-20, 2222-12-31] \n",
      "-RECORD 14-------------------------\n",
      " ctId   | CT0015123543             \n",
      " fecFin | 2020-02-27               \n",
      " lista  | [2020-02-27]             \n",
      "only showing top 15 rows\n",
      "\n",
      "Final: Sun Oct 23 12:16:25 2022\n",
      "Hecho en 0.1745 segundo(s)\n"
     ]
    }
   ],
   "source": [
    "print ('Inicio: '+time.strftime(\"%c\"))\n",
    "inicio = time.perf_counter()\n",
    "\n",
    "\"\"\"\n",
    " *  Probando rowsbetween\n",
    "\"\"\"\n",
    "\n",
    "WinSpec = Window.partitionBy('ctId').orderBy('fecFin').rowsBetween(-1, Window.currentRow)\n",
    "\n",
    "dfNew = df.withColumn('lista', F.collect_list(F.col('fecFin')).over(WinSpec))\n",
    "dfNew.select('ctId', 'fecFin', 'lista').show(15, vertical=True, truncate=150)\n",
    "\n",
    "print ('Final: '+time.strftime(\"%c\"))\n",
    "final = time.perf_counter()\n",
    "print(f'Hecho en {round(final - inicio, 4)} segundo(s)')"
   ]
  },
  {
   "cell_type": "code",
   "execution_count": 38,
   "id": "bda1435f-bffc-43e3-9542-02e81042c756",
   "metadata": {},
   "outputs": [
    {
     "data": {
      "text/plain": [
       "Row(ctId='CT0015123556', fecIni='2020-05-14', fecFin='2020-07-10', dato='Dato del contrato CT0015123556 en 2020-07-10', saldo=61700, proc='CT0015', lista=['2020-05-14', '2020-07-10'])"
      ]
     },
     "execution_count": 38,
     "metadata": {},
     "output_type": "execute_result"
    }
   ],
   "source": [
    "dfNew.collect()[15]"
   ]
  },
  {
   "cell_type": "code",
   "execution_count": 44,
   "id": "99e77000-19a4-4ba2-b132-183dc7fc39a0",
   "metadata": {},
   "outputs": [
    {
     "data": {
      "text/plain": [
       "['2020-03-15', '2020-04-22', '2020-09-02', '2020-09-20']"
      ]
     },
     "execution_count": 44,
     "metadata": {},
     "output_type": "execute_result"
    }
   ],
   "source": [
    "dfNew.collect()[89000]['lista']"
   ]
  },
  {
   "cell_type": "code",
   "execution_count": 18,
   "id": "f1078e9c-e328-4269-9265-dc772b16e526",
   "metadata": {},
   "outputs": [
    {
     "name": "stdout",
     "output_type": "stream",
     "text": [
      "+------------+--------------------+\n",
      "|        ctId|               lista|\n",
      "+------------+--------------------+\n",
      "|CT0015123497|[2020-06-27, 2020...|\n",
      "|CT0015123543|[2020-02-27, 2020...|\n",
      "|CT0015123556|[2020-05-14, 2020...|\n",
      "|CT0015123575|[2020-03-10, 2020...|\n",
      "|CT0015123580|[2020-10-30, 2021...|\n",
      "|CT0015123600|[2020-05-05, 2020...|\n",
      "|CT0015123649|        [2222-12-31]|\n",
      "|CT0015123690|[2020-05-31, 2020...|\n",
      "|CT0015123729|[2021-01-01, 2021...|\n",
      "|CT0015123740|[2020-02-27, 2020...|\n",
      "|CT0015123773|[2020-02-14, 2020...|\n",
      "|CT0015123796|[2020-01-10, 2021...|\n",
      "|CT0015123807|[2020-01-23, 2020...|\n",
      "|CT0015123809|[2020-01-22, 2020...|\n",
      "|CT0015123826|[2020-02-01, 2020...|\n",
      "|CT0015123852|[2021-02-27, 2021...|\n",
      "|CT0015123885|[2020-05-28, 2021...|\n",
      "|CT0015123921|[2020-02-11, 2020...|\n",
      "|CT0015123966|[2020-04-07, 2020...|\n",
      "|CT0015124008|[2020-05-05, 2020...|\n",
      "+------------+--------------------+\n",
      "only showing top 20 rows\n",
      "\n"
     ]
    },
    {
     "data": {
      "text/plain": [
       "10000"
      ]
     },
     "execution_count": 18,
     "metadata": {},
     "output_type": "execute_result"
    }
   ],
   "source": [
    "dfGrp = df.groupBy('ctId').agg(F.expr('collect_list(fecFin)').alias('lista'))\n",
    "dfGrp.show()\n",
    "dfGrp.count()"
   ]
  },
  {
   "cell_type": "code",
   "execution_count": null,
   "id": "5c93399b-67dc-4704-8e26-e2a38c9886b4",
   "metadata": {},
   "outputs": [],
   "source": []
  },
  {
   "cell_type": "code",
   "execution_count": null,
   "id": "8ccddb1d-5bb4-4d1b-a6f3-b764bb3926ac",
   "metadata": {},
   "outputs": [],
   "source": [
    "spark.sparkContext.stop()\n",
    "print('Sacabao')"
   ]
  },
  {
   "cell_type": "code",
   "execution_count": null,
   "id": "ba7a936e-779c-4381-a4f4-1f521c191fd0",
   "metadata": {},
   "outputs": [],
   "source": []
  }
 ],
 "metadata": {
  "kernelspec": {
   "display_name": "Python 3 (ipykernel)",
   "language": "python",
   "name": "python3"
  },
  "language_info": {
   "codemirror_mode": {
    "name": "ipython",
    "version": 3
   },
   "file_extension": ".py",
   "mimetype": "text/x-python",
   "name": "python",
   "nbconvert_exporter": "python",
   "pygments_lexer": "ipython3",
   "version": "3.9.2"
  }
 },
 "nbformat": 4,
 "nbformat_minor": 5
}
