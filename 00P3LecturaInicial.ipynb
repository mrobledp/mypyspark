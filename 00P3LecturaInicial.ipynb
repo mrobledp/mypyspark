{
 "cells": [
  {
   "cell_type": "markdown",
   "id": "79df9fbc-8ae2-4946-ab11-0a2e52051311",
   "metadata": {},
   "source": [
    "# Lectura inicial de un archivo a ver qué tiene"
   ]
  },
  {
   "cell_type": "code",
   "execution_count": 33,
   "id": "9809d572-83ea-498d-961c-b08593e7a424",
   "metadata": {
    "tags": []
   },
   "outputs": [
    {
     "data": {
      "text/html": [
       "\n",
       "            <div>\n",
       "                <p><b>SparkSession - in-memory</b></p>\n",
       "                \n",
       "        <div>\n",
       "            <p><b>SparkContext</b></p>\n",
       "\n",
       "            <p><a href=\"http://8562ee9b4166:4040\">Spark UI</a></p>\n",
       "\n",
       "            <dl>\n",
       "              <dt>Version</dt>\n",
       "                <dd><code>v3.2.1</code></dd>\n",
       "              <dt>Master</dt>\n",
       "                <dd><code>spark://spark-master:7077</code></dd>\n",
       "              <dt>AppName</dt>\n",
       "                <dd><code>Ecommerce</code></dd>\n",
       "            </dl>\n",
       "        </div>\n",
       "        \n",
       "            </div>\n",
       "        "
      ],
      "text/plain": [
       "<pyspark.sql.session.SparkSession at 0x7f64e3683a90>"
      ]
     },
     "execution_count": 33,
     "metadata": {},
     "output_type": "execute_result"
    }
   ],
   "source": [
    "import pyspark\n",
    "from pyspark.sql import SparkSession\n",
    "from pyspark.conf import SparkConf\n",
    "\n",
    "conf = (SparkConf().set(\"spark.executor.memory\", \"6g\")   #<--- Por executor. Como hay dos instancias, la mitad por executor.\n",
    "                    .set(\"spark.executor.cores\", \"3\")    #<--- Por cada executor. Como hay 4, 4*3=12 cores se usan.\n",
    "                    .set(\"spark.executor.instances\", \"2\")\n",
    "                    .set(\"spark.eventLog.enabled\", \"true\"))\n",
    "spark = SparkSession.builder.master(\"spark://spark-master:7077\").appName(\"Ecommerce\").config(conf=conf).getOrCreate()\n",
    "spark"
   ]
  },
  {
   "cell_type": "code",
   "execution_count": 34,
   "id": "21680333-d2da-4460-b92d-869e172113a5",
   "metadata": {},
   "outputs": [
    {
     "name": "stderr",
     "output_type": "stream",
     "text": [
      "[Stage 9:>                                                          (0 + 1) / 1]\r"
     ]
    },
    {
     "name": "stdout",
     "output_type": "stream",
     "text": [
      "================================================================================ \n",
      "filas -->  16756 columnas -->  8 \n",
      " ================================================================================\n",
      "+---+--------------+--------------+----+----+----------+--------------+----------+\n",
      "|Id |Province/State|Country/Region|Lat |Long|Date      |ConfirmedCases|Fatalities|\n",
      "+---+--------------+--------------+----+----+----------+--------------+----------+\n",
      "|1  |null          |Afghanistan   |33.0|65.0|2020-01-22|0.0           |0.0       |\n",
      "|2  |null          |Afghanistan   |33.0|65.0|2020-01-23|0.0           |0.0       |\n",
      "|3  |null          |Afghanistan   |33.0|65.0|2020-01-24|0.0           |0.0       |\n",
      "|4  |null          |Afghanistan   |33.0|65.0|2020-01-25|0.0           |0.0       |\n",
      "|5  |null          |Afghanistan   |33.0|65.0|2020-01-26|0.0           |0.0       |\n",
      "|6  |null          |Afghanistan   |33.0|65.0|2020-01-27|0.0           |0.0       |\n",
      "|7  |null          |Afghanistan   |33.0|65.0|2020-01-28|0.0           |0.0       |\n",
      "|8  |null          |Afghanistan   |33.0|65.0|2020-01-29|0.0           |0.0       |\n",
      "|9  |null          |Afghanistan   |33.0|65.0|2020-01-30|0.0           |0.0       |\n",
      "|10 |null          |Afghanistan   |33.0|65.0|2020-01-31|0.0           |0.0       |\n",
      "|11 |null          |Afghanistan   |33.0|65.0|2020-02-01|0.0           |0.0       |\n",
      "|12 |null          |Afghanistan   |33.0|65.0|2020-02-02|0.0           |0.0       |\n",
      "|13 |null          |Afghanistan   |33.0|65.0|2020-02-03|0.0           |0.0       |\n",
      "|14 |null          |Afghanistan   |33.0|65.0|2020-02-04|0.0           |0.0       |\n",
      "|15 |null          |Afghanistan   |33.0|65.0|2020-02-05|0.0           |0.0       |\n",
      "|16 |null          |Afghanistan   |33.0|65.0|2020-02-06|0.0           |0.0       |\n",
      "|17 |null          |Afghanistan   |33.0|65.0|2020-02-07|0.0           |0.0       |\n",
      "|18 |null          |Afghanistan   |33.0|65.0|2020-02-08|0.0           |0.0       |\n",
      "|19 |null          |Afghanistan   |33.0|65.0|2020-02-09|0.0           |0.0       |\n",
      "|20 |null          |Afghanistan   |33.0|65.0|2020-02-10|0.0           |0.0       |\n",
      "+---+--------------+--------------+----+----+----------+--------------+----------+\n",
      "only showing top 20 rows\n",
      "\n",
      "CPU times: user 5.29 ms, sys: 706 µs, total: 5.99 ms\n",
      "Wall time: 2.04 s\n"
     ]
    },
    {
     "name": "stderr",
     "output_type": "stream",
     "text": [
      "                                                                                \r"
     ]
    }
   ],
   "source": [
    "%%time\n",
    "from pyspark.sql.types import StructType\n",
    "from pyspark.sql.types import StringType,BooleanType,DateType,IntegerType\n",
    "import pyspark.sql.functions as F\n",
    "from pyspark.sql.functions import *\n",
    "\n",
    "\n",
    "proc='*'\n",
    "\"\"\" PARQUET\n",
    "df = spark.read.option(\"mergeSchema\", True).option(\"basePath\", \"file:///opt/workspace/datos/ecommerce/ecommerce.parquet/\")\\\n",
    "               .format(\"parquet\").load(['./datos/ecommerce/ecommerce.parquet/proc='+proc])\n",
    "\"\"\"\n",
    "#CSV\n",
    "\n",
    "df = spark.read.csv(\"./Fotolescu/useful-master/kaggle/coronavirus-forecasting/data/train.csv\", sep=\",\", header=True, inferSchema=True)\n",
    "\n",
    "\n",
    "\n",
    "# shape:\n",
    "print(80*'=','\\nfilas --> ', df.count(), 'columnas --> ', len(df.columns), '\\n', 80*'=')\n",
    "df.show(truncate=False)\n",
    "\n",
    "#df = df.withColumn(\"proc\", substring(\"ctId\",1,6))\n",
    "#df.write.mode(\"append\").partitionBy(\"proc\").parquet(\"./datos/fakeContracts01.parquet\")"
   ]
  },
  {
   "cell_type": "code",
   "execution_count": 3,
   "id": "c76b87f0-573f-4196-94a3-f13132f23327",
   "metadata": {},
   "outputs": [
    {
     "name": "stdout",
     "output_type": "stream",
     "text": [
      "root\n",
      " |-- Id: integer (nullable = true)\n",
      " |-- Province/State: string (nullable = true)\n",
      " |-- Country/Region: string (nullable = true)\n",
      " |-- Lat: double (nullable = true)\n",
      " |-- Long: double (nullable = true)\n",
      " |-- Date: string (nullable = true)\n",
      " |-- ConfirmedCases: double (nullable = true)\n",
      " |-- Fatalities: double (nullable = true)\n",
      "\n"
     ]
    }
   ],
   "source": [
    "df.printSchema()"
   ]
  },
  {
   "cell_type": "markdown",
   "id": "3118674c-55dc-4c97-8908-be18f1be97ec",
   "metadata": {},
   "source": [
    "### Damos un vistazo rápido al contenido del archivo"
   ]
  },
  {
   "cell_type": "code",
   "execution_count": 4,
   "id": "ef83038b-72f5-4c05-a248-4590e6e51ff2",
   "metadata": {},
   "outputs": [
    {
     "name": "stderr",
     "output_type": "stream",
     "text": [
      "[Stage 6:>                                                          (0 + 1) / 1]\r"
     ]
    },
    {
     "name": "stdout",
     "output_type": "stream",
     "text": [
      "+-------+-----------------+--------------+--------------+------------------+-----------------+----------+------------------+------------------+\n",
      "|summary|               Id|Province/State|Country/Region|               Lat|             Long|      Date|    ConfirmedCases|        Fatalities|\n",
      "+-------+-----------------+--------------+--------------+------------------+-----------------+----------+------------------+------------------+\n",
      "|  count|            16756|          7670|         16756|             16697|            16697|     16756|             16756|             16756|\n",
      "|   mean|          13189.5|          null|          null| 26.33732402826862|5.039602826854996|      null| 271.7501193602292| 9.221532585342564|\n",
      "| stddev|7624.686931555773|          null|          null|22.963062991020543|79.93526713077237|      null|3261.1523047726537|141.52458182865337|\n",
      "|    min|                1|       Alabama|   Afghanistan|          -41.4545|        -157.4983|2020-01-22|               0.0|               0.0|\n",
      "|    max|            26378|      Zhejiang|        Zambia|              72.0|          174.886|2020-03-20|           67800.0|            4032.0|\n",
      "+-------+-----------------+--------------+--------------+------------------+-----------------+----------+------------------+------------------+\n",
      "\n"
     ]
    },
    {
     "name": "stderr",
     "output_type": "stream",
     "text": [
      "                                                                                \r"
     ]
    }
   ],
   "source": [
    "df.describe().show()"
   ]
  },
  {
   "cell_type": "code",
   "execution_count": 5,
   "id": "beb0af65-aef1-45ef-8384-d26977fc44dc",
   "metadata": {},
   "outputs": [
    {
     "name": "stdout",
     "output_type": "stream",
     "text": [
      "+----+-----+\n",
      "|Id  |count|\n",
      "+----+-----+\n",
      "|148 |1    |\n",
      "|471 |1    |\n",
      "|496 |1    |\n",
      "|1238|1    |\n",
      "|1342|1    |\n",
      "|1591|1    |\n",
      "|1959|1    |\n",
      "|2142|1    |\n",
      "|2366|1    |\n",
      "|2659|1    |\n",
      "|3175|1    |\n",
      "|3749|1    |\n",
      "|3918|1    |\n",
      "|4101|1    |\n",
      "|4519|1    |\n",
      "|4935|1    |\n",
      "|5156|1    |\n",
      "|5518|1    |\n",
      "|5803|1    |\n",
      "|6336|1    |\n",
      "+----+-----+\n",
      "only showing top 20 rows\n",
      "\n",
      "+----------------------------+-----+\n",
      "|Province/State              |count|\n",
      "+----------------------------+-----+\n",
      "|Utah                        |59   |\n",
      "|Hawaii                      |59   |\n",
      "|Manitoba                    |59   |\n",
      "|Guangdong                   |59   |\n",
      "|Minnesota                   |59   |\n",
      "|Ohio                        |59   |\n",
      "|Hunan                       |59   |\n",
      "|Shanxi                      |59   |\n",
      "|Tibet                       |59   |\n",
      "|Hubei                       |59   |\n",
      "|United States Virgin Islands|59   |\n",
      "|Tianjin                     |59   |\n",
      "|Northern Territory          |59   |\n",
      "|Beijing                     |59   |\n",
      "|Arkansas                    |59   |\n",
      "|Oregon                      |59   |\n",
      "|France                      |59   |\n",
      "|Texas                       |59   |\n",
      "|Montserrat                  |59   |\n",
      "|Nova Scotia                 |59   |\n",
      "+----------------------------+-----+\n",
      "only showing top 20 rows\n",
      "\n",
      "+--------------+-----+\n",
      "|Country/Region|count|\n",
      "+--------------+-----+\n",
      "|Paraguay      |59   |\n",
      "|Russia        |59   |\n",
      "|Senegal       |59   |\n",
      "|Sweden        |59   |\n",
      "|Guyana        |59   |\n",
      "|Jersey        |59   |\n",
      "|Philippines   |59   |\n",
      "|Djibouti      |59   |\n",
      "|Malaysia      |59   |\n",
      "|Singapore     |59   |\n",
      "|Turkey        |59   |\n",
      "|Iraq          |59   |\n",
      "|Germany       |59   |\n",
      "|Afghanistan   |59   |\n",
      "|Cambodia      |59   |\n",
      "|Jordan        |59   |\n",
      "|Maldives      |59   |\n",
      "|Rwanda        |59   |\n",
      "|Sudan         |59   |\n",
      "|France        |472  |\n",
      "+--------------+-----+\n",
      "only showing top 20 rows\n",
      "\n",
      "+--------+-----+\n",
      "|Lat     |count|\n",
      "+--------+-----+\n",
      "|14.4974 |59   |\n",
      "|21.0943 |59   |\n",
      "|46.9219 |59   |\n",
      "|1.2833  |59   |\n",
      "|27.7663 |59   |\n",
      "|30.0572 |59   |\n",
      "|16.265  |59   |\n",
      "|42.5063 |59   |\n",
      "|17.9    |59   |\n",
      "|40.5908 |59   |\n",
      "|7.0     |59   |\n",
      "|22.1667 |59   |\n",
      "|9.7489  |59   |\n",
      "|-32.5228|59   |\n",
      "|-35.6751|59   |\n",
      "|9.9456  |59   |\n",
      "|39.3185 |59   |\n",
      "|24.25   |59   |\n",
      "|50.8333 |59   |\n",
      "|24.974  |59   |\n",
      "+--------+-----+\n",
      "only showing top 20 rows\n",
      "\n",
      "+---------+-----+\n",
      "|Long     |count|\n",
      "+---------+-----+\n",
      "|9.55     |59   |\n",
      "|104.9167 |59   |\n",
      "|66.9237  |59   |\n",
      "|-73.5491 |59   |\n",
      "|-80.945  |59   |\n",
      "|90.3563  |59   |\n",
      "|23.8813  |59   |\n",
      "|108.7881 |59   |\n",
      "|-61.551  |59   |\n",
      "|14.3754  |59   |\n",
      "|51.1839  |59   |\n",
      "|-98.8139 |59   |\n",
      "|-111.4312|59   |\n",
      "|-99.784  |59   |\n",
      "|-80.0    |59   |\n",
      "|-81.6868 |59   |\n",
      "|-116.5765|59   |\n",
      "|8.4689   |59   |\n",
      "|-57.6604 |59   |\n",
      "|112.5    |59   |\n",
      "+---------+-----+\n",
      "only showing top 20 rows\n",
      "\n",
      "+----------+-----+\n",
      "|Date      |count|\n",
      "+----------+-----+\n",
      "|2020-02-26|284  |\n",
      "|2020-02-13|284  |\n",
      "|2020-01-22|284  |\n",
      "|2020-03-16|284  |\n",
      "|2020-03-03|284  |\n",
      "|2020-03-06|284  |\n",
      "|2020-02-04|284  |\n",
      "|2020-02-05|284  |\n",
      "|2020-03-05|284  |\n",
      "|2020-03-02|284  |\n",
      "|2020-02-25|284  |\n",
      "|2020-02-22|284  |\n",
      "|2020-02-19|284  |\n",
      "|2020-03-20|284  |\n",
      "|2020-01-23|284  |\n",
      "|2020-02-08|284  |\n",
      "|2020-02-02|284  |\n",
      "|2020-01-28|284  |\n",
      "|2020-03-04|284  |\n",
      "|2020-01-30|284  |\n",
      "+----------+-----+\n",
      "only showing top 20 rows\n",
      "\n",
      "+--------------+-----+\n",
      "|ConfirmedCases|count|\n",
      "+--------------+-----+\n",
      "|934.0         |10   |\n",
      "|299.0         |3    |\n",
      "|184.0         |5    |\n",
      "|147.0         |6    |\n",
      "|576.0         |26   |\n",
      "|170.0         |1    |\n",
      "|169.0         |4    |\n",
      "|160.0         |3    |\n",
      "|70.0          |13   |\n",
      "|8.0           |89   |\n",
      "|67.0          |12   |\n",
      "|486.0         |1    |\n",
      "|1350.0        |3    |\n",
      "|311.0         |5    |\n",
      "|62031.0       |1    |\n",
      "|878.0         |1    |\n",
      "|168.0         |36   |\n",
      "|1095.0        |1    |\n",
      "|702.0         |1    |\n",
      "|0.0           |10541|\n",
      "+--------------+-----+\n",
      "only showing top 20 rows\n",
      "\n",
      "+----------+-----+\n",
      "|Fatalities|count|\n",
      "+----------+-----+\n",
      "|8.0       |45   |\n",
      "|3085.0    |1    |\n",
      "|67.0      |1    |\n",
      "|0.0       |14647|\n",
      "|7.0       |48   |\n",
      "|249.0     |1    |\n",
      "|1135.0    |1    |\n",
      "|699.0     |1    |\n",
      "|611.0     |1    |\n",
      "|724.0     |1    |\n",
      "|827.0     |2    |\n",
      "|124.0     |1    |\n",
      "|2144.0    |2    |\n",
      "|2158.0    |1    |\n",
      "|3075.0    |1    |\n",
      "|533.0     |1    |\n",
      "|853.0     |1    |\n",
      "|133.0     |1    |\n",
      "|1266.0    |1    |\n",
      "|2986.0    |1    |\n",
      "+----------+-----+\n",
      "only showing top 20 rows\n",
      "\n",
      "CPU times: user 11.5 ms, sys: 4.61 ms, total: 16.1 ms\n",
      "Wall time: 3.54 s\n"
     ]
    }
   ],
   "source": [
    "%%time\n",
    "for c in df.columns:df.groupBy(c).count().show(truncate=False)"
   ]
  },
  {
   "cell_type": "markdown",
   "id": "3da5842d-e323-4afb-9063-76fcec8a020d",
   "metadata": {},
   "source": [
    "### Cuenta cuántos nan or null hay en cada columna:"
   ]
  },
  {
   "cell_type": "code",
   "execution_count": 6,
   "id": "88e9a8d1-a3b8-4400-9eb2-4f92d98b30f8",
   "metadata": {},
   "outputs": [
    {
     "name": "stdout",
     "output_type": "stream",
     "text": [
      "+---+--------------+--------------+---+----+----+--------------+----------+\n",
      "| Id|Province/State|Country/Region|Lat|Long|Date|ConfirmedCases|Fatalities|\n",
      "+---+--------------+--------------+---+----+----+--------------+----------+\n",
      "|  0|          9086|             0| 59|  59|   0|             0|         0|\n",
      "+---+--------------+--------------+---+----+----+--------------+----------+\n",
      "\n",
      "None\n"
     ]
    }
   ],
   "source": [
    "print(df.select([count(when(isnan(c) | col(c).isNull(), c)).alias(c) for c in df.columns]).show())"
   ]
  },
  {
   "cell_type": "raw",
   "id": "e199c636-bcec-4cb1-b102-668b5ab25ae9",
   "metadata": {},
   "source": [
    "df.filter(col('Province/State').isNull()).show()"
   ]
  },
  {
   "cell_type": "code",
   "execution_count": 3,
   "id": "f2d5c199-2097-49c0-8e05-d0cc97d2e8ef",
   "metadata": {},
   "outputs": [
    {
     "name": "stderr",
     "output_type": "stream",
     "text": [
      "[Stage 8:>                                                          (0 + 1) / 1]\r"
     ]
    },
    {
     "name": "stdout",
     "output_type": "stream",
     "text": [
      "+--------------+-----+\n",
      "|Country/Region|count|\n",
      "+--------------+-----+\n",
      "|      Paraguay|   59|\n",
      "|        Russia|   59|\n",
      "|       Senegal|   59|\n",
      "|        Sweden|   59|\n",
      "|        Guyana|   59|\n",
      "|        Jersey|   59|\n",
      "|   Philippines|   59|\n",
      "|      Djibouti|   59|\n",
      "|      Malaysia|   59|\n",
      "|     Singapore|   59|\n",
      "|        Turkey|   59|\n",
      "|          Iraq|   59|\n",
      "|       Germany|   59|\n",
      "|   Afghanistan|   59|\n",
      "|      Cambodia|   59|\n",
      "|        Jordan|   59|\n",
      "|      Maldives|   59|\n",
      "|        Rwanda|   59|\n",
      "|         Sudan|   59|\n",
      "|        Greece|   59|\n",
      "+--------------+-----+\n",
      "only showing top 20 rows\n",
      "\n"
     ]
    },
    {
     "name": "stderr",
     "output_type": "stream",
     "text": [
      "                                                                                \r"
     ]
    }
   ],
   "source": [
    "df.filter(col('Province/State').isNull()).groupBy('Country/Region').count().show()"
   ]
  },
  {
   "cell_type": "code",
   "execution_count": 44,
   "id": "7aedd64e-dae3-4b34-a915-cb98d9d9c820",
   "metadata": {},
   "outputs": [
    {
     "name": "stdout",
     "output_type": "stream",
     "text": [
      "+-----+--------------+--------------+--------+--------+----------+--------------+----------+\n",
      "|   Id|Province/State|Country/Region|     Lat|    Long|      Date|ConfirmedCases|Fatalities|\n",
      "+-----+--------------+--------------+--------+--------+----------+--------------+----------+\n",
      "|16332|          null|      Paraguay|-23.4425|-58.4438|2020-03-18|          11.0|       0.0|\n",
      "|16333|          null|      Paraguay|-23.4425|-58.4438|2020-03-19|          11.0|       0.0|\n",
      "+-----+--------------+--------------+--------+--------+----------+--------------+----------+\n",
      "\n"
     ]
    }
   ],
   "source": [
    "df.filter(col('Country/Region') == 'Paraguay').filter(col('ConfirmedCases') == 11.).show(59)"
   ]
  },
  {
   "cell_type": "code",
   "execution_count": 13,
   "id": "8ccddb1d-5bb4-4d1b-a6f3-b764bb3926ac",
   "metadata": {},
   "outputs": [
    {
     "name": "stderr",
     "output_type": "stream",
     "text": [
      "23/02/23 18:19:30 WARN NioEventLoop: Selector.select() returned prematurely 512 times in a row; rebuilding Selector io.netty.channel.nio.SelectedSelectionKeySetSelector@4ea20da7.\n"
     ]
    },
    {
     "name": "stdout",
     "output_type": "stream",
     "text": [
      "CPU times: user 3.81 ms, sys: 0 ns, total: 3.81 ms\n",
      "Wall time: 278 ms\n"
     ]
    }
   ],
   "source": [
    "%%time\n",
    "spark.sparkContext.stop()\n"
   ]
  },
  {
   "cell_type": "code",
   "execution_count": null,
   "id": "214fe26b-01b3-481b-a709-9745b95881a2",
   "metadata": {},
   "outputs": [],
   "source": []
  }
 ],
 "metadata": {
  "kernelspec": {
   "display_name": "Python 3 (ipykernel)",
   "language": "python",
   "name": "python3"
  },
  "language_info": {
   "codemirror_mode": {
    "name": "ipython",
    "version": 3
   },
   "file_extension": ".py",
   "mimetype": "text/x-python",
   "name": "python",
   "nbconvert_exporter": "python",
   "pygments_lexer": "ipython3",
   "version": "3.9.2"
  }
 },
 "nbformat": 4,
 "nbformat_minor": 5
}
