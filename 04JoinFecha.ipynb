{
 "cells": [
  {
   "cell_type": "markdown",
   "id": "82f539c0-99bc-47f7-bd1e-4098afa2010b",
   "metadata": {},
   "source": [
    "## Ver cómo puedo cruzar por fecha aproximada"
   ]
  },
  {
   "cell_type": "code",
   "execution_count": 1,
   "id": "9809d572-83ea-498d-961c-b08593e7a424",
   "metadata": {},
   "outputs": [
    {
     "name": "stderr",
     "output_type": "stream",
     "text": [
      "Using Spark's default log4j profile: org/apache/spark/log4j-defaults.properties\n",
      "Setting default log level to \"WARN\".\n",
      "To adjust logging level use sc.setLogLevel(newLevel). For SparkR, use setLogLevel(newLevel).\n",
      "22/10/17 17:57:43 WARN NativeCodeLoader: Unable to load native-hadoop library for your platform... using builtin-java classes where applicable\n"
     ]
    },
    {
     "data": {
      "text/html": [
       "\n",
       "            <div>\n",
       "                <p><b>SparkSession - in-memory</b></p>\n",
       "                \n",
       "        <div>\n",
       "            <p><b>SparkContext</b></p>\n",
       "\n",
       "            <p><a href=\"http://642be5c1a932:4040\">Spark UI</a></p>\n",
       "\n",
       "            <dl>\n",
       "              <dt>Version</dt>\n",
       "                <dd><code>v3.2.1</code></dd>\n",
       "              <dt>Master</dt>\n",
       "                <dd><code>spark://spark-master:7077</code></dd>\n",
       "              <dt>AppName</dt>\n",
       "                <dd><code>ReadParquetYearMon16MM</code></dd>\n",
       "            </dl>\n",
       "        </div>\n",
       "        \n",
       "            </div>\n",
       "        "
      ],
      "text/plain": [
       "<pyspark.sql.session.SparkSession at 0x7f7a781d71c0>"
      ]
     },
     "execution_count": 1,
     "metadata": {},
     "output_type": "execute_result"
    }
   ],
   "source": [
    "\n",
    "import pyspark\n",
    "from pyspark.sql import SparkSession\n",
    "from pyspark.conf import SparkConf\n",
    "\n",
    "conf = (SparkConf().set(\"spark.executor.memory\", \"12g\")\n",
    "                    .set(\"spark.eventLog.enabled\", \"true\"))\n",
    "spark = SparkSession.builder.master(\"spark://spark-master:7077\").appName(\"ReadParquetYearMon16MM\").config(conf=conf).getOrCreate()\n",
    "spark"
   ]
  },
  {
   "cell_type": "code",
   "execution_count": 2,
   "id": "821c805d-ae05-4e05-8144-dde6d1ed4bf9",
   "metadata": {},
   "outputs": [
    {
     "name": "stdout",
     "output_type": "stream",
     "text": [
      "Inicio: Mon Oct 17 17:57:44 2022\n"
     ]
    }
   ],
   "source": [
    "import time\n",
    "print ('Inicio: '+time.strftime(\"%c\"))\n",
    "inicio = time.perf_counter()"
   ]
  },
  {
   "cell_type": "code",
   "execution_count": null,
   "id": "21680333-d2da-4460-b92d-869e172113a5",
   "metadata": {},
   "outputs": [
    {
     "name": "stdout",
     "output_type": "stream",
     "text": [
      "Primer mes: 2004-06\n",
      "Último mes: 2004-06\n"
     ]
    },
    {
     "name": "stderr",
     "output_type": "stream",
     "text": [
      "                                                                                \r"
     ]
    },
    {
     "name": "stdout",
     "output_type": "stream",
     "text": [
      "root\n",
      " |-- Id: string (nullable = true)\n",
      " |-- fecNac: string (nullable = true)\n",
      " |-- sex: string (nullable = true)\n",
      " |-- ingresos: integer (nullable = true)\n",
      " |-- partido: string (nullable = true)\n",
      " |-- edad: integer (nullable = true)\n",
      " |-- mapa: string (nullable = true)\n",
      " |-- yearMon: string (nullable = true)\n",
      "\n"
     ]
    }
   ],
   "source": [
    "from pyspark.sql.types import StructType\n",
    "from pyspark.sql.types import StringType,BooleanType,DateType,IntegerType\n",
    "from pyspark.sql.functions import sum, col, desc\n",
    "\n",
    "esquema = StructType() \\\n",
    "      .add(\"Id\",StringType(),True) \\\n",
    "      .add(\"fecNac\",StringType(),True) \\\n",
    "      .add(\"sex\",StringType(),True) \\\n",
    "      .add(\"ingresos\",IntegerType(),True) \\\n",
    "      .add(\"partido\",StringType(),True) \\\n",
    "      .add(\"edad\",IntegerType(),True) \\\n",
    "      .add(\"mapa\",StringType(),True)\n",
    "\n",
    "\"\"\"\n",
    " * Lectura de un rango de meses de un parquet particionado por año/mes:\n",
    "\"\"\"\n",
    "\n",
    "def listPartitions (anoMesFinal, meses, path):\n",
    "    lista = []\n",
    "    mes = int(anoMesFinal[-2:]) + 1\n",
    "    ano = int(anoMesFinal[:-3])\n",
    "    \n",
    "    print('Primer mes: '+anoMesFinal)\n",
    "    \n",
    "    for i in range(meses):\n",
    "        mes = mes - 1\n",
    "        if mes == 0:\n",
    "            ano = ano - 1\n",
    "            mes = 12\n",
    "        if mes < 10: anoMes = str(ano)+'-0'+str(mes)\n",
    "        else: anoMes = str(ano)+'-'+str(mes)\n",
    "        #print('Desde la función: '+str(i+1)+' - '+anoMes)\n",
    "\n",
    "        lista.append(path+anoMes)\n",
    "    print('Último mes: '+anoMes)\n",
    "    return lista\n",
    "\n",
    "df = spark.read.option(\"mergeSchema\", True).option(\"schema\", \"esquema\").option(\"basePath\", \"file:///opt/workspace/datos/fecNac/fakePeople800M.parquet/\")\\\n",
    "               .format(\"parquet\").load(listPartitions('2004-06', 1, './datos/fecNac/fakePeople800M.parquet/yearMon='))\n",
    "                                                                                                   \n",
    "df.printSchema()\n",
    "\n",
    "print(df.count())\n",
    "df.show()\n",
    "df.explain(extended=True)\n",
    "df.explain(mode='cost')\n"
   ]
  },
  {
   "cell_type": "code",
   "execution_count": null,
   "id": "e749d4d7-794f-41f9-bf4e-0ee7419c4c1d",
   "metadata": {},
   "outputs": [],
   "source": [
    "print ('Final: '+time.strftime(\"%c\"))\n",
    "final = time.perf_counter()\n",
    "print(f'Hecho en {round(final - inicio, 4)} segundo(s)')"
   ]
  },
  {
   "cell_type": "code",
   "execution_count": null,
   "id": "717a4684-2a98-45a5-b440-597b2d55a6ac",
   "metadata": {
    "tags": []
   },
   "outputs": [],
   "source": [
    "#df.groupBy('yearMon').count().sort(desc('yearMon')).show(200)"
   ]
  },
  {
   "cell_type": "code",
   "execution_count": null,
   "id": "85c4c4d5-05e8-4a19-9ef2-54676635d2e1",
   "metadata": {},
   "outputs": [],
   "source": [
    "esqPartF = StructType() \\\n",
    "      .add(\"partido\",StringType(),True) \\\n",
    "      .add(\"nombre\",StringType(),True) \\\n",
    "      .add(\"lider\",StringType(),True) \\\n",
    "      .add(\"fechaInicio\",StringType(),True) \\\n",
    "      .add(\"fechaFin\",StringType(),True)\n",
    "\n",
    "\n",
    "dfPartF = spark.read.csv(\"./datos/partidosFechas.csv\", sep=\";\", header = True, schema = esqPartF)\n",
    "\n",
    "dfPartF.show()"
   ]
  },
  {
   "cell_type": "code",
   "execution_count": null,
   "id": "dca188f5-f2eb-497a-a60e-ea59f27a7ee7",
   "metadata": {},
   "outputs": [],
   "source": [
    "dfJ = df.join(dfPartF, (df.partido == dfPartF.partido) & (df.fecNac >= dfPartF.fechaInicio) & (df.fecNac <= dfPartF.fechaFin), \"inner\").drop(dfPartF.partido)\n",
    "dfJ.show()\n",
    "dfJ.count()"
   ]
  },
  {
   "cell_type": "code",
   "execution_count": null,
   "id": "4d8a744d-7475-472c-8a2e-836c3db86951",
   "metadata": {},
   "outputs": [],
   "source": [
    "dfJ.filter('partido =\"VOX\"').show(200)"
   ]
  },
  {
   "cell_type": "code",
   "execution_count": null,
   "id": "a764e388-8593-4376-8a1b-0e94401d9a0b",
   "metadata": {},
   "outputs": [],
   "source": [
    "dfCruzan = dfJ.select(col(\"Id\"))\n",
    "dfCruzan.show()"
   ]
  },
  {
   "cell_type": "code",
   "execution_count": null,
   "id": "067b3c37-91ab-4c76-8011-d189dbbc2a79",
   "metadata": {},
   "outputs": [],
   "source": [
    "# Probando el left_anti. Nada que ver con la celda anterior\n",
    "dfKK = df.join(dfJ, df.Id == dfJ.Id, \"left_anti\")\n",
    "dfKK.show()"
   ]
  },
  {
   "cell_type": "code",
   "execution_count": null,
   "id": "0ec8eb33-81f4-455d-a173-077abce08e03",
   "metadata": {},
   "outputs": [],
   "source": [
    "dfKK.groupBy('partido').count().show()"
   ]
  },
  {
   "cell_type": "code",
   "execution_count": null,
   "id": "8ccddb1d-5bb4-4d1b-a6f3-b764bb3926ac",
   "metadata": {},
   "outputs": [],
   "source": [
    "spark.sparkContext.stop()\n",
    "print('Sacabao')"
   ]
  },
  {
   "cell_type": "code",
   "execution_count": null,
   "id": "ba7a936e-779c-4381-a4f4-1f521c191fd0",
   "metadata": {},
   "outputs": [],
   "source": []
  }
 ],
 "metadata": {
  "kernelspec": {
   "display_name": "Python 3 (ipykernel)",
   "language": "python",
   "name": "python3"
  },
  "language_info": {
   "codemirror_mode": {
    "name": "ipython",
    "version": 3
   },
   "file_extension": ".py",
   "mimetype": "text/x-python",
   "name": "python",
   "nbconvert_exporter": "python",
   "pygments_lexer": "ipython3",
   "version": "3.9.2"
  }
 },
 "nbformat": 4,
 "nbformat_minor": 5
}
