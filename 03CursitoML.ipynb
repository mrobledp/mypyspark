{
 "cells": [
  {
   "cell_type": "markdown",
   "id": "029ee3d9-45d2-4575-a0b4-0f524844509c",
   "metadata": {},
   "source": [
    "# Ejercicios del video https://www.youtube.com/watch?v=1N5FPhYkDiE"
   ]
  },
  {
   "cell_type": "code",
   "execution_count": 6,
   "id": "9809d572-83ea-498d-961c-b08593e7a424",
   "metadata": {},
   "outputs": [
    {
     "data": {
      "text/html": [
       "\n",
       "            <div>\n",
       "                <p><b>SparkSession - in-memory</b></p>\n",
       "                \n",
       "        <div>\n",
       "            <p><b>SparkContext</b></p>\n",
       "\n",
       "            <p><a href=\"http://f5fb0b75c0fa:4040\">Spark UI</a></p>\n",
       "\n",
       "            <dl>\n",
       "              <dt>Version</dt>\n",
       "                <dd><code>v3.2.1</code></dd>\n",
       "              <dt>Master</dt>\n",
       "                <dd><code>spark://spark-master:7077</code></dd>\n",
       "              <dt>AppName</dt>\n",
       "                <dd><code>PruebasVarias</code></dd>\n",
       "            </dl>\n",
       "        </div>\n",
       "        \n",
       "            </div>\n",
       "        "
      ],
      "text/plain": [
       "<pyspark.sql.session.SparkSession at 0x7f51183567c0>"
      ]
     },
     "execution_count": 6,
     "metadata": {},
     "output_type": "execute_result"
    }
   ],
   "source": [
    "### Probando con datos\n",
    "import pyspark\n",
    "from pyspark.sql import SparkSession\n",
    "from pyspark.conf import SparkConf\n",
    "\n",
    "conf = (SparkConf().set(\"spark.executor.memory\", \"6g\")   #<--- Por executor. Como hay dos instancias, la mitad por executor.\n",
    "                    .set(\"spark.executor.cores\", \"3\")    #<--- Por cada executor. Como hay 4, 4*3=12 cores se usan.\n",
    "                    .set(\"spark.executor.instances\", \"2\")\n",
    "                    .set(\"spark.eventLog.enabled\", \"true\"))\n",
    "spark = SparkSession.builder.master(\"spark://spark-master:7077\").appName(\"PruebasVarias\").config(conf=conf).getOrCreate()\n",
    "spark"
   ]
  },
  {
   "cell_type": "code",
   "execution_count": 7,
   "id": "21680333-d2da-4460-b92d-869e172113a5",
   "metadata": {},
   "outputs": [
    {
     "name": "stderr",
     "output_type": "stream",
     "text": [
      "                                                                                \r"
     ]
    },
    {
     "name": "stdout",
     "output_type": "stream",
     "text": [
      "root\n",
      " |-- Serial No.: string (nullable = true)\n",
      " |-- GRE Score: string (nullable = true)\n",
      " |-- TOEFL Score: string (nullable = true)\n",
      " |-- University Rating: string (nullable = true)\n",
      " |-- SOP: string (nullable = true)\n",
      " |-- LOR : string (nullable = true)\n",
      " |-- CGPA: string (nullable = true)\n",
      " |-- Research: string (nullable = true)\n",
      " |-- Chance of Admit : string (nullable = true)\n",
      "\n",
      "+----------+---------+-----------+-----------------+---+----+----+--------+----------------+\n",
      "|Serial No.|GRE Score|TOEFL Score|University Rating|SOP|LOR |CGPA|Research|Chance of Admit |\n",
      "+----------+---------+-----------+-----------------+---+----+----+--------+----------------+\n",
      "|         1|      337|        118|                4|4.5| 4.5|9.65|       1|            0.92|\n",
      "|         2|      324|        107|                4|  4| 4.5|8.87|       1|            0.76|\n",
      "|         3|      316|        104|                3|  3| 3.5|   8|       1|            0.72|\n",
      "|         4|      322|        110|                3|3.5| 2.5|8.67|       1|             0.8|\n",
      "|         5|      314|        103|                2|  2|   3|8.21|       0|            0.65|\n",
      "|         6|      330|        115|                5|4.5|   3|9.34|       1|             0.9|\n",
      "|         7|      321|        109|                3|  3|   4| 8.2|       1|            0.75|\n",
      "|         8|      308|        101|                2|  3|   4| 7.9|       0|            0.68|\n",
      "|         9|      302|        102|                1|  2| 1.5|   8|       0|             0.5|\n",
      "|        10|      323|        108|                3|3.5|   3| 8.6|       0|            0.45|\n",
      "|        11|      325|        106|                3|3.5|   4| 8.4|       1|            0.52|\n",
      "|        12|      327|        111|                4|  4| 4.5|   9|       1|            0.84|\n",
      "|        13|      328|        112|                4|  4| 4.5| 9.1|       1|            0.78|\n",
      "|        14|      307|        109|                3|  4|   3|   8|       1|            0.62|\n",
      "|        15|      311|        104|                3|3.5|   2| 8.2|       1|            0.61|\n",
      "|        16|      314|        105|                3|3.5| 2.5| 8.3|       0|            0.54|\n",
      "|        17|      317|        107|                3|  4|   3| 8.7|       0|            0.66|\n",
      "|        18|      319|        106|                3|  4|   3|   8|       1|            0.65|\n",
      "|        19|      318|        110|                3|  4|   3| 8.8|       0|            0.63|\n",
      "|        20|      303|        102|                3|3.5|   3| 8.5|       0|            0.62|\n",
      "+----------+---------+-----------+-----------------+---+----+----+--------+----------------+\n",
      "only showing top 20 rows\n",
      "\n",
      "+--------+---------+-----------+-----------------+---+----+----+--------+----------------+\n",
      "|numSerie|GRE Score|TOEFL Score|University Rating|SOP|LOR |CGPA|Research|Chance of Admit |\n",
      "+--------+---------+-----------+-----------------+---+----+----+--------+----------------+\n",
      "|       0|        0|          0|                0|  0|   0|   0|       0|               0|\n",
      "+--------+---------+-----------+-----------------+---+----+----+--------+----------------+\n",
      "\n",
      "None\n",
      "CPU times: user 7.14 ms, sys: 8.38 ms, total: 15.5 ms\n",
      "Wall time: 1.74 s\n"
     ]
    }
   ],
   "source": [
    "%%time\n",
    "from pyspark.sql.types import StructType\n",
    "from pyspark.sql.types import StringType,BooleanType,DateType,IntegerType\n",
    "#from pyspark.sql.functions import sum, col, desc, when, lit\n",
    "from pyspark.sql.functions import *\n",
    "\n",
    "df = spark.read.csv('./datos/Admission_Predict.csv', header=True)\n",
    "\n",
    "df.printSchema()\n",
    "\n",
    "df.show()\n",
    "# Cambio el nombre a la columna porque da error al aplicar funciones sobre la columna:\n",
    "df =df.withColumnRenamed('Serial No.','numSerie')\n",
    "\n",
    "#Cuenta cuántos nan or null hay en cada columna:\n",
    "\n",
    "print(df.select([count(when(isnan(c) | col(c).isNull(), c)).alias(c) for c in df.columns]).show())\n"
   ]
  },
  {
   "cell_type": "markdown",
   "id": "b494fe5b-4ffe-486c-9caa-364e2aa870f2",
   "metadata": {},
   "source": [
    "### Convierte los strings a float"
   ]
  },
  {
   "cell_type": "code",
   "execution_count": 10,
   "id": "2d4fa2e9-8ea5-4afc-9e21-6ddb9f64c3c9",
   "metadata": {},
   "outputs": [
    {
     "name": "stdout",
     "output_type": "stream",
     "text": [
      "root\n",
      " |-- numSerie: float (nullable = true)\n",
      " |-- GRE Score: float (nullable = true)\n",
      " |-- TOEFL Score: float (nullable = true)\n",
      " |-- University Rating: float (nullable = true)\n",
      " |-- SOP: float (nullable = true)\n",
      " |-- LOR : float (nullable = true)\n",
      " |-- CGPA: float (nullable = true)\n",
      " |-- Research: float (nullable = true)\n",
      " |-- Chance of Admit : float (nullable = true)\n",
      "\n"
     ]
    },
    {
     "name": "stderr",
     "output_type": "stream",
     "text": [
      "[Stage 5:>                                                          (0 + 1) / 1]\r"
     ]
    },
    {
     "name": "stdout",
     "output_type": "stream",
     "text": [
      "+--------+---------+-----------+-----------------+---+----+----+--------+----------------+\n",
      "|numSerie|GRE Score|TOEFL Score|University Rating|SOP|LOR |CGPA|Research|Chance of Admit |\n",
      "+--------+---------+-----------+-----------------+---+----+----+--------+----------------+\n",
      "|     1.0|    337.0|      118.0|              4.0|4.5| 4.5|9.65|     1.0|            0.92|\n",
      "|     2.0|    324.0|      107.0|              4.0|4.0| 4.5|8.87|     1.0|            0.76|\n",
      "|     3.0|    316.0|      104.0|              3.0|3.0| 3.5| 8.0|     1.0|            0.72|\n",
      "|     4.0|    322.0|      110.0|              3.0|3.5| 2.5|8.67|     1.0|             0.8|\n",
      "|     5.0|    314.0|      103.0|              2.0|2.0| 3.0|8.21|     0.0|            0.65|\n",
      "|     6.0|    330.0|      115.0|              5.0|4.5| 3.0|9.34|     1.0|             0.9|\n",
      "|     7.0|    321.0|      109.0|              3.0|3.0| 4.0| 8.2|     1.0|            0.75|\n",
      "|     8.0|    308.0|      101.0|              2.0|3.0| 4.0| 7.9|     0.0|            0.68|\n",
      "|     9.0|    302.0|      102.0|              1.0|2.0| 1.5| 8.0|     0.0|             0.5|\n",
      "|    10.0|    323.0|      108.0|              3.0|3.5| 3.0| 8.6|     0.0|            0.45|\n",
      "|    11.0|    325.0|      106.0|              3.0|3.5| 4.0| 8.4|     1.0|            0.52|\n",
      "|    12.0|    327.0|      111.0|              4.0|4.0| 4.5| 9.0|     1.0|            0.84|\n",
      "|    13.0|    328.0|      112.0|              4.0|4.0| 4.5| 9.1|     1.0|            0.78|\n",
      "|    14.0|    307.0|      109.0|              3.0|4.0| 3.0| 8.0|     1.0|            0.62|\n",
      "|    15.0|    311.0|      104.0|              3.0|3.5| 2.0| 8.2|     1.0|            0.61|\n",
      "|    16.0|    314.0|      105.0|              3.0|3.5| 2.5| 8.3|     0.0|            0.54|\n",
      "|    17.0|    317.0|      107.0|              3.0|4.0| 3.0| 8.7|     0.0|            0.66|\n",
      "|    18.0|    319.0|      106.0|              3.0|4.0| 3.0| 8.0|     1.0|            0.65|\n",
      "|    19.0|    318.0|      110.0|              3.0|4.0| 3.0| 8.8|     0.0|            0.63|\n",
      "|    20.0|    303.0|      102.0|              3.0|3.5| 3.0| 8.5|     0.0|            0.62|\n",
      "+--------+---------+-----------+-----------------+---+----+----+--------+----------------+\n",
      "only showing top 20 rows\n",
      "\n"
     ]
    },
    {
     "name": "stderr",
     "output_type": "stream",
     "text": [
      "                                                                                \r"
     ]
    }
   ],
   "source": [
    "%%time\n",
    "\n",
    "df_new = df.select([col(c).cast('float').alias(c) for c in df.columns])\n",
    "df_new.printSchema()\n",
    "df_new.show()"
   ]
  },
  {
   "cell_type": "code",
   "execution_count": null,
   "id": "e749d4d7-794f-41f9-bf4e-0ee7419c4c1d",
   "metadata": {},
   "outputs": [],
   "source": [
    "\n"
   ]
  },
  {
   "cell_type": "code",
   "execution_count": null,
   "id": "8ccddb1d-5bb4-4d1b-a6f3-b764bb3926ac",
   "metadata": {},
   "outputs": [],
   "source": [
    "spark.sparkContext.stop()\n",
    "print('Sacabao')"
   ]
  }
 ],
 "metadata": {
  "kernelspec": {
   "display_name": "Python 3 (ipykernel)",
   "language": "python",
   "name": "python3"
  },
  "language_info": {
   "codemirror_mode": {
    "name": "ipython",
    "version": 3
   },
   "file_extension": ".py",
   "mimetype": "text/x-python",
   "name": "python",
   "nbconvert_exporter": "python",
   "pygments_lexer": "ipython3",
   "version": "3.9.2"
  }
 },
 "nbformat": 4,
 "nbformat_minor": 5
}
